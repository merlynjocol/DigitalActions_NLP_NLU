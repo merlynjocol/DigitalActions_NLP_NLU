{
  "nbformat": 4,
  "nbformat_minor": 0,
  "metadata": {
    "colab": {
      "provenance": [],
      "toc_visible": true,
      "authorship_tag": "ABX9TyMuhVbLNGzA5WdKdrabk9C6",
      "include_colab_link": true
    },
    "kernelspec": {
      "name": "python3",
      "display_name": "Python 3"
    },
    "language_info": {
      "name": "python"
    }
  },
  "cells": [
    {
      "cell_type": "markdown",
      "metadata": {
        "id": "view-in-github",
        "colab_type": "text"
      },
      "source": [
        "<a href=\"https://colab.research.google.com/github/merlynjocol/DigitalActions_NLP_NLU/blob/main/NLP_Heidi_Exploratory_Data.ipynb\" target=\"_parent\"><img src=\"https://colab.research.google.com/assets/colab-badge.svg\" alt=\"Open In Colab\"/></a>"
      ]
    },
    {
      "cell_type": "markdown",
      "source": [
        "# 🔷 Exploratory Text Analysis "
      ],
      "metadata": {
        "id": "G08Ec_LKvUcw"
      }
    },
    {
      "cell_type": "markdown",
      "source": [
        "# 🔷 Definig the NLP tools to use in the Data Exploration\n",
        "\n",
        "In this process I will be used SpaCy library. It's a library mosty used in the industry, more than NLTK. However can be use in combination of other libraries, depending on the task you want to solve. \n",
        "Advantages of SpaCy: \n",
        "\n",
        "NLTK was built by scholars and researchers as a tool who want to build something from the ground up or provide a functioning model of their thesis. In contrast, spaCy is similar to a service: it helps you get specific tasks done.\n",
        "\n",
        "SpaCy, on the other hand, is the way to go for app developers. While NLTK provides access to many algorithms to get something done, spaCy provides the best way to do it. It provides the fastest and most accurate syntactic analysis of any NLP library released to date. It also offers access to larger word vectors that are easier to customize. For an app builder mindset that prioritizes getting features done, spaCy would be the better choice.\n",
        "\n",
        "spaCy’s performance is better, is atributed to the fact that it was written in Cython from the ground up.\n"
      ],
      "metadata": {
        "id": "yywha8R02hQ9"
      }
    },
    {
      "cell_type": "markdown",
      "source": [
        "Documentation and Tutorial Spacy\n",
        "- https://spacy.io/usage/spacy-101\n",
        "\n",
        "Simmilarities docs\n",
        "- https://spacy.io/universe/project/spacy-sentence-bert"
      ],
      "metadata": {
        "id": "VYMnZFrFUHOf"
      }
    },
    {
      "cell_type": "markdown",
      "source": [
        "# 🔷 Importing Libraries"
      ],
      "metadata": {
        "id": "zEjwOYLg6fSN"
      }
    },
    {
      "cell_type": "code",
      "source": [
        "!pip install pandas"
      ],
      "metadata": {
        "colab": {
          "base_uri": "https://localhost:8080/"
        },
        "id": "u5g0_OfOAybP",
        "outputId": "28ee2973-928b-46e4-d85c-ed7d822442ac"
      },
      "execution_count": null,
      "outputs": [
        {
          "output_type": "stream",
          "name": "stdout",
          "text": [
            "Requirement already satisfied: pandas in /usr/local/lib/python3.7/dist-packages (1.1.5)\n",
            "Requirement already satisfied: pytz>=2017.2 in /usr/local/lib/python3.7/dist-packages (from pandas) (2018.9)\n",
            "Requirement already satisfied: numpy>=1.15.4 in /usr/local/lib/python3.7/dist-packages (from pandas) (1.19.5)\n",
            "Requirement already satisfied: python-dateutil>=2.7.3 in /usr/local/lib/python3.7/dist-packages (from pandas) (2.8.2)\n",
            "Requirement already satisfied: six>=1.5 in /usr/local/lib/python3.7/dist-packages (from python-dateutil>=2.7.3->pandas) (1.15.0)\n"
          ]
        }
      ]
    },
    {
      "cell_type": "code",
      "source": [
        "import pandas as pd\n",
        "pd.__version__"
      ],
      "metadata": {
        "colab": {
          "base_uri": "https://localhost:8080/",
          "height": 36
        },
        "id": "ACm_7DzZBez7",
        "outputId": "8dce6521-352e-4863-d03f-2862c3717cb9"
      },
      "execution_count": null,
      "outputs": [
        {
          "output_type": "execute_result",
          "data": {
            "application/vnd.google.colaboratory.intrinsic+json": {
              "type": "string"
            },
            "text/plain": [
              "'1.1.5'"
            ]
          },
          "metadata": {},
          "execution_count": 3
        }
      ]
    },
    {
      "cell_type": "code",
      "source": [
        "import pandas as pd\n",
        "from pandas import DataFrame\n",
        "\n",
        "import spacy\n",
        "\n",
        "# to avoid the visualization of warnings\n",
        "import warnings\n",
        "warnings.filterwarnings(\"ignore\",category=DeprecationWarning)"
      ],
      "metadata": {
        "id": "BCfmKd9J6efY"
      },
      "execution_count": null,
      "outputs": []
    },
    {
      "cell_type": "code",
      "source": [
        "# load spacy with large English model\n",
        "# nlp = spacy.load(\"en-core-web-lg\") -- was working on Windows, but now on a Mac\n",
        "nlp = spacy.load(\"en_core_web_sm\")"
      ],
      "metadata": {
        "id": "FlXxgNgRx_CK"
      },
      "execution_count": null,
      "outputs": []
    },
    {
      "cell_type": "markdown",
      "source": [
        "the second line above is a download for language resources (models, etc.) and the _sm at the end of the download's name indicates a \"small\" model. There's also \"medium\" and \"large\", albeit those are quite large. Some of the more advanced features depend on the latter (https://spacy.io/models/en)"
      ],
      "metadata": {
        "id": "fZh6D00yAVCH"
      }
    },
    {
      "cell_type": "markdown",
      "source": [
        "Now let's load spaCy and run some code:"
      ],
      "metadata": {
        "id": "NGKlhcONAnbm"
      }
    },
    {
      "cell_type": "markdown",
      "source": [
        "## Importing Files from GitHub"
      ],
      "metadata": {
        "id": "_ifwQvWjEAea"
      }
    },
    {
      "cell_type": "code",
      "source": [
        "# import files from Google Drive\n",
        "from google.colab import drive\n",
        "drive.mount('/gdrive', force_remount=True)"
      ],
      "metadata": {
        "colab": {
          "base_uri": "https://localhost:8080/"
        },
        "id": "KE8CQMjJ-KwG",
        "outputId": "c2a14635-68d6-4b2d-e9a1-d54ce779cb04"
      },
      "execution_count": null,
      "outputs": [
        {
          "output_type": "stream",
          "name": "stdout",
          "text": [
            "Mounted at /gdrive\n"
          ]
        }
      ]
    },
    {
      "cell_type": "code",
      "source": [
        "# download data from github docs_csguide.csv\n",
        "url =\"https://github.com/merlynjocol/DigitalActions_NLP_NLU/blob/main/Datasets/docs_csguide.csv?raw=true\""
      ],
      "metadata": {
        "id": "K9N5xKpPAA64"
      },
      "execution_count": null,
      "outputs": []
    },
    {
      "cell_type": "code",
      "source": [
        "docs_csguide = pd.read_csv(url)"
      ],
      "metadata": {
        "id": "ltsU83t_Bq06"
      },
      "execution_count": null,
      "outputs": []
    },
    {
      "cell_type": "code",
      "source": [
        "docs_csguide"
      ],
      "metadata": {
        "id": "mciAkSD3Dybz",
        "outputId": "e2a943a0-c6a3-42fe-8233-cef3aa0bf0dc",
        "colab": {
          "base_uri": "https://localhost:8080/",
          "height": 165
        }
      },
      "execution_count": null,
      "outputs": [
        {
          "output_type": "error",
          "ename": "NameError",
          "evalue": "ignored",
          "traceback": [
            "\u001b[0;31m---------------------------------------------------------------------------\u001b[0m",
            "\u001b[0;31mNameError\u001b[0m                                 Traceback (most recent call last)",
            "\u001b[0;32m<ipython-input-1-4ec5a48810b7>\u001b[0m in \u001b[0;36m<module>\u001b[0;34m()\u001b[0m\n\u001b[0;32m----> 1\u001b[0;31m \u001b[0mdocs_csguide\u001b[0m\u001b[0;34m\u001b[0m\u001b[0;34m\u001b[0m\u001b[0m\n\u001b[0m",
            "\u001b[0;31mNameError\u001b[0m: name 'docs_csguide' is not defined"
          ]
        }
      ]
    },
    {
      "cell_type": "code",
      "source": [
        "docs_csguide.head(2)"
      ],
      "metadata": {
        "colab": {
          "base_uri": "https://localhost:8080/",
          "height": 366
        },
        "id": "EPqCgvW2CEvO",
        "outputId": "51dd36cc-57bc-4fc3-a50e-9018bbba5a70"
      },
      "execution_count": null,
      "outputs": [
        {
          "output_type": "execute_result",
          "data": {
            "text/html": [
              "\n",
              "  <div id=\"df-a22f57ff-13f1-49de-b822-e74bb193c016\">\n",
              "    <div class=\"colab-df-container\">\n",
              "      <div>\n",
              "<style scoped>\n",
              "    .dataframe tbody tr th:only-of-type {\n",
              "        vertical-align: middle;\n",
              "    }\n",
              "\n",
              "    .dataframe tbody tr th {\n",
              "        vertical-align: top;\n",
              "    }\n",
              "\n",
              "    .dataframe thead th {\n",
              "        text-align: right;\n",
              "    }\n",
              "</style>\n",
              "<table border=\"1\" class=\"dataframe\">\n",
              "  <thead>\n",
              "    <tr style=\"text-align: right;\">\n",
              "      <th></th>\n",
              "      <th>Unnamed: 0</th>\n",
              "      <th>linkDrive</th>\n",
              "      <th>text</th>\n",
              "      <th>URLs</th>\n",
              "      <th>count_URLs</th>\n",
              "      <th>clean_meaning</th>\n",
              "      <th>pre_cleantext</th>\n",
              "      <th>cleanText</th>\n",
              "    </tr>\n",
              "  </thead>\n",
              "  <tbody>\n",
              "    <tr>\n",
              "      <th>0</th>\n",
              "      <td>0</td>\n",
              "      <td>/gdrive/MyDrive/Colab Notebooks/HEIDI_docs_rep...</td>\n",
              "      <td>A Framework for Articulating and Measuring Ind...</td>\n",
              "      <td>['https://doi.org/10.5334/cstp.126', 'https://...</td>\n",
              "      <td>19</td>\n",
              "      <td>A Framework for Articulating and Measuring Ind...</td>\n",
              "      <td>a framework for articulating and measuring ind...</td>\n",
              "      <td>framework articulating measuring individual le...</td>\n",
              "    </tr>\n",
              "    <tr>\n",
              "      <th>1</th>\n",
              "      <td>1</td>\n",
              "      <td>/gdrive/MyDrive/Colab Notebooks/HEIDI_docs_rep...</td>\n",
              "      <td>What do volunteers want from citizen science t...</td>\n",
              "      <td>['https://doi.org/10.22323/2.18010202DOI', 'ht...</td>\n",
              "      <td>44</td>\n",
              "      <td>What do volunteers want from citizen science t...</td>\n",
              "      <td>what do volunteers want from citizen science t...</td>\n",
              "      <td>volunteers want citizen science technologies s...</td>\n",
              "    </tr>\n",
              "  </tbody>\n",
              "</table>\n",
              "</div>\n",
              "      <button class=\"colab-df-convert\" onclick=\"convertToInteractive('df-a22f57ff-13f1-49de-b822-e74bb193c016')\"\n",
              "              title=\"Convert this dataframe to an interactive table.\"\n",
              "              style=\"display:none;\">\n",
              "        \n",
              "  <svg xmlns=\"http://www.w3.org/2000/svg\" height=\"24px\"viewBox=\"0 0 24 24\"\n",
              "       width=\"24px\">\n",
              "    <path d=\"M0 0h24v24H0V0z\" fill=\"none\"/>\n",
              "    <path d=\"M18.56 5.44l.94 2.06.94-2.06 2.06-.94-2.06-.94-.94-2.06-.94 2.06-2.06.94zm-11 1L8.5 8.5l.94-2.06 2.06-.94-2.06-.94L8.5 2.5l-.94 2.06-2.06.94zm10 10l.94 2.06.94-2.06 2.06-.94-2.06-.94-.94-2.06-.94 2.06-2.06.94z\"/><path d=\"M17.41 7.96l-1.37-1.37c-.4-.4-.92-.59-1.43-.59-.52 0-1.04.2-1.43.59L10.3 9.45l-7.72 7.72c-.78.78-.78 2.05 0 2.83L4 21.41c.39.39.9.59 1.41.59.51 0 1.02-.2 1.41-.59l7.78-7.78 2.81-2.81c.8-.78.8-2.07 0-2.86zM5.41 20L4 18.59l7.72-7.72 1.47 1.35L5.41 20z\"/>\n",
              "  </svg>\n",
              "      </button>\n",
              "      \n",
              "  <style>\n",
              "    .colab-df-container {\n",
              "      display:flex;\n",
              "      flex-wrap:wrap;\n",
              "      gap: 12px;\n",
              "    }\n",
              "\n",
              "    .colab-df-convert {\n",
              "      background-color: #E8F0FE;\n",
              "      border: none;\n",
              "      border-radius: 50%;\n",
              "      cursor: pointer;\n",
              "      display: none;\n",
              "      fill: #1967D2;\n",
              "      height: 32px;\n",
              "      padding: 0 0 0 0;\n",
              "      width: 32px;\n",
              "    }\n",
              "\n",
              "    .colab-df-convert:hover {\n",
              "      background-color: #E2EBFA;\n",
              "      box-shadow: 0px 1px 2px rgba(60, 64, 67, 0.3), 0px 1px 3px 1px rgba(60, 64, 67, 0.15);\n",
              "      fill: #174EA6;\n",
              "    }\n",
              "\n",
              "    [theme=dark] .colab-df-convert {\n",
              "      background-color: #3B4455;\n",
              "      fill: #D2E3FC;\n",
              "    }\n",
              "\n",
              "    [theme=dark] .colab-df-convert:hover {\n",
              "      background-color: #434B5C;\n",
              "      box-shadow: 0px 1px 3px 1px rgba(0, 0, 0, 0.15);\n",
              "      filter: drop-shadow(0px 1px 2px rgba(0, 0, 0, 0.3));\n",
              "      fill: #FFFFFF;\n",
              "    }\n",
              "  </style>\n",
              "\n",
              "      <script>\n",
              "        const buttonEl =\n",
              "          document.querySelector('#df-a22f57ff-13f1-49de-b822-e74bb193c016 button.colab-df-convert');\n",
              "        buttonEl.style.display =\n",
              "          google.colab.kernel.accessAllowed ? 'block' : 'none';\n",
              "\n",
              "        async function convertToInteractive(key) {\n",
              "          const element = document.querySelector('#df-a22f57ff-13f1-49de-b822-e74bb193c016');\n",
              "          const dataTable =\n",
              "            await google.colab.kernel.invokeFunction('convertToInteractive',\n",
              "                                                     [key], {});\n",
              "          if (!dataTable) return;\n",
              "\n",
              "          const docLinkHtml = 'Like what you see? Visit the ' +\n",
              "            '<a target=\"_blank\" href=https://colab.research.google.com/notebooks/data_table.ipynb>data table notebook</a>'\n",
              "            + ' to learn more about interactive tables.';\n",
              "          element.innerHTML = '';\n",
              "          dataTable['output_type'] = 'display_data';\n",
              "          await google.colab.output.renderOutput(dataTable, element);\n",
              "          const docLink = document.createElement('div');\n",
              "          docLink.innerHTML = docLinkHtml;\n",
              "          element.appendChild(docLink);\n",
              "        }\n",
              "      </script>\n",
              "    </div>\n",
              "  </div>\n",
              "  "
            ],
            "text/plain": [
              "   Unnamed: 0  ...                                          cleanText\n",
              "0           0  ...  framework articulating measuring individual le...\n",
              "1           1  ...  volunteers want citizen science technologies s...\n",
              "\n",
              "[2 rows x 8 columns]"
            ]
          },
          "metadata": {},
          "execution_count": 8
        }
      ]
    },
    {
      "cell_type": "code",
      "source": [
        "docs_csguide.info()"
      ],
      "metadata": {
        "colab": {
          "base_uri": "https://localhost:8080/"
        },
        "id": "-RZpq2YADbFu",
        "outputId": "238c3e7e-dbb5-49f5-c3a5-4792df430414"
      },
      "execution_count": null,
      "outputs": [
        {
          "output_type": "stream",
          "name": "stdout",
          "text": [
            "<class 'pandas.core.frame.DataFrame'>\n",
            "RangeIndex: 22 entries, 0 to 21\n",
            "Data columns (total 8 columns):\n",
            " #   Column         Non-Null Count  Dtype \n",
            "---  ------         --------------  ----- \n",
            " 0   Unnamed: 0     22 non-null     int64 \n",
            " 1   linkDrive      22 non-null     object\n",
            " 2   text           22 non-null     object\n",
            " 3   URLs           22 non-null     object\n",
            " 4   count_URLs     22 non-null     int64 \n",
            " 5   clean_meaning  22 non-null     object\n",
            " 6   pre_cleantext  22 non-null     object\n",
            " 7   cleanText      22 non-null     object\n",
            "dtypes: int64(2), object(6)\n",
            "memory usage: 1.5+ KB\n"
          ]
        }
      ]
    },
    {
      "cell_type": "markdown",
      "source": [
        "## Variables \n",
        "\n",
        "- *linkDrive:* the filelink in Google Drive Folder\n",
        "- *text:* is the text after extract from the reports and articles\n",
        "- *URL's*: Contain all the URL's in each document\n",
        "- *clean_meaning*: contain the text after process specific words to avoidn loose the meaning after the cleaning. eg co-design. Also this text doesn't contain URL and emails. Contain puntuation, Uppercase and numbers\n",
        "- *pre_cleantext*: is a specific cleaning of characters and words. Not contain puntuation and numbers. All text is in lowercase\n",
        "- cleanText: Text all clean preapre for Topic Modelling"
      ],
      "metadata": {
        "id": "ezDnRTFVCMO-"
      }
    },
    {
      "cell_type": "markdown",
      "source": [
        "# 🔷 Process all directory files with spacy\n",
        "\n",
        "\n",
        "\n",
        "\n"
      ],
      "metadata": {
        "id": "hn2XaMR1zL46"
      }
    },
    {
      "cell_type": "markdown",
      "source": [
        "### Creating the container (NLP)\n",
        "\n",
        "First we created a doc from the text, which is a container for a document and all of its annotations. Then we iterated through the document to see what spaCy had parsed.\n",
        "\n",
        "---\n",
        "\n"
      ],
      "metadata": {
        "id": "VGCN7Kc_ApU1"
      }
    },
    {
      "cell_type": "markdown",
      "source": [
        "*Let*'s run each document through the natural language parser (nlp variable)!:\n",
        "\n"
      ],
      "metadata": {
        "id": "fKebAEYRzmvB"
      }
    },
    {
      "cell_type": "code",
      "source": [
        "# helper function to process documents in an apply function and return the nlp object\n",
        "def processDoc(doc):\n",
        "    return nlp(doc)"
      ],
      "metadata": {
        "id": "CYRQJRffx2Hy"
      },
      "execution_count": null,
      "outputs": []
    },
    {
      "cell_type": "markdown",
      "source": [
        "\n",
        "\n",
        "\n",
        "The column \"NLP\" is a container for each document and all of its annotations. It need to be done before to process the text"
      ],
      "metadata": {
        "id": "5YtpktvU0A4x"
      }
    },
    {
      "cell_type": "code",
      "source": [
        "%%time\n",
        "docs_csguide['NLP']=docs_csguide['cleanText'].apply(processDoc)"
      ],
      "metadata": {
        "id": "NAxp-uAZxlnl",
        "colab": {
          "base_uri": "https://localhost:8080/"
        },
        "outputId": "ab607a06-61fc-4e32-af40-b64f40938bea"
      },
      "execution_count": null,
      "outputs": [
        {
          "output_type": "stream",
          "name": "stdout",
          "text": [
            "CPU times: user 24.1 s, sys: 914 ms, total: 25 s\n",
            "Wall time: 25 s\n"
          ]
        }
      ]
    },
    {
      "cell_type": "code",
      "source": [
        "# Creating the colums with singles words\n",
        "docs_csguide['text_word_count'] = docs_csguide['text'].apply(lambda x: len(x.strip().split()))  # word count\n",
        "docs_csguide['text_unique_words']=docs_csguide['text'].apply(lambda x:len(set(str(x).split())))  # number of unique words\n",
        "docs_csguide['clean_word_count'] = docs_csguide['cleanText'].apply(lambda x: len(x.strip().split()))  # word count\n",
        "docs_csguide['clean_unique_words']=docs_csguide['cleanText'].apply(lambda x:len(set(str(x).split())))  # number of unique words\n"
      ],
      "metadata": {
        "id": "BemLIDzU1bz_"
      },
      "execution_count": null,
      "outputs": []
    },
    {
      "cell_type": "markdown",
      "source": [
        "## Total of words in the analysis"
      ],
      "metadata": {
        "id": "uvtyfo2EyIuh"
      }
    },
    {
      "cell_type": "code",
      "source": [
        "totalWords = docs_csguide['text_word_count'].sum()\n",
        "uniqueWords = docs_csguide['text_unique_words'].sum()\n",
        "print (\"Total Words:\", totalWords)\n",
        "print (\"Total Unique Words:\", uniqueWords )"
      ],
      "metadata": {
        "colab": {
          "base_uri": "https://localhost:8080/"
        },
        "id": "PRd77B2zUaCh",
        "outputId": "dda4be97-9b06-4208-c0e3-6593ffc54b04"
      },
      "execution_count": null,
      "outputs": [
        {
          "output_type": "stream",
          "name": "stdout",
          "text": [
            "Total Words: 278920\n",
            "Total Unique Words: 65336\n"
          ]
        }
      ]
    },
    {
      "cell_type": "code",
      "source": [
        "docs_csguide.describe()"
      ],
      "metadata": {
        "id": "LBvapuKI2R4C",
        "colab": {
          "base_uri": "https://localhost:8080/",
          "height": 300
        },
        "outputId": "b7c91a42-136f-4b57-a7db-01c6fc4c6127"
      },
      "execution_count": null,
      "outputs": [
        {
          "output_type": "execute_result",
          "data": {
            "text/html": [
              "\n",
              "  <div id=\"df-5c1860a2-2bdb-4ff6-8fef-13f12f714339\">\n",
              "    <div class=\"colab-df-container\">\n",
              "      <div>\n",
              "<style scoped>\n",
              "    .dataframe tbody tr th:only-of-type {\n",
              "        vertical-align: middle;\n",
              "    }\n",
              "\n",
              "    .dataframe tbody tr th {\n",
              "        vertical-align: top;\n",
              "    }\n",
              "\n",
              "    .dataframe thead th {\n",
              "        text-align: right;\n",
              "    }\n",
              "</style>\n",
              "<table border=\"1\" class=\"dataframe\">\n",
              "  <thead>\n",
              "    <tr style=\"text-align: right;\">\n",
              "      <th></th>\n",
              "      <th>Unnamed: 0</th>\n",
              "      <th>count_URLs</th>\n",
              "      <th>text_word_count</th>\n",
              "      <th>text_unique_words</th>\n",
              "      <th>clean_word_count</th>\n",
              "      <th>clean_unique_words</th>\n",
              "    </tr>\n",
              "  </thead>\n",
              "  <tbody>\n",
              "    <tr>\n",
              "      <th>count</th>\n",
              "      <td>22.000000</td>\n",
              "      <td>22.000000</td>\n",
              "      <td>22.000000</td>\n",
              "      <td>22.000000</td>\n",
              "      <td>22.000000</td>\n",
              "      <td>22.000000</td>\n",
              "    </tr>\n",
              "    <tr>\n",
              "      <th>mean</th>\n",
              "      <td>5.727273</td>\n",
              "      <td>64.727273</td>\n",
              "      <td>12678.181818</td>\n",
              "      <td>2969.818182</td>\n",
              "      <td>7280.000000</td>\n",
              "      <td>1734.954545</td>\n",
              "    </tr>\n",
              "    <tr>\n",
              "      <th>std</th>\n",
              "      <td>4.278204</td>\n",
              "      <td>73.689297</td>\n",
              "      <td>13375.727201</td>\n",
              "      <td>1690.665539</td>\n",
              "      <td>7120.135639</td>\n",
              "      <td>811.260306</td>\n",
              "    </tr>\n",
              "    <tr>\n",
              "      <th>min</th>\n",
              "      <td>0.000000</td>\n",
              "      <td>1.000000</td>\n",
              "      <td>2746.000000</td>\n",
              "      <td>979.000000</td>\n",
              "      <td>1377.000000</td>\n",
              "      <td>591.000000</td>\n",
              "    </tr>\n",
              "    <tr>\n",
              "      <th>25%</th>\n",
              "      <td>2.250000</td>\n",
              "      <td>11.000000</td>\n",
              "      <td>5566.750000</td>\n",
              "      <td>1874.250000</td>\n",
              "      <td>3688.250000</td>\n",
              "      <td>1163.250000</td>\n",
              "    </tr>\n",
              "    <tr>\n",
              "      <th>50%</th>\n",
              "      <td>5.000000</td>\n",
              "      <td>33.000000</td>\n",
              "      <td>9397.000000</td>\n",
              "      <td>2533.000000</td>\n",
              "      <td>5527.000000</td>\n",
              "      <td>1534.000000</td>\n",
              "    </tr>\n",
              "    <tr>\n",
              "      <th>75%</th>\n",
              "      <td>8.750000</td>\n",
              "      <td>100.000000</td>\n",
              "      <td>11072.750000</td>\n",
              "      <td>3300.750000</td>\n",
              "      <td>6826.000000</td>\n",
              "      <td>2008.000000</td>\n",
              "    </tr>\n",
              "    <tr>\n",
              "      <th>max</th>\n",
              "      <td>14.000000</td>\n",
              "      <td>251.000000</td>\n",
              "      <td>61886.000000</td>\n",
              "      <td>7750.000000</td>\n",
              "      <td>32871.000000</td>\n",
              "      <td>3849.000000</td>\n",
              "    </tr>\n",
              "  </tbody>\n",
              "</table>\n",
              "</div>\n",
              "      <button class=\"colab-df-convert\" onclick=\"convertToInteractive('df-5c1860a2-2bdb-4ff6-8fef-13f12f714339')\"\n",
              "              title=\"Convert this dataframe to an interactive table.\"\n",
              "              style=\"display:none;\">\n",
              "        \n",
              "  <svg xmlns=\"http://www.w3.org/2000/svg\" height=\"24px\"viewBox=\"0 0 24 24\"\n",
              "       width=\"24px\">\n",
              "    <path d=\"M0 0h24v24H0V0z\" fill=\"none\"/>\n",
              "    <path d=\"M18.56 5.44l.94 2.06.94-2.06 2.06-.94-2.06-.94-.94-2.06-.94 2.06-2.06.94zm-11 1L8.5 8.5l.94-2.06 2.06-.94-2.06-.94L8.5 2.5l-.94 2.06-2.06.94zm10 10l.94 2.06.94-2.06 2.06-.94-2.06-.94-.94-2.06-.94 2.06-2.06.94z\"/><path d=\"M17.41 7.96l-1.37-1.37c-.4-.4-.92-.59-1.43-.59-.52 0-1.04.2-1.43.59L10.3 9.45l-7.72 7.72c-.78.78-.78 2.05 0 2.83L4 21.41c.39.39.9.59 1.41.59.51 0 1.02-.2 1.41-.59l7.78-7.78 2.81-2.81c.8-.78.8-2.07 0-2.86zM5.41 20L4 18.59l7.72-7.72 1.47 1.35L5.41 20z\"/>\n",
              "  </svg>\n",
              "      </button>\n",
              "      \n",
              "  <style>\n",
              "    .colab-df-container {\n",
              "      display:flex;\n",
              "      flex-wrap:wrap;\n",
              "      gap: 12px;\n",
              "    }\n",
              "\n",
              "    .colab-df-convert {\n",
              "      background-color: #E8F0FE;\n",
              "      border: none;\n",
              "      border-radius: 50%;\n",
              "      cursor: pointer;\n",
              "      display: none;\n",
              "      fill: #1967D2;\n",
              "      height: 32px;\n",
              "      padding: 0 0 0 0;\n",
              "      width: 32px;\n",
              "    }\n",
              "\n",
              "    .colab-df-convert:hover {\n",
              "      background-color: #E2EBFA;\n",
              "      box-shadow: 0px 1px 2px rgba(60, 64, 67, 0.3), 0px 1px 3px 1px rgba(60, 64, 67, 0.15);\n",
              "      fill: #174EA6;\n",
              "    }\n",
              "\n",
              "    [theme=dark] .colab-df-convert {\n",
              "      background-color: #3B4455;\n",
              "      fill: #D2E3FC;\n",
              "    }\n",
              "\n",
              "    [theme=dark] .colab-df-convert:hover {\n",
              "      background-color: #434B5C;\n",
              "      box-shadow: 0px 1px 3px 1px rgba(0, 0, 0, 0.15);\n",
              "      filter: drop-shadow(0px 1px 2px rgba(0, 0, 0, 0.3));\n",
              "      fill: #FFFFFF;\n",
              "    }\n",
              "  </style>\n",
              "\n",
              "      <script>\n",
              "        const buttonEl =\n",
              "          document.querySelector('#df-5c1860a2-2bdb-4ff6-8fef-13f12f714339 button.colab-df-convert');\n",
              "        buttonEl.style.display =\n",
              "          google.colab.kernel.accessAllowed ? 'block' : 'none';\n",
              "\n",
              "        async function convertToInteractive(key) {\n",
              "          const element = document.querySelector('#df-5c1860a2-2bdb-4ff6-8fef-13f12f714339');\n",
              "          const dataTable =\n",
              "            await google.colab.kernel.invokeFunction('convertToInteractive',\n",
              "                                                     [key], {});\n",
              "          if (!dataTable) return;\n",
              "\n",
              "          const docLinkHtml = 'Like what you see? Visit the ' +\n",
              "            '<a target=\"_blank\" href=https://colab.research.google.com/notebooks/data_table.ipynb>data table notebook</a>'\n",
              "            + ' to learn more about interactive tables.';\n",
              "          element.innerHTML = '';\n",
              "          dataTable['output_type'] = 'display_data';\n",
              "          await google.colab.output.renderOutput(dataTable, element);\n",
              "          const docLink = document.createElement('div');\n",
              "          docLink.innerHTML = docLinkHtml;\n",
              "          element.appendChild(docLink);\n",
              "        }\n",
              "      </script>\n",
              "    </div>\n",
              "  </div>\n",
              "  "
            ],
            "text/plain": [
              "       Unnamed: 0  count_URLs  ...  clean_word_count  clean_unique_words\n",
              "count   22.000000   22.000000  ...         22.000000           22.000000\n",
              "mean     5.727273   64.727273  ...       7280.000000         1734.954545\n",
              "std      4.278204   73.689297  ...       7120.135639          811.260306\n",
              "min      0.000000    1.000000  ...       1377.000000          591.000000\n",
              "25%      2.250000   11.000000  ...       3688.250000         1163.250000\n",
              "50%      5.000000   33.000000  ...       5527.000000         1534.000000\n",
              "75%      8.750000  100.000000  ...       6826.000000         2008.000000\n",
              "max     14.000000  251.000000  ...      32871.000000         3849.000000\n",
              "\n",
              "[8 rows x 6 columns]"
            ]
          },
          "metadata": {},
          "execution_count": 14
        }
      ]
    },
    {
      "cell_type": "markdown",
      "source": [
        "\n",
        "## List of Stopwords in SpaCy\n"
      ],
      "metadata": {
        "id": "PetfAXKy2USF"
      }
    },
    {
      "cell_type": "code",
      "source": [
        "# Stop words from SpaCy\n",
        "#importing stop words from English language.\n",
        "import spacy\n",
        "spacy_stopwords = spacy.lang.en.stop_words.STOP_WORDS\n",
        "\n",
        "#Printing the total number of stop words:\n",
        "print('Number of stop words: %d' % len(spacy_stopwords))\n",
        "\n",
        "#Printing first ten stop words:\n",
        "print('First ten stop words: %s' % list(spacy_stopwords)[:20])"
      ],
      "metadata": {
        "id": "Dzodh_FKTYGs",
        "colab": {
          "base_uri": "https://localhost:8080/"
        },
        "outputId": "af452730-0a14-49a6-c22b-71496a332308"
      },
      "execution_count": null,
      "outputs": [
        {
          "output_type": "stream",
          "name": "stdout",
          "text": [
            "Number of stop words: 326\n",
            "First ten stop words: ['never', 'too', 'own', 'beside', 'nobody', 'quite', 'whereas', 'both', 'but', 'what', 'been', 'becoming', 'wherein', 'indeed', 'may', 'over', 'anyhow', 'with', 'fifteen', 'into']\n"
          ]
        }
      ]
    },
    {
      "cell_type": "markdown",
      "source": [
        "## Exploration of most common words and nouns"
      ],
      "metadata": {
        "id": "zAnJ3IS0vKn8"
      }
    },
    {
      "cell_type": "code",
      "source": [
        "# let us look most used words for each part of speech\n",
        "from collections import defaultdict, Counter\n",
        "\n",
        "posCounts = defaultdict(Counter)\n",
        "\n",
        "for doc in docs_csguide.NLP:\n",
        "    for token in doc:\n",
        "        posCounts[token.pos][token.orth] += 1\n",
        "\n",
        "for pos_id, counts in sorted(posCounts.items()):\n",
        "    pos = doc.vocab.strings[pos_id]\n",
        "    for orth_id, count in counts.most_common(1):\n",
        "        print(pos, count, doc.vocab.strings[orth_id])"
      ],
      "metadata": {
        "id": "8i6h-1VY2WzL",
        "colab": {
          "base_uri": "https://localhost:8080/"
        },
        "outputId": "97266849-56af-4f68-995c-26d97623d573"
      },
      "execution_count": null,
      "outputs": [
        {
          "output_type": "stream",
          "name": "stdout",
          "text": [
            "ADJ 593 scientific\n",
            "ADP 226 within\n",
            "ADV 880 also\n",
            "AUX 37 get\n",
            "CCONJ 66 either\n",
            "DET 103 another\n",
            "INTJ 55 well\n",
            "NOUN 3082 science\n",
            "NUM 478 one\n",
            "PART 32 not\n",
            "PRON 95 something\n",
            "PROPN 959 et\n",
            "PUNCT 13 co\n",
            "SCONJ 186 whether\n",
            "SYM 49 x\n",
            "VERB 886 may\n",
            "X 94 etc\n"
          ]
        }
      ]
    },
    {
      "cell_type": "markdown",
      "source": [
        "## Total of List of stopwords + customwords\n",
        "\n",
        "Notice that after checking the most common words, there are words that are not useful for the analysis. e.g. \"et\", \"etc\". We need to add them to the list of stopwords give from SpaCy"
      ],
      "metadata": {
        "id": "lmrL0pg9C7As"
      }
    },
    {
      "cell_type": "code",
      "source": [
        "# add some common words to stop wordds that may not add much context\n",
        "# I used the list in english\n",
        "from spacy.lang.en.stop_words import STOP_WORDS\n",
        "customStopWords = [\n",
        "    'whether', 'x', 'may','either','also', 'project', 'science','citizen', 'example', 'etc', 'et', 'al' ,'org', 'co', \"mailto\", \"pp\", \"p\", \"doi\", \"www\", \"nov\", \"feb\", \"ph\"]\n",
        "\n",
        "for w in customStopWords:\n",
        "    if w not in STOP_WORDS:\n",
        "        STOP_WORDS.add(w)"
      ],
      "metadata": {
        "id": "_fLGkX3-2rhz"
      },
      "execution_count": null,
      "outputs": []
    },
    {
      "cell_type": "code",
      "source": [
        "spacy_stopwords = spacy.lang.en.stop_words.STOP_WORDS\n",
        "\n",
        "#Printing the total number of stop words:\n",
        "print('Number of stop words: %d' % len(spacy_stopwords))\n",
        "print('Number of stop words: %d' % len(STOP_WORDS))"
      ],
      "metadata": {
        "colab": {
          "base_uri": "https://localhost:8080/"
        },
        "id": "xYxieYoO4ZQZ",
        "outputId": "feccee08-1fd2-4c58-f6a6-7e6e9e03e92b"
      },
      "execution_count": null,
      "outputs": [
        {
          "output_type": "stream",
          "name": "stdout",
          "text": [
            "Number of stop words: 344\n",
            "Number of stop words: 344\n"
          ]
        }
      ]
    },
    {
      "cell_type": "markdown",
      "source": [
        "# 🔷 Explore  The Most Frequent Words, Nouns, Organizations, Entities "
      ],
      "metadata": {
        "id": "iH8wo2zIwxGL"
      }
    },
    {
      "cell_type": "markdown",
      "source": [
        "### Words"
      ],
      "metadata": {
        "id": "1NRICEh4xkV8"
      }
    },
    {
      "cell_type": "code",
      "source": [
        "# get most common nouns\n",
        "from collections import defaultdict, Counter\n",
        "from spacy.symbols import nsubj, VERB, dobj, NOUN, root, xcomp, PROPN, NUM,SYM\n",
        "\n",
        "# all tokens that arent stop words or punctuations\n",
        "words=[]\n",
        "for doc in docs_csguide.NLP:\n",
        "    words += [token.lemma_ for token in doc if token.pos==NOUN and (not token.lemma_ in STOP_WORDS)] \n",
        "\n",
        "\n",
        "# 20 most common tokens\n",
        "wordFreq = Counter(words)\n",
        "commonWords = wordFreq.most_common(20)"
      ],
      "metadata": {
        "id": "Zlx8XEZo3T4c"
      },
      "execution_count": null,
      "outputs": []
    },
    {
      "cell_type": "markdown",
      "source": [
        "#### Visuals using seaborn"
      ],
      "metadata": {
        "id": "0Q4VDrccFVSl"
      }
    },
    {
      "cell_type": "code",
      "source": [
        "import seaborn as sns\n",
        "\n",
        "x, y= [], []\n",
        "for word,count in commonWords[:20]:\n",
        "        x.append(word)\n",
        "        y.append(count)\n",
        "        \n",
        "sns.barplot(x=y,y=x)"
      ],
      "metadata": {
        "id": "xjEWULOF3fq8",
        "colab": {
          "base_uri": "https://localhost:8080/",
          "height": 283
        },
        "outputId": "a79e98ad-fab7-4404-b0b5-4911a16a33cf"
      },
      "execution_count": null,
      "outputs": [
        {
          "output_type": "execute_result",
          "data": {
            "text/plain": [
              "<matplotlib.axes._subplots.AxesSubplot at 0x7f7389e78b90>"
            ]
          },
          "metadata": {},
          "execution_count": 20
        },
        {
          "output_type": "display_data",
          "data": {
            "image/png": "[encoded data removed]",
            "text/plain": [
              "<Figure size 432x288 with 1 Axes>"
            ]
          },
          "metadata": {
            "needs_background": "light"
          }
        }
      ]
    },
    {
      "cell_type": "markdown",
      "source": [
        "#### Visuals in plotly \n",
        "- https://medium.com/analytics-vidhya/an-intro-to-customizing-charts-in-plotly-express-e3c473740f66\n",
        "- https://plotly.com/python/builtin-colorscales/\n",
        "- Viridis and Viridis_r (to reverse the color)"
      ],
      "metadata": {
        "id": "kJC8mehZdgpM"
      }
    },
    {
      "cell_type": "code",
      "source": [
        "import plotly.express as px\n",
        "import plotly.graph_objects as go"
      ],
      "metadata": {
        "id": "ENMrOxSNVcPk"
      },
      "execution_count": null,
      "outputs": []
    },
    {
      "cell_type": "code",
      "source": [
        "# create DataFrame using data\n",
        "df = pd.DataFrame(commonWords , columns =['word', 'count'])\n",
        "\n",
        "fig = px.bar(df, x='count', y=\"word\", orientation='h', template='plotly_white', title = 'The 20 Most Frequent Words',\n",
        "             height=500, width = 500 , color = \"count\", color_continuous_scale = \"Viridis\" ,\n",
        "            )\n",
        "fig.update_xaxes(title_text='Words count')\n",
        "fig.update_yaxes(title_text='Word')\n",
        "fig.update_layout(yaxis={'categoryorder':'total ascending'})\n",
        "fig.show()\n",
        "\n",
        "# marker={'color': x, colorscale: 'Viridis'}"
      ],
      "metadata": {
        "colab": {
          "base_uri": "https://localhost:8080/",
          "height": 517
        },
        "id": "X6ERnTf2f-Ec",
        "outputId": "59a66ce0-3bf3-4b85-edb3-bb58418e5491"
      },
      "execution_count": null,
      "outputs": [
        {
          "output_type": "display_data",
          "data": {
            "text/html": [
              "<html>\n",
              "<head><meta charset=\"utf-8\" /></head>\n",
              "<body>\n",
              "    <div>\n",
              "            <script src=\"https://cdnjs.cloudflare.com/ajax/libs/mathjax/2.7.5/MathJax.js?config=TeX-AMS-MML_SVG\"></script><script type=\"text/javascript\">if (window.MathJax) {MathJax.Hub.Config({SVG: {font: \"STIX-Web\"}});}</script>\n",
              "                <script type=\"text/javascript\">window.PlotlyConfig = {MathJaxConfig: 'local'};</script>\n",
              "        <script src=\"https://cdn.plot.ly/plotly-latest.min.js\"></script>    \n",
              "            <div id=\"f09ccf13-ebfb-4056-bac9-d006030ecf9a\" class=\"plotly-graph-div\" style=\"height:500px; width:500px;\"></div>\n",
              "            <script type=\"text/javascript\">\n",
              "                \n",
              "                    window.PLOTLYENV=window.PLOTLYENV || {};\n",
              "                    \n",
              "                if (document.getElementById(\"f09ccf13-ebfb-4056-bac9-d006030ecf9a\")) {\n",
              "                    Plotly.newPlot(\n",
              "                        'f09ccf13-ebfb-4056-bac9-d006030ecf9a',\n",
              "                        [{\"alignmentgroup\": \"True\", \"hoverlabel\": {\"namelength\": 0}, \"hovertemplate\": \"count=%{marker.color}<br>word=%{y}\", \"legendgroup\": \"\", \"marker\": {\"color\": [1616, 1470, 928, 892, 808, 667, 593, 587, 567, 565, 520, 488, 443, 439, 409, 391, 386, 372, 363, 359], \"coloraxis\": \"coloraxis\"}, \"name\": \"\", \"offsetgroup\": \"\", \"orientation\": \"h\", \"showlegend\": false, \"textposition\": \"auto\", \"type\": \"bar\", \"x\": [1616, 1470, 928, 892, 808, 667, 593, 587, 567, 565, 520, 488, 443, 439, 409, 391, 386, 372, 363, 359], \"xaxis\": \"x\", \"y\": [\"datum\", \"participant\", \"research\", \"scientist\", \"community\", \"motivation\", \"people\", \"information\", \"time\", \"participation\", \"group\", \"quality\", \"volunteer\", \"respondent\", \"activity\", \"question\", \"member\", \"study\", \"number\", \"team\"], \"yaxis\": \"y\"}],\n",
              "                        {\"barmode\": \"relative\", \"coloraxis\": {\"colorbar\": {\"title\": {\"text\": \"count\"}}, \"colorscale\": [[0.0, \"#440154\"], [0.1111111111111111, \"#482878\"], [0.2222222222222222, \"#3e4989\"], [0.3333333333333333, \"#31688e\"], [0.4444444444444444, \"#26828e\"], [0.5555555555555556, \"#1f9e89\"], [0.6666666666666666, \"#35b779\"], [0.7777777777777778, \"#6ece58\"], [0.8888888888888888, \"#b5de2b\"], [1.0, \"#fde725\"]]}, \"height\": 500, \"legend\": {\"tracegroupgap\": 0}, \"template\": {\"data\": {\"bar\": [{\"error_x\": {\"color\": \"#2a3f5f\"}, \"error_y\": {\"color\": \"#2a3f5f\"}, \"marker\": {\"line\": {\"color\": \"white\", \"width\": 0.5}}, \"type\": \"bar\"}], \"barpolar\": [{\"marker\": {\"line\": {\"color\": \"white\", \"width\": 0.5}}, \"type\": \"barpolar\"}], \"carpet\": [{\"aaxis\": {\"endlinecolor\": \"#2a3f5f\", \"gridcolor\": \"#C8D4E3\", \"linecolor\": \"#C8D4E3\", \"minorgridcolor\": \"#C8D4E3\", \"startlinecolor\": \"#2a3f5f\"}, \"baxis\": {\"endlinecolor\": \"#2a3f5f\", \"gridcolor\": \"#C8D4E3\", \"linecolor\": \"#C8D4E3\", \"minorgridcolor\": \"#C8D4E3\", \"startlinecolor\": \"#2a3f5f\"}, \"type\": \"carpet\"}], \"choropleth\": [{\"colorbar\": {\"outlinewidth\": 0, \"ticks\": \"\"}, \"type\": \"choropleth\"}], \"contour\": [{\"colorbar\": {\"outlinewidth\": 0, \"ticks\": \"\"}, \"colorscale\": [[0.0, \"#0d0887\"], [0.1111111111111111, \"#46039f\"], [0.2222222222222222, \"#7201a8\"], [0.3333333333333333, \"#9c179e\"], [0.4444444444444444, \"#bd3786\"], [0.5555555555555556, \"#d8576b\"], [0.6666666666666666, \"#ed7953\"], [0.7777777777777778, \"#fb9f3a\"], [0.8888888888888888, \"#fdca26\"], [1.0, \"#f0f921\"]], \"type\": \"contour\"}], \"contourcarpet\": [{\"colorbar\": {\"outlinewidth\": 0, \"ticks\": \"\"}, \"type\": \"contourcarpet\"}], \"heatmap\": [{\"colorbar\": {\"outlinewidth\": 0, \"ticks\": \"\"}, \"colorscale\": [[0.0, \"#0d0887\"], [0.1111111111111111, \"#46039f\"], [0.2222222222222222, \"#7201a8\"], [0.3333333333333333, \"#9c179e\"], [0.4444444444444444, \"#bd3786\"], [0.5555555555555556, \"#d8576b\"], [0.6666666666666666, \"#ed7953\"], [0.7777777777777778, \"#fb9f3a\"], [0.8888888888888888, \"#fdca26\"], [1.0, \"#f0f921\"]], \"type\": \"heatmap\"}], \"heatmapgl\": [{\"colorbar\": {\"outlinewidth\": 0, \"ticks\": \"\"}, \"colorscale\": [[0.0, \"#0d0887\"], [0.1111111111111111, \"#46039f\"], [0.2222222222222222, \"#7201a8\"], [0.3333333333333333, \"#9c179e\"], [0.4444444444444444, \"#bd3786\"], [0.5555555555555556, \"#d8576b\"], [0.6666666666666666, \"#ed7953\"], [0.7777777777777778, \"#fb9f3a\"], [0.8888888888888888, \"#fdca26\"], [1.0, \"#f0f921\"]], \"type\": \"heatmapgl\"}], \"histogram\": [{\"marker\": {\"colorbar\": {\"outlinewidth\": 0, \"ticks\": \"\"}}, \"type\": \"histogram\"}], \"histogram2d\": [{\"colorbar\": {\"outlinewidth\": 0, \"ticks\": \"\"}, \"colorscale\": [[0.0, \"#0d0887\"], [0.1111111111111111, \"#46039f\"], [0.2222222222222222, \"#7201a8\"], [0.3333333333333333, \"#9c179e\"], [0.4444444444444444, \"#bd3786\"], [0.5555555555555556, \"#d8576b\"], [0.6666666666666666, \"#ed7953\"], [0.7777777777777778, \"#fb9f3a\"], [0.8888888888888888, \"#fdca26\"], [1.0, \"#f0f921\"]], \"type\": \"histogram2d\"}], \"histogram2dcontour\": [{\"colorbar\": {\"outlinewidth\": 0, \"ticks\": \"\"}, \"colorscale\": [[0.0, \"#0d0887\"], [0.1111111111111111, \"#46039f\"], [0.2222222222222222, \"#7201a8\"], [0.3333333333333333, \"#9c179e\"], [0.4444444444444444, \"#bd3786\"], [0.5555555555555556, \"#d8576b\"], [0.6666666666666666, \"#ed7953\"], [0.7777777777777778, \"#fb9f3a\"], [0.8888888888888888, \"#fdca26\"], [1.0, \"#f0f921\"]], \"type\": \"histogram2dcontour\"}], \"mesh3d\": [{\"colorbar\": {\"outlinewidth\": 0, \"ticks\": \"\"}, \"type\": \"mesh3d\"}], \"parcoords\": [{\"line\": {\"colorbar\": {\"outlinewidth\": 0, \"ticks\": \"\"}}, \"type\": \"parcoords\"}], \"pie\": [{\"automargin\": true, \"type\": \"pie\"}], \"scatter\": [{\"marker\": {\"colorbar\": {\"outlinewidth\": 0, \"ticks\": \"\"}}, \"type\": \"scatter\"}], \"scatter3d\": [{\"line\": {\"colorbar\": {\"outlinewidth\": 0, \"ticks\": \"\"}}, \"marker\": {\"colorbar\": {\"outlinewidth\": 0, \"ticks\": \"\"}}, \"type\": \"scatter3d\"}], \"scattercarpet\": [{\"marker\": {\"colorbar\": {\"outlinewidth\": 0, \"ticks\": \"\"}}, \"type\": \"scattercarpet\"}], \"scattergeo\": [{\"marker\": {\"colorbar\": {\"outlinewidth\": 0, \"ticks\": \"\"}}, \"type\": \"scattergeo\"}], \"scattergl\": [{\"marker\": {\"colorbar\": {\"outlinewidth\": 0, \"ticks\": \"\"}}, \"type\": \"scattergl\"}], \"scattermapbox\": [{\"marker\": {\"colorbar\": {\"outlinewidth\": 0, \"ticks\": \"\"}}, \"type\": \"scattermapbox\"}], \"scatterpolar\": [{\"marker\": {\"colorbar\": {\"outlinewidth\": 0, \"ticks\": \"\"}}, \"type\": \"scatterpolar\"}], \"scatterpolargl\": [{\"marker\": {\"colorbar\": {\"outlinewidth\": 0, \"ticks\": \"\"}}, \"type\": \"scatterpolargl\"}], \"scatterternary\": [{\"marker\": {\"colorbar\": {\"outlinewidth\": 0, \"ticks\": \"\"}}, \"type\": \"scatterternary\"}], \"surface\": [{\"colorbar\": {\"outlinewidth\": 0, \"ticks\": \"\"}, \"colorscale\": [[0.0, \"#0d0887\"], [0.1111111111111111, \"#46039f\"], [0.2222222222222222, \"#7201a8\"], [0.3333333333333333, \"#9c179e\"], [0.4444444444444444, \"#bd3786\"], [0.5555555555555556, \"#d8576b\"], [0.6666666666666666, \"#ed7953\"], [0.7777777777777778, \"#fb9f3a\"], [0.8888888888888888, \"#fdca26\"], [1.0, \"#f0f921\"]], \"type\": \"surface\"}], \"table\": [{\"cells\": {\"fill\": {\"color\": \"#EBF0F8\"}, \"line\": {\"color\": \"white\"}}, \"header\": {\"fill\": {\"color\": \"#C8D4E3\"}, \"line\": {\"color\": \"white\"}}, \"type\": \"table\"}]}, \"layout\": {\"annotationdefaults\": {\"arrowcolor\": \"#2a3f5f\", \"arrowhead\": 0, \"arrowwidth\": 1}, \"coloraxis\": {\"colorbar\": {\"outlinewidth\": 0, \"ticks\": \"\"}}, \"colorscale\": {\"diverging\": [[0, \"#8e0152\"], [0.1, \"#c51b7d\"], [0.2, \"#de77ae\"], [0.3, \"#f1b6da\"], [0.4, \"#fde0ef\"], [0.5, \"#f7f7f7\"], [0.6, \"#e6f5d0\"], [0.7, \"#b8e186\"], [0.8, \"#7fbc41\"], [0.9, \"#4d9221\"], [1, \"#276419\"]], \"sequential\": [[0.0, \"#0d0887\"], [0.1111111111111111, \"#46039f\"], [0.2222222222222222, \"#7201a8\"], [0.3333333333333333, \"#9c179e\"], [0.4444444444444444, \"#bd3786\"], [0.5555555555555556, \"#d8576b\"], [0.6666666666666666, \"#ed7953\"], [0.7777777777777778, \"#fb9f3a\"], [0.8888888888888888, \"#fdca26\"], [1.0, \"#f0f921\"]], \"sequentialminus\": [[0.0, \"#0d0887\"], [0.1111111111111111, \"#46039f\"], [0.2222222222222222, \"#7201a8\"], [0.3333333333333333, \"#9c179e\"], [0.4444444444444444, \"#bd3786\"], [0.5555555555555556, \"#d8576b\"], [0.6666666666666666, \"#ed7953\"], [0.7777777777777778, \"#fb9f3a\"], [0.8888888888888888, \"#fdca26\"], [1.0, \"#f0f921\"]]}, \"colorway\": [\"#636efa\", \"#EF553B\", \"#00cc96\", \"#ab63fa\", \"#FFA15A\", \"#19d3f3\", \"#FF6692\", \"#B6E880\", \"#FF97FF\", \"#FECB52\"], \"font\": {\"color\": \"#2a3f5f\"}, \"geo\": {\"bgcolor\": \"white\", \"lakecolor\": \"white\", \"landcolor\": \"white\", \"showlakes\": true, \"showland\": true, \"subunitcolor\": \"#C8D4E3\"}, \"hoverlabel\": {\"align\": \"left\"}, \"hovermode\": \"closest\", \"mapbox\": {\"style\": \"light\"}, \"paper_bgcolor\": \"white\", \"plot_bgcolor\": \"white\", \"polar\": {\"angularaxis\": {\"gridcolor\": \"#EBF0F8\", \"linecolor\": \"#EBF0F8\", \"ticks\": \"\"}, \"bgcolor\": \"white\", \"radialaxis\": {\"gridcolor\": \"#EBF0F8\", \"linecolor\": \"#EBF0F8\", \"ticks\": \"\"}}, \"scene\": {\"xaxis\": {\"backgroundcolor\": \"white\", \"gridcolor\": \"#DFE8F3\", \"gridwidth\": 2, \"linecolor\": \"#EBF0F8\", \"showbackground\": true, \"ticks\": \"\", \"zerolinecolor\": \"#EBF0F8\"}, \"yaxis\": {\"backgroundcolor\": \"white\", \"gridcolor\": \"#DFE8F3\", \"gridwidth\": 2, \"linecolor\": \"#EBF0F8\", \"showbackground\": true, \"ticks\": \"\", \"zerolinecolor\": \"#EBF0F8\"}, \"zaxis\": {\"backgroundcolor\": \"white\", \"gridcolor\": \"#DFE8F3\", \"gridwidth\": 2, \"linecolor\": \"#EBF0F8\", \"showbackground\": true, \"ticks\": \"\", \"zerolinecolor\": \"#EBF0F8\"}}, \"shapedefaults\": {\"line\": {\"color\": \"#2a3f5f\"}}, \"ternary\": {\"aaxis\": {\"gridcolor\": \"#DFE8F3\", \"linecolor\": \"#A2B1C6\", \"ticks\": \"\"}, \"baxis\": {\"gridcolor\": \"#DFE8F3\", \"linecolor\": \"#A2B1C6\", \"ticks\": \"\"}, \"bgcolor\": \"white\", \"caxis\": {\"gridcolor\": \"#DFE8F3\", \"linecolor\": \"#A2B1C6\", \"ticks\": \"\"}}, \"title\": {\"x\": 0.05}, \"xaxis\": {\"automargin\": true, \"gridcolor\": \"#EBF0F8\", \"linecolor\": \"#EBF0F8\", \"ticks\": \"\", \"title\": {\"standoff\": 15}, \"zerolinecolor\": \"#EBF0F8\", \"zerolinewidth\": 2}, \"yaxis\": {\"automargin\": true, \"gridcolor\": \"#EBF0F8\", \"linecolor\": \"#EBF0F8\", \"ticks\": \"\", \"title\": {\"standoff\": 15}, \"zerolinecolor\": \"#EBF0F8\", \"zerolinewidth\": 2}}}, \"title\": {\"text\": \"The 20 Most Frequent Words\"}, \"width\": 500, \"xaxis\": {\"anchor\": \"y\", \"domain\": [0.0, 1.0], \"title\": {\"text\": \"Words count\"}}, \"yaxis\": {\"anchor\": \"x\", \"categoryorder\": \"total ascending\", \"domain\": [0.0, 1.0], \"title\": {\"text\": \"Word\"}}},\n",
              "                        {\"responsive\": true}\n",
              "                    ).then(function(){\n",
              "                            \n",
              "var gd = document.getElementById('f09ccf13-ebfb-4056-bac9-d006030ecf9a');\n",
              "var x = new MutationObserver(function (mutations, observer) {{\n",
              "        var display = window.getComputedStyle(gd).display;\n",
              "        if (!display || display === 'none') {{\n",
              "            console.log([gd, 'removed!']);\n",
              "            Plotly.purge(gd);\n",
              "            observer.disconnect();\n",
              "        }}\n",
              "}});\n",
              "\n",
              "// Listen for the removal of the full notebook cells\n",
              "var notebookContainer = gd.closest('#notebook-container');\n",
              "if (notebookContainer) {{\n",
              "    x.observe(notebookContainer, {childList: true});\n",
              "}}\n",
              "\n",
              "// Listen for the clearing of the current output cell\n",
              "var outputEl = gd.closest('.output');\n",
              "if (outputEl) {{\n",
              "    x.observe(outputEl, {childList: true});\n",
              "}}\n",
              "\n",
              "                        })\n",
              "                };\n",
              "                \n",
              "            </script>\n",
              "        </div>\n",
              "</body>\n",
              "</html>"
            ]
          },
          "metadata": {}
        }
      ]
    },
    {
      "cell_type": "code",
      "source": [
        "# get most common proper nouns\n",
        "from collections import defaultdict, Counter\n",
        "from spacy.symbols import nsubj, VERB, dobj, NOUN, root, xcomp, PROPN, NUM,SYM\n",
        "# all tokens that arent stop words or punctuations\n",
        "words=[]\n",
        "for doc in docs_csguide.NLP:\n",
        "    \n",
        "    words += [token.lemma_ for token in doc if token.pos==PROPN and (not token.lemma_ in STOP_WORDS)\\\n",
        "             and (len(token)>1)] \n",
        "\n",
        "\n",
        "# five most common tokens\n",
        "wordFreq = Counter(words)\n",
        "commonWords = wordFreq.most_common(40)\n",
        "print(commonWords)"
      ],
      "metadata": {
        "id": "J584KOy09HMm",
        "colab": {
          "base_uri": "https://localhost:8080/"
        },
        "outputId": "7ab85183-7483-42a4-d2cd-a46619ac9f8d"
      },
      "execution_count": null,
      "outputs": [
        {
          "output_type": "stream",
          "name": "stdout",
          "text": [
            "[('data', 215), ('research', 186), ('epa', 121), ('university', 107), ('quality', 107), ('tekstveld', 99), ('community', 84), ('geoghegan', 81), ('uk', 76), ('bscs', 72), ('zurich', 69), ('bonney', 66), ('national', 61), ('framework', 60), ('agency', 59), ('association', 56), ('cs', 56), ('online', 54), ('assurance', 53), ('outcomes', 52), ('engagement', 50), ('european', 47), ('protection', 47), ('social', 46), ('handbook', 46), ('education', 45), ('center', 44), ('zooniverse', 44), ('de', 43), ('citsci', 42), ('state', 41), ('development', 40), ('journal', 40), ('rq', 40), ('raddick', 39), ('environmental', 38), ('designing', 38), ('protocol', 38), ('analysis', 38), ('zoo', 37)]\n"
          ]
        }
      ]
    },
    {
      "cell_type": "code",
      "source": [],
      "metadata": {
        "id": "3Pm4uVMNU1bN"
      },
      "execution_count": null,
      "outputs": []
    },
    {
      "cell_type": "markdown",
      "source": [
        "### Nouns"
      ],
      "metadata": {
        "id": "76fYO8i5xV0e"
      }
    },
    {
      "cell_type": "code",
      "source": [
        "# plot most common nouns\n",
        "x, y= [], []\n",
        "for word,count in commonWords[:20]:\n",
        "        x.append(word)\n",
        "        y.append(count)\n",
        "        \n",
        "sns.barplot(x=y,y=x)"
      ],
      "metadata": {
        "id": "Mw7gTgHF9OUi",
        "colab": {
          "base_uri": "https://localhost:8080/",
          "height": 282
        },
        "outputId": "6a1720cd-080f-4ab5-b9b6-bbc4fb228216"
      },
      "execution_count": null,
      "outputs": [
        {
          "output_type": "execute_result",
          "data": {
            "text/plain": [
              "<matplotlib.axes._subplots.AxesSubplot at 0x7f99ce485790>"
            ]
          },
          "metadata": {},
          "execution_count": 50
        },
        {
          "output_type": "display_data",
          "data": {
            "image/png": "[encoded data removed]",
            "text/plain": [
              "<Figure size 432x288 with 1 Axes>"
            ]
          },
          "metadata": {
            "needs_background": "light"
          }
        }
      ]
    },
    {
      "cell_type": "markdown",
      "source": [
        "### Organization Entities"
      ],
      "metadata": {
        "id": "hTsTMSgox2JW"
      }
    },
    {
      "cell_type": "code",
      "source": [
        "# most frequest ORG entities\n",
        "entities=[]\n",
        "for doc in docs_csguide.NLP:\n",
        "    # all entities\n",
        "    for ent in doc.ents:\n",
        "        #print(ent.text)\n",
        "        if ent.label_ == 'ORG':\n",
        "            if ent.text not in STOP_WORDS:\n",
        "                entities += [ent.text]\n",
        "entityFreq = Counter(entities)\n",
        "commonEntities = entityFreq.most_common(40)\n",
        "print(commonEntities)"
      ],
      "metadata": {
        "id": "RcXWAd_g-ZuR",
        "colab": {
          "base_uri": "https://localhost:8080/"
        },
        "outputId": "811c9398-99a9-4661-d08e-3e84e9dca923"
      },
      "execution_count": null,
      "outputs": [
        {
          "output_type": "stream",
          "name": "stdout",
          "text": [
            "[('epa', 59), ('eu', 20), ('appendix', 13), ('pande group', 10), ('analyse data', 8), ('digital', 8), ('epa qa handbook', 8), ('u envtl protection agency', 7), ('colorado state university', 6), ('nos', 5), ('european union', 5), ('app', 5), ('faa', 5), ('fhpt', 5), ('journal', 4), ('social sciences', 4), ('european citizen science association', 4), ('nasa', 4), ('fed', 4), ('nat l freedom information coalition', 4), ('ag', 4), ('ukeof', 4), ('scientist university', 4), ('national science foundation', 3), ('uk university', 3), ('london ucl press', 3), ('usa', 3), ('microsoft', 3), ('ec', 3), ('cwa', 3), ('kepler', 3), ('al national research council', 2), ('national research council', 2), ('u canada', 2), ('recruit', 2), ('google', 2), ('globe', 2), ('learners journal community', 2), ('gulf maine research institute', 2), ('science alliance', 2)]\n"
          ]
        }
      ]
    },
    {
      "cell_type": "code",
      "source": [
        "x, y= [], []\n",
        "for word,count in commonEntities[:20]:\n",
        "        x.append(word)\n",
        "        y.append(count)\n",
        "        \n",
        "sns.barplot(x=y,y=x)"
      ],
      "metadata": {
        "id": "QrKtndXv-0JK",
        "colab": {
          "base_uri": "https://localhost:8080/",
          "height": 282
        },
        "outputId": "ce7d4e9d-497f-48f4-fe4c-5ae0beb60622"
      },
      "execution_count": null,
      "outputs": [
        {
          "output_type": "execute_result",
          "data": {
            "text/plain": [
              "<matplotlib.axes._subplots.AxesSubplot at 0x7f99df566450>"
            ]
          },
          "metadata": {},
          "execution_count": 53
        },
        {
          "output_type": "display_data",
          "data": {
            "image/png": "[encoded data removed]",
            "text/plain": [
              "<Figure size 432x288 with 1 Axes>"
            ]
          },
          "metadata": {
            "needs_background": "light"
          }
        }
      ]
    },
    {
      "cell_type": "markdown",
      "source": [
        "### Person Entities"
      ],
      "metadata": {
        "id": "av2W7UbS5ph5"
      }
    },
    {
      "cell_type": "code",
      "source": [
        "# most frequest PERSON entities\n",
        "entities=[]\n",
        "for doc in docs_csguide.NLP:\n",
        "    # all entities\n",
        "    for ent in doc.ents:\n",
        "        #print(ent.text)\n",
        "        if ent.label_ == 'PERSON':\n",
        "            if ent.text not in STOP_WORDS:\n",
        "                entities += [ent.text]\n",
        "entityFreq = Counter(entities)\n",
        "commonEntities = entityFreq.most_common(40)\n",
        "print(commonEntities)"
      ],
      "metadata": {
        "id": "cVwu-sh6-5-A",
        "colab": {
          "base_uri": "https://localhost:8080/"
        },
        "outputId": "1c7c9608-967e-4d93-ac0a-e5b0cd399efc"
      },
      "execution_count": null,
      "outputs": [
        {
          "output_type": "stream",
          "name": "stdout",
          "text": [
            "[('zurich handbook', 23), ('epa qa handbook', 10), ('ryan', 9), ('et al', 7), ('roy et al', 7), ('zooniverse', 6), ('kim mankoff', 5), ('raddick et al', 5), ('phillips et al framework', 4), ('rick bonney', 4), ('crowston', 4), ('al kim', 4), ('lynn et al designing platform', 4), ('supra', 4), ('tina phillips', 3), ('lee', 3), ('gonzalez moll', 3), ('hoadley kilner', 3), ('kb', 3), ('zhang et al', 3), ('edwards mcdonnell simpson', 3), ('citsci org', 3), ('qc', 3), ('qc samples', 3), ('malariacontrol', 3), ('framework preece', 3), ('crall et al', 2), ('mugar et al', 2), ('kollmuss agyeman', 2), ('jennifer', 2), ('crowston wang', 2), ('bowser hansen preece et al', 2), ('idris et al', 2), ('tang greenberg', 2), ('phillips', 2), ('scardamalia', 2), ('ruth kermish allen', 2), ('sarah', 2), ('jennett', 2), ('greg newman', 2)]\n"
          ]
        }
      ]
    },
    {
      "cell_type": "code",
      "source": [
        "x, y= [], []\n",
        "for word,count in commonEntities[:20]:\n",
        "        x.append(word)\n",
        "        y.append(count)\n",
        "        \n",
        "sns.barplot(x=y,y=x)"
      ],
      "metadata": {
        "id": "VS6RBU4s-_Do",
        "colab": {
          "base_uri": "https://localhost:8080/",
          "height": 282
        },
        "outputId": "b866c7f2-d0e4-46bc-f1c8-b937a65f48f8"
      },
      "execution_count": null,
      "outputs": [
        {
          "output_type": "execute_result",
          "data": {
            "text/plain": [
              "<matplotlib.axes._subplots.AxesSubplot at 0x7f99e1e0b610>"
            ]
          },
          "metadata": {},
          "execution_count": 55
        },
        {
          "output_type": "display_data",
          "data": {
            "image/png": "[encoded data removed]",
            "text/plain": [
              "<Figure size 432x288 with 1 Axes>"
            ]
          },
          "metadata": {
            "needs_background": "light"
          }
        }
      ]
    },
    {
      "cell_type": "markdown",
      "source": [
        "# 🔷 Running Experiments"
      ],
      "metadata": {
        "id": "wghytPoCGijb"
      }
    },
    {
      "cell_type": "markdown",
      "source": [
        "## ▶ Tokenization - Lemmatization. Working with Pipelines\n",
        "- Time comparison of task completion \n",
        "- Approach: Working with each document in the data frame"
      ],
      "metadata": {
        "id": "mCeZGod-4xHP"
      }
    },
    {
      "cell_type": "markdown",
      "source": [
        "Check fundamentals of Tokenizer\n",
        "\n",
        "https://machinelearningknowledge.ai/complete-guide-to-spacy-tokenizer-with-examples/\n"
      ],
      "metadata": {
        "id": "aHjOtSg8E_Jx"
      }
    },
    {
      "cell_type": "markdown",
      "source": [
        "## Option 1: Sequentially process DataFrame\n",
        "\n",
        "Process this text is to use an existing method, in this case the lemmatize method shown below, and apply it to the clean column of the DataFrame using pandas.Series.apply. Lemmatization is done using the spaCy's underlying Doc representation of each token, which contains a lemma_ property. Stopwords are removed simultaneously with the lemmatization process, as each of these steps involves iterating through the same list of tokens."
      ],
      "metadata": {
        "id": "GGacnQZdHRS_"
      }
    },
    {
      "cell_type": "code",
      "source": [
        "def lemmatize(doc):\n",
        "    \"\"\"Perform lemmatization and stopword removal in the clean text\n",
        "       Returns a list of lemmas\n",
        "    \"\"\"\n",
        "    doc = nlp(doc)\n",
        "    lemma_list = [str(tok.lemma_).lower() for tok in doc\n",
        "                  if tok.is_alpha and tok.text.lower() not in spacy_stopwords]\n",
        "    return lemma_list\n",
        "\n",
        "   "
      ],
      "metadata": {
        "id": "cIOQa3cKEMo9"
      },
      "execution_count": null,
      "outputs": []
    },
    {
      "cell_type": "markdown",
      "source": [
        "The resulting lemmas are stored as a list in a separate column \"lemma\" as shown below."
      ],
      "metadata": {
        "id": "xqcUd43ZE8vu"
      }
    },
    {
      "cell_type": "code",
      "source": [
        "# Hide warnings \n",
        "import warnings \n",
        "warnings.filterwarnings(\"ignore\", category=DeprecationWarning)"
      ],
      "metadata": {
        "id": "sRFJyrPvFm_h"
      },
      "execution_count": null,
      "outputs": []
    },
    {
      "cell_type": "code",
      "source": [
        "%%time\n",
        "docs_csguide['lemma'] = docs_csguide['cleanText'].apply(lemmatize)\n",
        "docs_csguide.head(3)"
      ],
      "metadata": {
        "colab": {
          "base_uri": "https://localhost:8080/"
        },
        "id": "wUdr1_nZFC21",
        "outputId": "24fb2ee1-6f6b-44e6-bf2c-753677674764"
      },
      "execution_count": null,
      "outputs": [
        {
          "output_type": "stream",
          "name": "stdout",
          "text": [
            "CPU times: user 20.2 s, sys: 571 ms, total: 20.8 s\n",
            "Wall time: 20.7 s\n"
          ]
        }
      ]
    },
    {
      "cell_type": "code",
      "source": [
        "docs_csguide.head(3)"
      ],
      "metadata": {
        "colab": {
          "base_uri": "https://localhost:8080/",
          "height": 485
        },
        "id": "nLAjiGEiimPn",
        "outputId": "e1d1bfac-351e-413d-ad40-d295d02af200"
      },
      "execution_count": null,
      "outputs": [
        {
          "output_type": "execute_result",
          "data": {
            "text/html": [
              "\n",
              "  <div id=\"df-6f210aeb-8f3c-46cf-b9f0-ff2f86701f6f\">\n",
              "    <div class=\"colab-df-container\">\n",
              "      <div>\n",
              "<style scoped>\n",
              "    .dataframe tbody tr th:only-of-type {\n",
              "        vertical-align: middle;\n",
              "    }\n",
              "\n",
              "    .dataframe tbody tr th {\n",
              "        vertical-align: top;\n",
              "    }\n",
              "\n",
              "    .dataframe thead th {\n",
              "        text-align: right;\n",
              "    }\n",
              "</style>\n",
              "<table border=\"1\" class=\"dataframe\">\n",
              "  <thead>\n",
              "    <tr style=\"text-align: right;\">\n",
              "      <th></th>\n",
              "      <th>Unnamed: 0</th>\n",
              "      <th>linkDrive</th>\n",
              "      <th>text</th>\n",
              "      <th>URLs</th>\n",
              "      <th>count_URLs</th>\n",
              "      <th>clean_meaning</th>\n",
              "      <th>pre_cleantext</th>\n",
              "      <th>cleanText</th>\n",
              "      <th>lemma_pipe</th>\n",
              "      <th>lemma</th>\n",
              "    </tr>\n",
              "  </thead>\n",
              "  <tbody>\n",
              "    <tr>\n",
              "      <th>0</th>\n",
              "      <td>0</td>\n",
              "      <td>/gdrive/MyDrive/Colab Notebooks/HEIDI_docs_rep...</td>\n",
              "      <td>A Framework for Articulating and Measuring Ind...</td>\n",
              "      <td>['https://doi.org/10.5334/cstp.126', 'https://...</td>\n",
              "      <td>19</td>\n",
              "      <td>A Framework for Articulating and Measuring Ind...</td>\n",
              "      <td>a framework for articulating and measuring ind...</td>\n",
              "      <td>framework articulating measuring individual le...</td>\n",
              "      <td>[framework, articulate, measure, individual, l...</td>\n",
              "      <td>[framework, articulate, measure, individual, l...</td>\n",
              "    </tr>\n",
              "    <tr>\n",
              "      <th>1</th>\n",
              "      <td>1</td>\n",
              "      <td>/gdrive/MyDrive/Colab Notebooks/HEIDI_docs_rep...</td>\n",
              "      <td>What do volunteers want from citizen science t...</td>\n",
              "      <td>['https://doi.org/10.22323/2.18010202DOI', 'ht...</td>\n",
              "      <td>44</td>\n",
              "      <td>What do volunteers want from citizen science t...</td>\n",
              "      <td>what do volunteers want from citizen science t...</td>\n",
              "      <td>volunteers want citizen science technologies s...</td>\n",
              "      <td>[volunteer, want, technologie, systematic, lit...</td>\n",
              "      <td>[volunteer, want, technologie, systematic, lit...</td>\n",
              "    </tr>\n",
              "    <tr>\n",
              "      <th>2</th>\n",
              "      <td>2</td>\n",
              "      <td>/gdrive/MyDrive/Colab Notebooks/HEIDI_docs_rep...</td>\n",
              "      <td>1424-8071-2-CE The Journal of Community Inform...</td>\n",
              "      <td>['http://www.ci-journal.net/index.php/ciej/art...</td>\n",
              "      <td>2</td>\n",
              "      <td>1424-8071-2-CE The Journal of Community Inform...</td>\n",
              "      <td>ce the journal of community informatics iss...</td>\n",
              "      <td>ce journal community informatics issn articles...</td>\n",
              "      <td>[ce, journal, community, informatics, issn, ar...</td>\n",
              "      <td>[ce, journal, community, informatics, issn, ar...</td>\n",
              "    </tr>\n",
              "  </tbody>\n",
              "</table>\n",
              "</div>\n",
              "      <button class=\"colab-df-convert\" onclick=\"convertToInteractive('df-6f210aeb-8f3c-46cf-b9f0-ff2f86701f6f')\"\n",
              "              title=\"Convert this dataframe to an interactive table.\"\n",
              "              style=\"display:none;\">\n",
              "        \n",
              "  <svg xmlns=\"http://www.w3.org/2000/svg\" height=\"24px\"viewBox=\"0 0 24 24\"\n",
              "       width=\"24px\">\n",
              "    <path d=\"M0 0h24v24H0V0z\" fill=\"none\"/>\n",
              "    <path d=\"M18.56 5.44l.94 2.06.94-2.06 2.06-.94-2.06-.94-.94-2.06-.94 2.06-2.06.94zm-11 1L8.5 8.5l.94-2.06 2.06-.94-2.06-.94L8.5 2.5l-.94 2.06-2.06.94zm10 10l.94 2.06.94-2.06 2.06-.94-2.06-.94-.94-2.06-.94 2.06-2.06.94z\"/><path d=\"M17.41 7.96l-1.37-1.37c-.4-.4-.92-.59-1.43-.59-.52 0-1.04.2-1.43.59L10.3 9.45l-7.72 7.72c-.78.78-.78 2.05 0 2.83L4 21.41c.39.39.9.59 1.41.59.51 0 1.02-.2 1.41-.59l7.78-7.78 2.81-2.81c.8-.78.8-2.07 0-2.86zM5.41 20L4 18.59l7.72-7.72 1.47 1.35L5.41 20z\"/>\n",
              "  </svg>\n",
              "      </button>\n",
              "      \n",
              "  <style>\n",
              "    .colab-df-container {\n",
              "      display:flex;\n",
              "      flex-wrap:wrap;\n",
              "      gap: 12px;\n",
              "    }\n",
              "\n",
              "    .colab-df-convert {\n",
              "      background-color: #E8F0FE;\n",
              "      border: none;\n",
              "      border-radius: 50%;\n",
              "      cursor: pointer;\n",
              "      display: none;\n",
              "      fill: #1967D2;\n",
              "      height: 32px;\n",
              "      padding: 0 0 0 0;\n",
              "      width: 32px;\n",
              "    }\n",
              "\n",
              "    .colab-df-convert:hover {\n",
              "      background-color: #E2EBFA;\n",
              "      box-shadow: 0px 1px 2px rgba(60, 64, 67, 0.3), 0px 1px 3px 1px rgba(60, 64, 67, 0.15);\n",
              "      fill: #174EA6;\n",
              "    }\n",
              "\n",
              "    [theme=dark] .colab-df-convert {\n",
              "      background-color: #3B4455;\n",
              "      fill: #D2E3FC;\n",
              "    }\n",
              "\n",
              "    [theme=dark] .colab-df-convert:hover {\n",
              "      background-color: #434B5C;\n",
              "      box-shadow: 0px 1px 3px 1px rgba(0, 0, 0, 0.15);\n",
              "      filter: drop-shadow(0px 1px 2px rgba(0, 0, 0, 0.3));\n",
              "      fill: #FFFFFF;\n",
              "    }\n",
              "  </style>\n",
              "\n",
              "      <script>\n",
              "        const buttonEl =\n",
              "          document.querySelector('#df-6f210aeb-8f3c-46cf-b9f0-ff2f86701f6f button.colab-df-convert');\n",
              "        buttonEl.style.display =\n",
              "          google.colab.kernel.accessAllowed ? 'block' : 'none';\n",
              "\n",
              "        async function convertToInteractive(key) {\n",
              "          const element = document.querySelector('#df-6f210aeb-8f3c-46cf-b9f0-ff2f86701f6f');\n",
              "          const dataTable =\n",
              "            await google.colab.kernel.invokeFunction('convertToInteractive',\n",
              "                                                     [key], {});\n",
              "          if (!dataTable) return;\n",
              "\n",
              "          const docLinkHtml = 'Like what you see? Visit the ' +\n",
              "            '<a target=\"_blank\" href=https://colab.research.google.com/notebooks/data_table.ipynb>data table notebook</a>'\n",
              "            + ' to learn more about interactive tables.';\n",
              "          element.innerHTML = '';\n",
              "          dataTable['output_type'] = 'display_data';\n",
              "          await google.colab.output.renderOutput(dataTable, element);\n",
              "          const docLink = document.createElement('div');\n",
              "          docLink.innerHTML = docLinkHtml;\n",
              "          element.appendChild(docLink);\n",
              "        }\n",
              "      </script>\n",
              "    </div>\n",
              "  </div>\n",
              "  "
            ],
            "text/plain": [
              "   Unnamed: 0  ...                                              lemma\n",
              "0           0  ...  [framework, articulate, measure, individual, l...\n",
              "1           1  ...  [volunteer, want, technologie, systematic, lit...\n",
              "2           2  ...  [ce, journal, community, informatics, issn, ar...\n",
              "\n",
              "[3 rows x 10 columns]"
            ]
          },
          "metadata": {},
          "execution_count": 76
        }
      ]
    },
    {
      "cell_type": "markdown",
      "source": [
        "## Option 2: Use nlp.pipe\n",
        "\n",
        "in the spaCy documentation, it is stated that \"processing texts as a stream is usually more efficient than processing them one-by-one\". This is done by calling a language pipe, which internally divides the data into batches to reduce the number of pure-Python function calls. This means that the larger the data, the better the performance gain that can be obtained by nlp.pipe.\n",
        "\n",
        "To use the language pipe to stream texts, a new lemmatizer method is defined that directly works on a spaCy Doc object. This method is then called in batches to work on a sequence of Doc objects that are streamed through the pipe as shown below."
      ],
      "metadata": {
        "id": "qDjg1-nkCyJz"
      }
    },
    {
      "cell_type": "code",
      "source": [
        "def lemmatize_pipe(doc):\n",
        "    lemma_list = [str(tok.lemma_).lower() for tok in doc\n",
        "                  if tok.is_alpha and tok.text.lower() not in spacy_stopwords] \n",
        "    return lemma_list\n",
        "\n",
        "def preprocess_pipe(texts):\n",
        "    preproc_pipe = []\n",
        "    for doc in nlp.pipe(texts, batch_size=20):\n",
        "        preproc_pipe.append(lemmatize_pipe(doc))\n",
        "    return preproc_pipe"
      ],
      "metadata": {
        "id": "PZk2dElxIMaz"
      },
      "execution_count": null,
      "outputs": []
    },
    {
      "cell_type": "code",
      "source": [
        "%%time\n",
        "docs_csguide['lemma_pipe'] = preprocess_pipe(docs_csguide['cleanText'])\n",
        "docs_csguide.head(3)"
      ],
      "metadata": {
        "colab": {
          "base_uri": "https://localhost:8080/"
        },
        "id": "yHkX3EU7Ih7E",
        "outputId": "c63da5ba-a943-45b8-e380-0d0b988a7da9"
      },
      "execution_count": null,
      "outputs": [
        {
          "output_type": "stream",
          "name": "stdout",
          "text": [
            "CPU times: user 16.3 s, sys: 1.09 s, total: 17.4 s\n",
            "Wall time: 17.3 s\n"
          ]
        }
      ]
    },
    {
      "cell_type": "code",
      "source": [
        "docs_csguide.head(2)"
      ],
      "metadata": {
        "colab": {
          "base_uri": "https://localhost:8080/",
          "height": 367
        },
        "id": "Q_AUFEUCK4zE",
        "outputId": "ed488226-30ee-4527-ea13-5366cfcb68da"
      },
      "execution_count": null,
      "outputs": [
        {
          "output_type": "execute_result",
          "data": {
            "text/html": [
              "\n",
              "  <div id=\"df-e50a74b3-66cc-49fa-87ac-a31a9bc39e6a\">\n",
              "    <div class=\"colab-df-container\">\n",
              "      <div>\n",
              "<style scoped>\n",
              "    .dataframe tbody tr th:only-of-type {\n",
              "        vertical-align: middle;\n",
              "    }\n",
              "\n",
              "    .dataframe tbody tr th {\n",
              "        vertical-align: top;\n",
              "    }\n",
              "\n",
              "    .dataframe thead th {\n",
              "        text-align: right;\n",
              "    }\n",
              "</style>\n",
              "<table border=\"1\" class=\"dataframe\">\n",
              "  <thead>\n",
              "    <tr style=\"text-align: right;\">\n",
              "      <th></th>\n",
              "      <th>Unnamed: 0</th>\n",
              "      <th>linkDrive</th>\n",
              "      <th>text</th>\n",
              "      <th>URLs</th>\n",
              "      <th>count_URLs</th>\n",
              "      <th>clean_meaning</th>\n",
              "      <th>pre_cleantext</th>\n",
              "      <th>cleanText</th>\n",
              "      <th>lemma_pipe</th>\n",
              "    </tr>\n",
              "  </thead>\n",
              "  <tbody>\n",
              "    <tr>\n",
              "      <th>0</th>\n",
              "      <td>0</td>\n",
              "      <td>/gdrive/MyDrive/Colab Notebooks/HEIDI_docs_rep...</td>\n",
              "      <td>A Framework for Articulating and Measuring Ind...</td>\n",
              "      <td>['https://doi.org/10.5334/cstp.126', 'https://...</td>\n",
              "      <td>19</td>\n",
              "      <td>A Framework for Articulating and Measuring Ind...</td>\n",
              "      <td>a framework for articulating and measuring ind...</td>\n",
              "      <td>framework articulating measuring individual le...</td>\n",
              "      <td>[framework, articulate, measure, individual, l...</td>\n",
              "    </tr>\n",
              "    <tr>\n",
              "      <th>1</th>\n",
              "      <td>1</td>\n",
              "      <td>/gdrive/MyDrive/Colab Notebooks/HEIDI_docs_rep...</td>\n",
              "      <td>What do volunteers want from citizen science t...</td>\n",
              "      <td>['https://doi.org/10.22323/2.18010202DOI', 'ht...</td>\n",
              "      <td>44</td>\n",
              "      <td>What do volunteers want from citizen science t...</td>\n",
              "      <td>what do volunteers want from citizen science t...</td>\n",
              "      <td>volunteers want citizen science technologies s...</td>\n",
              "      <td>[volunteer, want, technologie, systematic, lit...</td>\n",
              "    </tr>\n",
              "  </tbody>\n",
              "</table>\n",
              "</div>\n",
              "      <button class=\"colab-df-convert\" onclick=\"convertToInteractive('df-e50a74b3-66cc-49fa-87ac-a31a9bc39e6a')\"\n",
              "              title=\"Convert this dataframe to an interactive table.\"\n",
              "              style=\"display:none;\">\n",
              "        \n",
              "  <svg xmlns=\"http://www.w3.org/2000/svg\" height=\"24px\"viewBox=\"0 0 24 24\"\n",
              "       width=\"24px\">\n",
              "    <path d=\"M0 0h24v24H0V0z\" fill=\"none\"/>\n",
              "    <path d=\"M18.56 5.44l.94 2.06.94-2.06 2.06-.94-2.06-.94-.94-2.06-.94 2.06-2.06.94zm-11 1L8.5 8.5l.94-2.06 2.06-.94-2.06-.94L8.5 2.5l-.94 2.06-2.06.94zm10 10l.94 2.06.94-2.06 2.06-.94-2.06-.94-.94-2.06-.94 2.06-2.06.94z\"/><path d=\"M17.41 7.96l-1.37-1.37c-.4-.4-.92-.59-1.43-.59-.52 0-1.04.2-1.43.59L10.3 9.45l-7.72 7.72c-.78.78-.78 2.05 0 2.83L4 21.41c.39.39.9.59 1.41.59.51 0 1.02-.2 1.41-.59l7.78-7.78 2.81-2.81c.8-.78.8-2.07 0-2.86zM5.41 20L4 18.59l7.72-7.72 1.47 1.35L5.41 20z\"/>\n",
              "  </svg>\n",
              "      </button>\n",
              "      \n",
              "  <style>\n",
              "    .colab-df-container {\n",
              "      display:flex;\n",
              "      flex-wrap:wrap;\n",
              "      gap: 12px;\n",
              "    }\n",
              "\n",
              "    .colab-df-convert {\n",
              "      background-color: #E8F0FE;\n",
              "      border: none;\n",
              "      border-radius: 50%;\n",
              "      cursor: pointer;\n",
              "      display: none;\n",
              "      fill: #1967D2;\n",
              "      height: 32px;\n",
              "      padding: 0 0 0 0;\n",
              "      width: 32px;\n",
              "    }\n",
              "\n",
              "    .colab-df-convert:hover {\n",
              "      background-color: #E2EBFA;\n",
              "      box-shadow: 0px 1px 2px rgba(60, 64, 67, 0.3), 0px 1px 3px 1px rgba(60, 64, 67, 0.15);\n",
              "      fill: #174EA6;\n",
              "    }\n",
              "\n",
              "    [theme=dark] .colab-df-convert {\n",
              "      background-color: #3B4455;\n",
              "      fill: #D2E3FC;\n",
              "    }\n",
              "\n",
              "    [theme=dark] .colab-df-convert:hover {\n",
              "      background-color: #434B5C;\n",
              "      box-shadow: 0px 1px 3px 1px rgba(0, 0, 0, 0.15);\n",
              "      filter: drop-shadow(0px 1px 2px rgba(0, 0, 0, 0.3));\n",
              "      fill: #FFFFFF;\n",
              "    }\n",
              "  </style>\n",
              "\n",
              "      <script>\n",
              "        const buttonEl =\n",
              "          document.querySelector('#df-e50a74b3-66cc-49fa-87ac-a31a9bc39e6a button.colab-df-convert');\n",
              "        buttonEl.style.display =\n",
              "          google.colab.kernel.accessAllowed ? 'block' : 'none';\n",
              "\n",
              "        async function convertToInteractive(key) {\n",
              "          const element = document.querySelector('#df-e50a74b3-66cc-49fa-87ac-a31a9bc39e6a');\n",
              "          const dataTable =\n",
              "            await google.colab.kernel.invokeFunction('convertToInteractive',\n",
              "                                                     [key], {});\n",
              "          if (!dataTable) return;\n",
              "\n",
              "          const docLinkHtml = 'Like what you see? Visit the ' +\n",
              "            '<a target=\"_blank\" href=https://colab.research.google.com/notebooks/data_table.ipynb>data table notebook</a>'\n",
              "            + ' to learn more about interactive tables.';\n",
              "          element.innerHTML = '';\n",
              "          dataTable['output_type'] = 'display_data';\n",
              "          await google.colab.output.renderOutput(dataTable, element);\n",
              "          const docLink = document.createElement('div');\n",
              "          docLink.innerHTML = docLinkHtml;\n",
              "          element.appendChild(docLink);\n",
              "        }\n",
              "      </script>\n",
              "    </div>\n",
              "  </div>\n",
              "  "
            ],
            "text/plain": [
              "   Unnamed: 0  ...                                         lemma_pipe\n",
              "0           0  ...  [framework, articulate, measure, individual, l...\n",
              "1           1  ...  [volunteer, want, technologie, systematic, lit...\n",
              "\n",
              "[2 rows x 9 columns]"
            ]
          },
          "metadata": {},
          "execution_count": 71
        }
      ]
    },
    {
      "cell_type": "code",
      "source": [
        "docs_csguide['lemma_pipe']"
      ],
      "metadata": {
        "colab": {
          "base_uri": "https://localhost:8080/"
        },
        "id": "ewS5Qn0vBklV",
        "outputId": "ad1ff6c2-f4eb-4c5c-bef0-9bae10ded1d6"
      },
      "execution_count": null,
      "outputs": [
        {
          "output_type": "execute_result",
          "data": {
            "text/plain": [
              "0     [framework, articulate, measure, individual, l...\n",
              "1     [volunteer, want, technologie, systematic, lit...\n",
              "2     [ce, journal, community, informatics, issn, ar...\n",
              "3     [design, principle, online, learning, communit...\n",
              "4     [learn, develop, capital, richard, edwards, sa...\n",
              "5     [design, platform, ethical, case, study, citsc...\n",
              "6     [forum, bioscience, june, vol, bioscience, aut...\n",
              "7     [handbook, quality, assurance, documentation, ...\n",
              "8     [skille, library, staff, researcher, public, s...\n",
              "9     [bscs, bscs, learn, designing, education, work...\n",
              "10    [work, improve, data, quality, guide, governme...\n",
              "11    [guide, ask, good, approach, answer, research,...\n",
              "12    [initiating, choose, partner, method, particip...\n",
              "13    [introduction, define, grassroots, initiative,...\n",
              "14    [researcher, contrast, professional, researche...\n",
              "15    [production, booklet, researcher, mean, coprod...\n",
              "16    [era, net, promote, european, research, biodiv...\n",
              "17    [uzh, publikation, practice, zurich, handbook,...\n",
              "18    [december, government, flander, run, project, ...\n",
              "19    [microsoft, word, final, ukeof, report, docx, ...\n",
              "20    [introduction, involvement, volunteer, collect...\n",
              "21    [chapter, introduction, overview, development,...\n",
              "Name: lemma_pipe, dtype: object"
            ]
          },
          "metadata": {},
          "execution_count": 65
        }
      ]
    },
    {
      "cell_type": "markdown",
      "source": [],
      "metadata": {
        "id": "BvslpHfkHfTz"
      }
    },
    {
      "cell_type": "markdown",
      "source": [
        "## Option 3. List of Token lemmatized "
      ],
      "metadata": {
        "id": "Z1UiJ2v3K6UE"
      }
    },
    {
      "cell_type": "code",
      "source": [
        "fullText= docs_csguide['lemma_pipe'].tolist()\n"
      ],
      "metadata": {
        "id": "lBlVrXZ0LRwn"
      },
      "execution_count": null,
      "outputs": []
    }
  ]
}