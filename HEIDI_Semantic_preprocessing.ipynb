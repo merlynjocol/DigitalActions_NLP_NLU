{
  "nbformat": 4,
  "nbformat_minor": 0,
  "metadata": {
    "colab": {
      "provenance": [],
      "authorship_tag": "ABX9TyMb09GjOTS/t+C2oZDoPI9T",
      "include_colab_link": true
    },
    "kernelspec": {
      "name": "python3",
      "display_name": "Python 3"
    },
    "language_info": {
      "name": "python"
    }
  },
  "cells": [
    {
      "cell_type": "markdown",
      "metadata": {
        "id": "view-in-github",
        "colab_type": "text"
      },
      "source": [
        "<a href=\"https://colab.research.google.com/github/merlynjocol/DigitalActions_NLP_NLU/blob/main/HEIDI_Semantic_preprocessing.ipynb\" target=\"_parent\"><img src=\"https://colab.research.google.com/assets/colab-badge.svg\" alt=\"Open In Colab\"/></a>"
      ]
    },
    {
      "cell_type": "markdown",
      "source": [
        "# Semantic Preprocessing\n",
        "\n",
        "HEIDI Project"
      ],
      "metadata": {
        "id": "0n4RYNZKFUGo"
      }
    },
    {
      "cell_type": "markdown",
      "source": [
        "Steps before: \n",
        "\n",
        "Creating the database\n",
        "https://colab.research.google.com/drive/1Ddxa24UC5Oja4nbpZutVY3b2-mUvmEen#scrollTo=wY7z-qzeZbUx&uniqifier=3"
      ],
      "metadata": {
        "id": "v7j3Gza3FjKD"
      }
    },
    {
      "cell_type": "markdown",
      "source": [
        "# Import libraries\n",
        "\n",
        "\n"
      ],
      "metadata": {
        "id": "0vb3x4UVcpqn"
      }
    },
    {
      "cell_type": "code",
      "execution_count": null,
      "metadata": {
        "id": "HWZz1PvQfc00"
      },
      "outputs": [],
      "source": [
        "# libraries\n",
        "import pandas as pd\n",
        "from pandas import DataFrame\n",
        "import numpy as np\n",
        "import re\n",
        "from tqdm import tqdm\n",
        "import warnings\n"
      ]
    },
    {
      "cell_type": "code",
      "source": [
        "# Data Loading\n",
        "from google.colab import drive\n",
        "drive.mount('/gdrive', force_remount=True)\n",
        "\"\""
      ],
      "metadata": {
        "colab": {
          "base_uri": "https://localhost:8080/",
          "height": 54
        },
        "id": "iL6n6U3V937v",
        "outputId": "4cef6a39-7797-4354-e168-b7299428f3cb"
      },
      "execution_count": null,
      "outputs": [
        {
          "output_type": "stream",
          "name": "stdout",
          "text": [
            "Mounted at /gdrive\n"
          ]
        },
        {
          "output_type": "execute_result",
          "data": {
            "application/vnd.google.colaboratory.intrinsic+json": {
              "type": "string"
            },
            "text/plain": [
              "''"
            ]
          },
          "metadata": {},
          "execution_count": 251
        }
      ]
    },
    {
      "cell_type": "code",
      "execution_count": null,
      "metadata": {
        "id": "4xOKdmdhwnNv"
      },
      "outputs": [],
      "source": [
        "#Transformer libraries\n",
        "import torch\n",
        "from keras.preprocessing.sequence import pad_sequences\n",
        "from transformers import BertTokenizer,  AutoModelForSequenceClassification"
      ]
    },
    {
      "cell_type": "code",
      "source": [
        "#Similarity search section: cosine similarity search and facebook AI research library\n",
        "from sklearn.metrics.pairwise import cosine_similarity\n",
        "!pip install faiss-gpu # please uncomment this line when you're running the notebook for the first time\n",
        "import faiss"
      ],
      "metadata": {
        "id": "9FiBj4r4cKtl",
        "colab": {
          "base_uri": "https://localhost:8080/"
        },
        "outputId": "073463d9-86ca-473d-b5f6-914756c67e5f"
      },
      "execution_count": null,
      "outputs": [
        {
          "output_type": "stream",
          "name": "stdout",
          "text": [
            "Collecting faiss-gpu\n",
            "  Downloading faiss_gpu-1.7.2-cp37-cp37m-manylinux_2_17_x86_64.manylinux2014_x86_64.whl (85.5 MB)\n",
            "\u001b[K     |████████████████████████████████| 85.5 MB 92 kB/s \n",
            "\u001b[?25hInstalling collected packages: faiss-gpu\n",
            "Successfully installed faiss-gpu-1.7.2\n"
          ]
        }
      ]
    },
    {
      "cell_type": "markdown",
      "source": [
        "# Reading Dataset"
      ],
      "metadata": {
        "id": "ItihxiC04pLS"
      }
    },
    {
      "cell_type": "code",
      "source": [
        "data  = pd.read_csv(f\"/gdrive/MyDrive/Colab Notebooks/HEIDI_SCIENTIFIC_ARTICLES/Datasets/fulltext.csv\")\n",
        "#/gdrive/MyDrive/Colab Notebooks/HEIDI_SCIENTIFIC_ARTICLES/Datasets/fulltext.csv"
      ],
      "metadata": {
        "id": "r0fAPcOc0gX0",
        "colab": {
          "base_uri": "https://localhost:8080/",
          "height": 190
        },
        "outputId": "b50a5029-28d0-4ed7-e921-262a1f9147e9"
      },
      "execution_count": null,
      "outputs": [
        {
          "output_type": "error",
          "ename": "NameError",
          "evalue": "ignored",
          "traceback": [
            "\u001b[0;31m---------------------------------------------------------------------------\u001b[0m",
            "\u001b[0;31mNameError\u001b[0m                                 Traceback (most recent call last)",
            "\u001b[0;32m<ipython-input-1-42ffd9ff89e7>\u001b[0m in \u001b[0;36m<module>\u001b[0;34m()\u001b[0m\n\u001b[0;32m----> 1\u001b[0;31m \u001b[0mdata\u001b[0m  \u001b[0;34m=\u001b[0m \u001b[0mpd\u001b[0m\u001b[0;34m.\u001b[0m\u001b[0mread_csv\u001b[0m\u001b[0;34m(\u001b[0m\u001b[0;34mf\"/gdrive/MyDrive/Colab Notebooks/HEIDI_SCIENTIFIC_ARTICLES/Datasets/fulltext.csv\"\u001b[0m\u001b[0;34m)\u001b[0m\u001b[0;34m\u001b[0m\u001b[0;34m\u001b[0m\u001b[0m\n\u001b[0m\u001b[1;32m      2\u001b[0m \u001b[0;31m#/gdrive/MyDrive/Colab Notebooks/HEIDI_SCIENTIFIC_ARTICLES/Datasets/fulltext.csv\u001b[0m\u001b[0;34m\u001b[0m\u001b[0;34m\u001b[0m\u001b[0;34m\u001b[0m\u001b[0m\n",
            "\u001b[0;31mNameError\u001b[0m: name 'pd' is not defined"
          ]
        }
      ]
    },
    {
      "cell_type": "markdown",
      "source": [
        "# drop duplicates\n"
      ],
      "metadata": {
        "id": "cRF3pijv7bGt"
      }
    },
    {
      "cell_type": "code",
      "source": [
        "data.drop_duplicates(['Abstract', 'fulltext'], inplace=True)\n"
      ],
      "metadata": {
        "id": "KbXWd2z_7YY7"
      },
      "execution_count": null,
      "outputs": []
    },
    {
      "cell_type": "code",
      "source": [
        "data['Abstract'].describe(include='all')"
      ],
      "metadata": {
        "colab": {
          "base_uri": "https://localhost:8080/"
        },
        "id": "5GShVxT17nMo",
        "outputId": "e1af58ba-a70f-4e3c-ae17-fd006d58f0dd"
      },
      "execution_count": null,
      "outputs": [
        {
          "output_type": "execute_result",
          "data": {
            "text/plain": [
              "count                                                    20\n",
              "unique                                                   20\n",
              "top       Households are the most numerous and atomized ...\n",
              "freq                                                      1\n",
              "Name: Abstract, dtype: object"
            ]
          },
          "metadata": {},
          "execution_count": 301
        }
      ]
    },
    {
      "cell_type": "markdown",
      "source": [
        "# Rules"
      ],
      "metadata": {
        "id": "9yqw2XbpkgMh"
      }
    },
    {
      "cell_type": "markdown",
      "source": [
        "Rule 1. Don't use standard preprocessing steps like stemming or stopword removal when you have pre-trained embeddings\n",
        "Some of you might used standard preprocessing steps when doing word count based feature extraction (e.g. TFIDF) such as removing stopwords, stemming etc. The reason is simple: You loose valuable information, which would help your NN to figure things out."
      ],
      "metadata": {
        "id": "UW5nOjAMkiKQ"
      }
    },
    {
      "cell_type": "markdown",
      "source": [
        "Rule 2. Get your vocabulary as close to the embeddings as possible\n",
        "focus in how to achieve the task"
      ],
      "metadata": {
        "id": "KGAT_lrGkqy9"
      }
    },
    {
      "cell_type": "markdown",
      "metadata": {
        "id": "DbEFcvHjjosd"
      },
      "source": [
        "## 🔷 Cleaning process"
      ]
    },
    {
      "cell_type": "markdown",
      "metadata": {
        "id": "3P-uDNlXwfZ-"
      },
      "source": [
        "In this case, I  have divide the cleaning process in 4 steps. \n",
        "\n",
        "1. Recovery words that are divide to pass the next line, after the text extraction the word loose their meaning.  eg. \"scien-\" \"ce\"\n",
        "\n",
        "2. Remove URL, emails. This bring noise to the model\n",
        "\n",
        "3. Create a variable with the cleaning text \n",
        "\n",
        "5. Enjoy the process! it's long! 😎"
      ]
    },
    {
      "cell_type": "markdown",
      "metadata": {
        "id": "ZAMslt9-U3CX"
      },
      "source": [
        "###  Resources \n",
        "- https://colab.research.google.com/github/hackveda-canada/Data-Science-Essentials/blob/master/Data_Science_Essentials_Day_5_NLP_%26_Text_Mining.ipynb#scrollTo=yjP65tpyLxPW"
      ]
    },
    {
      "cell_type": "code",
      "execution_count": null,
      "metadata": {
        "id": "HLiJMqsKwD8l"
      },
      "outputs": [],
      "source": [
        "# creating the function for text cleaning\n",
        "def clean_meaning(text):\n",
        "    text = re.sub(r\"- \", \"\", text) # remove \"- \" this appear when the word is cut to pass the next line eg. \"scien- ce\"\n",
        "    text= re.sub(r'\\S+@\\S+', '', text) # removing emails\n",
        "    text= re.sub(r'https?:\\/\\/(?:www\\.)?[-a-zA-Z0-9@:%._+~#=]{1,256}\\.[a-zA-Z0-9()]{1,6}[-a-zA-Z0-9()@:%_+.~#?&\\/=]*','',text) # remove URL\n",
        "    #text = re.sub(r\"\\sd\\s\", \" \", text) # removing single letters\n",
        "    \n",
        "    return text"
      ]
    },
    {
      "cell_type": "code",
      "source": [
        "data.columns"
      ],
      "metadata": {
        "colab": {
          "base_uri": "https://localhost:8080/"
        },
        "id": "NsrkdGWs7BVB",
        "outputId": "868177e2-0723-45e3-9bf7-8a92930101e9"
      },
      "execution_count": null,
      "outputs": [
        {
          "output_type": "execute_result",
          "data": {
            "text/plain": [
              "Index(['Unnamed: 0', 'fulltext', 'Authors', 'Title', 'DOI', 'Abstract'], dtype='object')"
            ]
          },
          "metadata": {},
          "execution_count": 303
        }
      ]
    },
    {
      "cell_type": "code",
      "source": [],
      "metadata": {
        "id": "QYbS8sQT7Dzf"
      },
      "execution_count": null,
      "outputs": []
    },
    {
      "cell_type": "code",
      "execution_count": null,
      "metadata": {
        "id": "pWOWMx7zwN1i"
      },
      "outputs": [],
      "source": [
        "# applying function \n",
        "# \"clean_meaning\" is text for advance analysis\n",
        "data['fulltext_clean'] = data['fulltext'].apply(lambda x: clean_meaning(x))\n",
        "data['Abstract_clean'] = data['Abstract'].apply(lambda x: clean_meaning(x))"
      ]
    },
    {
      "cell_type": "markdown",
      "metadata": {
        "id": "CyFX1me1MvKl"
      },
      "source": [
        "### Removing all references"
      ]
    },
    {
      "cell_type": "code",
      "execution_count": null,
      "metadata": {
        "id": "amstQ1HlCF7F"
      },
      "outputs": [],
      "source": [
        "# removing all the caracthers after the word \"References\"\n",
        "def removeReferences(doc):\n",
        "  doc = doc.split(\"References\", 1)\n",
        "  return doc[0]\n",
        "\n",
        "# removing all the caracthers after the word \"Acknowledgements\"\n",
        "def removeAcknowledgements(doc):\n",
        "  doc = doc.split(\"Acknowledgements\", 1)\n",
        "  return doc[0]\n",
        "\n",
        "# removing all the caracthers after the word \"Acknowledgements\"\n",
        "def removeAppendix(doc):\n",
        "  doc = doc.split(\"Appendix\", 1)\n",
        "  return doc[0]\n"
      ]
    },
    {
      "cell_type": "markdown",
      "source": [
        "## Removing references & checking (counting)"
      ],
      "metadata": {
        "id": "U6ofUjyE0EDZ"
      }
    },
    {
      "cell_type": "code",
      "execution_count": null,
      "metadata": {
        "id": "_pgdjZ0dKwDf"
      },
      "outputs": [],
      "source": [
        "# counting the ocurrences of the worrd\n",
        "data['count_ref'] = list(map(lambda x: x.count(\"References\"), data['fulltext_clean']))\n",
        "# New text without references\n",
        "data['fulltext_noref']= data['fulltext_clean'].apply(removeReferences)\n",
        "# checking no ocurrences of \"References\" in the text\n",
        "data['count_ref1'] = list(map(lambda x: x.count(\"References\"), data['fulltext_noref']))"
      ]
    },
    {
      "cell_type": "markdown",
      "source": [
        "### Removing Acknowledgement"
      ],
      "metadata": {
        "id": "ArAmG6i20aTq"
      }
    },
    {
      "cell_type": "code",
      "source": [
        "data['fulltext_no_Aknow'] = data['fulltext_noref'].apply(removeAcknowledgements) \n",
        "#data['text_no_Aknow'] = data['text_no_Aknow'].apply(removeAppendix) "
      ],
      "metadata": {
        "id": "ajA_ydHMv8PC"
      },
      "execution_count": null,
      "outputs": []
    },
    {
      "cell_type": "markdown",
      "source": [
        "## Extracting conclusions"
      ],
      "metadata": {
        "id": "rUPWfyXLxkAH"
      }
    },
    {
      "cell_type": "code",
      "source": [
        "data['discussion']= data['fulltext_no_Aknow'].str.split('Discussion|DISCUSSION|Results and discussion').str[1]"
      ],
      "metadata": {
        "id": "MnMFfCTbiFxs"
      },
      "execution_count": null,
      "outputs": []
    },
    {
      "cell_type": "code",
      "source": [
        "data['conclusion']= data['fulltext_no_Aknow'].str.split('Conclusion|Conclusions').str[1]\n",
        "data['conclusion']= data['conclusion'].str.split('Appendix').str[0]\n",
        "\n"
      ],
      "metadata": {
        "id": "bHDmMzw8zNA6"
      },
      "execution_count": null,
      "outputs": []
    },
    {
      "cell_type": "code",
      "source": [],
      "metadata": {
        "id": "rxBhePoht01n"
      },
      "execution_count": null,
      "outputs": []
    },
    {
      "cell_type": "code",
      "source": [
        "data.head(2)"
      ],
      "metadata": {
        "colab": {
          "base_uri": "https://localhost:8080/",
          "height": 366
        },
        "id": "BaaMAnYwtk-K",
        "outputId": "decad778-227e-4b10-828d-5e91062f3130"
      },
      "execution_count": null,
      "outputs": [
        {
          "output_type": "execute_result",
          "data": {
            "text/html": [
              "\n",
              "  <div id=\"df-ff398d0a-86cc-4e8f-88ac-f6344dbd7314\">\n",
              "    <div class=\"colab-df-container\">\n",
              "      <div>\n",
              "<style scoped>\n",
              "    .dataframe tbody tr th:only-of-type {\n",
              "        vertical-align: middle;\n",
              "    }\n",
              "\n",
              "    .dataframe tbody tr th {\n",
              "        vertical-align: top;\n",
              "    }\n",
              "\n",
              "    .dataframe thead th {\n",
              "        text-align: right;\n",
              "    }\n",
              "</style>\n",
              "<table border=\"1\" class=\"dataframe\">\n",
              "  <thead>\n",
              "    <tr style=\"text-align: right;\">\n",
              "      <th></th>\n",
              "      <th>Unnamed: 0</th>\n",
              "      <th>fulltext</th>\n",
              "      <th>Authors</th>\n",
              "      <th>Title</th>\n",
              "      <th>DOI</th>\n",
              "      <th>Abstract</th>\n",
              "      <th>fulltext_clean</th>\n",
              "      <th>Abstract_clean</th>\n",
              "      <th>count_ref</th>\n",
              "      <th>fulltext_noref</th>\n",
              "      <th>count_ref1</th>\n",
              "      <th>fulltext_no_Aknow</th>\n",
              "      <th>discussion</th>\n",
              "      <th>conclusion</th>\n",
              "    </tr>\n",
              "  </thead>\n",
              "  <tbody>\n",
              "    <tr>\n",
              "      <th>0</th>\n",
              "      <td>0</td>\n",
              "      <td>Citizen science and social licence_ Improving ...</td>\n",
              "      <td>Kelly R,Fleming A,Pecl GT</td>\n",
              "      <td>Citizen science and social licence: Improving ...</td>\n",
              "      <td>10.1016/j.ocecoaman.2019.104855</td>\n",
              "      <td>Marine stakeholder groups have diverse relatio...</td>\n",
              "      <td>Citizen science and social licence_ Improving ...</td>\n",
              "      <td>Marine stakeholder groups have diverse relatio...</td>\n",
              "      <td>2</td>\n",
              "      <td>Citizen science and social licence_ Improving ...</td>\n",
              "      <td>0</td>\n",
              "      <td>Citizen science and social licence_ Improving ...</td>\n",
              "      <td>NaN</td>\n",
              "      <td>The concept of social licence has many compon...</td>\n",
              "    </tr>\n",
              "    <tr>\n",
              "      <th>1</th>\n",
              "      <td>1</td>\n",
              "      <td>Urban regeneration_ Community engagement proce...</td>\n",
              "      <td>Kim G,Newman G,Jiang B</td>\n",
              "      <td>Urban regeneration: Community engagement proce...</td>\n",
              "      <td>10.1016/j.cities.2020.102730</td>\n",
              "      <td>Vacant land presents many challenges for older...</td>\n",
              "      <td>Urban regeneration_ Community engagement proce...</td>\n",
              "      <td>Vacant land presents many challenges for older...</td>\n",
              "      <td>2</td>\n",
              "      <td>Urban regeneration_ Community engagement proce...</td>\n",
              "      <td>0</td>\n",
              "      <td>Urban regeneration_ Community engagement proce...</td>\n",
              "      <td>4.1. Understanding the problems and potential...</td>\n",
              "      <td>Community engagement is an ongoing process, n...</td>\n",
              "    </tr>\n",
              "  </tbody>\n",
              "</table>\n",
              "</div>\n",
              "      <button class=\"colab-df-convert\" onclick=\"convertToInteractive('df-ff398d0a-86cc-4e8f-88ac-f6344dbd7314')\"\n",
              "              title=\"Convert this dataframe to an interactive table.\"\n",
              "              style=\"display:none;\">\n",
              "        \n",
              "  <svg xmlns=\"http://www.w3.org/2000/svg\" height=\"24px\"viewBox=\"0 0 24 24\"\n",
              "       width=\"24px\">\n",
              "    <path d=\"M0 0h24v24H0V0z\" fill=\"none\"/>\n",
              "    <path d=\"M18.56 5.44l.94 2.06.94-2.06 2.06-.94-2.06-.94-.94-2.06-.94 2.06-2.06.94zm-11 1L8.5 8.5l.94-2.06 2.06-.94-2.06-.94L8.5 2.5l-.94 2.06-2.06.94zm10 10l.94 2.06.94-2.06 2.06-.94-2.06-.94-.94-2.06-.94 2.06-2.06.94z\"/><path d=\"M17.41 7.96l-1.37-1.37c-.4-.4-.92-.59-1.43-.59-.52 0-1.04.2-1.43.59L10.3 9.45l-7.72 7.72c-.78.78-.78 2.05 0 2.83L4 21.41c.39.39.9.59 1.41.59.51 0 1.02-.2 1.41-.59l7.78-7.78 2.81-2.81c.8-.78.8-2.07 0-2.86zM5.41 20L4 18.59l7.72-7.72 1.47 1.35L5.41 20z\"/>\n",
              "  </svg>\n",
              "      </button>\n",
              "      \n",
              "  <style>\n",
              "    .colab-df-container {\n",
              "      display:flex;\n",
              "      flex-wrap:wrap;\n",
              "      gap: 12px;\n",
              "    }\n",
              "\n",
              "    .colab-df-convert {\n",
              "      background-color: #E8F0FE;\n",
              "      border: none;\n",
              "      border-radius: 50%;\n",
              "      cursor: pointer;\n",
              "      display: none;\n",
              "      fill: #1967D2;\n",
              "      height: 32px;\n",
              "      padding: 0 0 0 0;\n",
              "      width: 32px;\n",
              "    }\n",
              "\n",
              "    .colab-df-convert:hover {\n",
              "      background-color: #E2EBFA;\n",
              "      box-shadow: 0px 1px 2px rgba(60, 64, 67, 0.3), 0px 1px 3px 1px rgba(60, 64, 67, 0.15);\n",
              "      fill: #174EA6;\n",
              "    }\n",
              "\n",
              "    [theme=dark] .colab-df-convert {\n",
              "      background-color: #3B4455;\n",
              "      fill: #D2E3FC;\n",
              "    }\n",
              "\n",
              "    [theme=dark] .colab-df-convert:hover {\n",
              "      background-color: #434B5C;\n",
              "      box-shadow: 0px 1px 3px 1px rgba(0, 0, 0, 0.15);\n",
              "      filter: drop-shadow(0px 1px 2px rgba(0, 0, 0, 0.3));\n",
              "      fill: #FFFFFF;\n",
              "    }\n",
              "  </style>\n",
              "\n",
              "      <script>\n",
              "        const buttonEl =\n",
              "          document.querySelector('#df-ff398d0a-86cc-4e8f-88ac-f6344dbd7314 button.colab-df-convert');\n",
              "        buttonEl.style.display =\n",
              "          google.colab.kernel.accessAllowed ? 'block' : 'none';\n",
              "\n",
              "        async function convertToInteractive(key) {\n",
              "          const element = document.querySelector('#df-ff398d0a-86cc-4e8f-88ac-f6344dbd7314');\n",
              "          const dataTable =\n",
              "            await google.colab.kernel.invokeFunction('convertToInteractive',\n",
              "                                                     [key], {});\n",
              "          if (!dataTable) return;\n",
              "\n",
              "          const docLinkHtml = 'Like what you see? Visit the ' +\n",
              "            '<a target=\"_blank\" href=https://colab.research.google.com/notebooks/data_table.ipynb>data table notebook</a>'\n",
              "            + ' to learn more about interactive tables.';\n",
              "          element.innerHTML = '';\n",
              "          dataTable['output_type'] = 'display_data';\n",
              "          await google.colab.output.renderOutput(dataTable, element);\n",
              "          const docLink = document.createElement('div');\n",
              "          docLink.innerHTML = docLinkHtml;\n",
              "          element.appendChild(docLink);\n",
              "        }\n",
              "      </script>\n",
              "    </div>\n",
              "  </div>\n",
              "  "
            ],
            "text/plain": [
              "   Unnamed: 0  ...                                         conclusion\n",
              "0           0  ...   The concept of social licence has many compon...\n",
              "1           1  ...   Community engagement is an ongoing process, n...\n",
              "\n",
              "[2 rows x 14 columns]"
            ]
          },
          "metadata": {},
          "execution_count": 310
        }
      ]
    },
    {
      "cell_type": "code",
      "source": [
        "data[\"discussion\"].fillna(data[\"conclusion\"], inplace=True)\n",
        "data[\"discussion\"].str.len()"
      ],
      "metadata": {
        "colab": {
          "base_uri": "https://localhost:8080/"
        },
        "id": "_0NTxVXl_TPd",
        "outputId": "a3c0e146-9eb1-4725-ed19-5e0a7ffc290f"
      },
      "execution_count": null,
      "outputs": [
        {
          "output_type": "execute_result",
          "data": {
            "text/plain": [
              "0      3688\n",
              "1     15703\n",
              "2     15203\n",
              "3     11448\n",
              "4     29583\n",
              "5     26447\n",
              "6     31507\n",
              "7     11683\n",
              "8     21043\n",
              "9      7976\n",
              "10    15664\n",
              "11     2165\n",
              "12    14738\n",
              "13    21511\n",
              "14    36419\n",
              "15     6121\n",
              "16     1673\n",
              "17    10781\n",
              "18    22646\n",
              "19     1479\n",
              "Name: discussion, dtype: int64"
            ]
          },
          "metadata": {},
          "execution_count": 311
        }
      ]
    },
    {
      "cell_type": "code",
      "source": [
        "#checking the conclusion\n",
        "print(data[\"Title\"].iloc[19])\n",
        "print(data[\"conclusion\"].iloc[8])\n",
        "print(data[\"discussion\"].iloc[14])\n",
        "print(data[\"fulltext_no_Aknow\"].iloc[4])\n",
        "\n"
      ],
      "metadata": {
        "colab": {
          "base_uri": "https://localhost:8080/"
        },
        "id": "WP2SJfZT9rOL",
        "outputId": "3a69b760-24fe-4362-9f80-b00078d85d2b"
      },
      "execution_count": null,
      "outputs": [
        {
          "output_type": "stream",
          "name": "stdout",
          "text": [
            "Using community engagement to implement evidence-based practices for opioid use disorder: A data-driven paradigm & systems science approach\n",
            " The contributory citizen science project, the GKC, has been useful in the early stages of policy development. Utilising the phases in the policy process described by Walters et al. (2000), we have described the utility of citizen science in ‘Discovery’, ‘Measurement’ and ‘Education’. Citizen science projects might also be useful in ‘Persuasion’ and ‘Legitimization’. Our work supports the previous assertion (Shirk et al., 2012) that contributory citizen science projects can make valuable contributions outside scientific research (i.e., policy outcomes) if they are explicitly designed to achieve these outcomes. Our evaluation found some differences in opinions between citizen scientists involved in the GKC project, onlookers and a sample of the wider community. However, we contend that data from citizen science projects are useful for policy makers because these projects provide the opportunity for dialogue with the people most interested in the topic of interest. Further, the community involvement in the projects is of benefit to policy makers through other project outcomes, particularly education and the impacts on the opinions of participants. We suggest that citizen science projects can be used to replace or augment traditional strategies of participation for the purpose of policy development. While our research was focussed on an environmental issue, the methods we have used may also be useful in other policy areas such as health, where data collection about the topic and about people’s opinions is necessary. Acknowledgments We acknowledge the hundreds of citizens who participated in the Great Koala Count and also those who participated in our subsequent survey for this research paper. e n v i r o n m e n t a l s c i e n c e & p o l i c y 4 7 ( 2 0 1 5 ) 1 2 6 – 1 3 6 135 The GKC was led by the University of South Australia’s Barbara Hardy Institute with project partners: the Department of Environment, Water and Natural Resources (DEWNR), Adelaide & Mount Lofty Ranges Natural Resources Management Board (AMLRNRMB), Commonwealth Scientific and Industrial Research Organisation (CSIRO) and Australian Broadcasting Corporation (ABC) Local Radio. This research was conducted with approval from the Human Research Ethics Committee of the University of South Australia (protocol ID: 31746). We also acknowledge the University of South Australia’s Barbara Hardy Institute, the Natural Resources Management Board and SA Water for grants and scholarships funding this research. We would also like to thank two anonymous peer reviewers whose comments have helped us to improve this paper considerably. r e f e r e n c e s Battersby, J.E., Greenwood, J.J.D., 2004. Monitoring terrestrial mammals in the UK: past, present and future, using lessons from the bird world. Mammal Rev. 34, 3–29. Bonney, R., 2007. Citizen science at the Cornell Lab of Ornithology. In: Yager, R.E., Falk, J.H. (Eds.), Exemplary Science in Informal Education Settings: Standards-based Success Stories. NSTA Press, Arlington. Bonney, R., Ballard, H., Jordan, R., McCallie, E., Phillips, T., Shirk, J., Wilderman, C.C., 2009. Public Participation in Scientific Research: Defining the Field and Assessing its Potential for Informal Science Education. Center for Advancement of Informal Science Education (CAISE), Washington D.C. Brereton, T., Roy, D.B., Middlebrook, I., Botham, M., Warren, M., 2011. The development of butterfly indicators in the United Kingdom and assessments in 2010. J. Insect Conserv. 15, 139–151. Brossard, D., Lewenstein, B., Bonney, R., 2005. Scientific knowledge and attitude change: the impact of a citizen science project. Int. J. Sci. Educ. 27, 1099–1121. Cooper, C.B., 2012. Links and distinctions among citizenship, science, and citizen science. Democr. Educ. 20, 1–4. Couvet, D., Jiguet, F., Julliard, R., Levrel, H., Teyssedre, A., 2008. Enhancing citizen contributions to biodiversity science and public policy. Interdisipl. Sci. Rev. 33, 95–103. Davey, C.M., Vickery, J.A., Boatman, N.D., Chamberlain, D.E., Parry, H.R., Siriwardena, G.M., 2010. Assessing the impact of entry level stewardship on lowland farmland birds in England. Ibis 152, 459–474. Dickinson, J.L., Bonney, R., 2012. Why citizen science? In: Dickinson, J.L., Bonney, R. (Eds.), Citizen Science: Public Participation in Environmental Research. Cornell University Press, Ithaca. Duka, T., Masters, P., 2005. Confronting a tough issue: fertility control and translocation for over-abundant Koalas on Kangaroo Island, South Australia. Ecol. Manage. Restor. 6, 172–181. Fernandez-Gimenez, M.E., Ballard, H.L., Sturtevant, V.E., 2008. Adaptive management and social learning in collaborative and community-based monitoring: a study of five community-based forestry organizations in the western USA. Ecol. Soc. 13, 4–26. Fogg, B.J., Eckles, D. (Eds.), 2007. Mobile Persuasion: 20 Perspectives on the Future of Behavior Change. Stanford Captology Media, Stanford, CA. Fox, R., Randle, Z., Hill, L., Anders, S., Wiffen, L., Parsons, M.S., 2011a. Moths count: recording moths for conservation in the UK. J. Insect Conserv. 15, 55–68. Fox, R., Warren, M.S., Brereton, T.M., Roy, D.B., Robinson, A., 2011b. A new Red List of British butterflies. Insect Conserv. Diver. 4, 159–172. Government of South Australia, 2010. The 30-Year Plan for Greater Adelaide. Department of Planning and Local Government, Adelaide. Greenwood, J., 2012. Citizens, science and environmental policy. In: Dickinson, J.L., Bonney, R. (Eds.), Citizen Science: Public Participation in Environmental Research. Cornell University Press, United States of America. Gregory, R.D., Noble, D.G., Custance, J., 2004. The state of play of farmland birds: population trends and conservation status of lowland farmland birds in the United Kingdom. Ibis 146, 1–13. Head, B.W., 2007. Community engagement: participation on whose terms? Aust. J. Polit. Sci. 42, 441–454. Lawrence, A., 2006. ‘No personal motive?’ Volunteers, biodiversity, and the false dichotomies of participation. Ethics Place Environ. 9, 279–298. Maisonneuve, N., Stevens, M., Ochab, B., 2010. Participatory noise pollution monitoring using mobile phones. Inf. Polity 15, 51–71. Miller-Rushing, A., Primack, R., Bonney, R., 2012. The history of public participation in ecological research. Front. Ecol. Environ. 10, 285–290. Natural Resource Management Ministerial Council, 2009. National Koala Conservation and Management Strategy 2009–2014. Department of the Environment, Water, Heritage and the Arts, Canberra1–37. Nielsen Media Research, 2012. Adelaide Radio Survey #8 Commercial Radio Australia, Surry Hills, NSW. Purcell, K., Garibay, C., Dickinson, J.L., 2012. A gateway to science for all: celebrate urban birds. In: Dickinson, J.L., Bonney, R. (Eds.), Citizen Science: Public Participation in Environmental Research. Cornell University Press, Ithaca. Robinson, A.C., 1978. The koala in South Australia. In: Bergin, T.J. (Ed.), The Koala. Proceedings of the Taronga Symposium on Koala Biology Management and Medicine. Zoological Parks Board of New South Wales, Sydney, pp. 132–143. Robinson, A.C., Spark, R., Halstead, C., 1989. The distribution and management of the koala (Phascolarctos cinereus) in South Australia. S. Aust. Nat. 64, 24. Roy, H.E., Pocock, M.J.O., Preston, C.D., Roy, D.B., Savage, J., Tweddle, J.C., Robinson, L.D., 2012. Understanding citizen science and environmental monitoring. Final Report on be half of the UK Environmental Observation Framework. NERC Centre for Ecology & Hydrology and Natural History Museum. Rowe, G., Frewer, L.J., 2004. Evaluating public-participation exercises: a research agenda. Sci. Technol. Hum. Val. 29, 512–556. Sequeira, A., Roetman, P., Daniels, C., Baker, A., Bradshaw, C., 2014. Distribution models for koalas in South Australia using citizen science-collected data. Ecol. Evol. 4, 2103–2114. Shirk, J., Ballard, H.L., Wilderman, C.C., Phillips, T., Wiggins, A., Jordan, R., McCallie, E., Minarchek, M., Lewenstein, B., Krasny, M.E., Bonney, R., 2012. Public participation in scientific research – a framework for deliberate design. Ecol. Soc. 17, 29–49. Simpson, A., Jarnevich, C., Madsen, J., Westbrooks, R., Fournier, C., Mehrhoff, L., Browne, M., Graham, J., Sellers, E., 2009. Invasive species information networks: collaboration at multiple scales for prevention, early detection, and rapid response to invasive alien species. Biodiversity 10, 5–13. Stratford, E., Mazur, N., Lunney, D., Bennett, D., 2000. Managing the Koala problem: interdisiplinary perspectives. Conserv. Biol. 14, 610–618.                                                                                                            e n v i r o n m e n t a l s c i e n c e & p o l i c y 4 7 ( 2 0 1 5 ) 1 2 6 – 1 3 6136 Triezenberg, H.A., Knuth, B.A., Yuan, Y.C., Dickinson, J.L., 2012. Internet-based social networking and collective action models of citizen science. In: Dickinson, J.L., Bonney, R. (Eds.), Citizen Science: Public Participation in Environmental Research. Cornell University Press, United States of America. Tudor, M.T., Dvornich, K.M., 2001. The naturemapping program: resource agency environmental education reform. J. Environ. Educ. 32, 8–14. Tulloch, A.I.T., Possingham, H.P., Joseph, L.N., Szabo, J., Martin, T.G., 2013. Realising the full potential of citizen science monitoring programs. Biol. Conserv. 165, 128–138. Walters, L.C., Aydelotte, J., Miller, J., 2000. Putting more public in policy analysis. Public Admin. Rev. 60, 349–359. Wilderman, C., Shirk, J., 2010. Monitoring from the summit to the sea. In: Seventh National Monitoring Conference, Denver, Colorado. Wood, C., Sullivan, B., Iliff, M., Fink, D., Kelling, S., 2011. eBird: engaging birders in science and conservation. PLOS Biol. 9, e1001220. Wooden, R., 2006. The principles of public engagement: at the nexus of science, public policy influence, and citizen education. Soc. Res. 73, 1057–1064. Yackee, J.W., Yackee, S.W., 2006. A bias towards business? Assessing interest group influence on the U.S. bureaucracy. J. Polit. 68, 128–139.                          Citizen science for policy development: The case of koala management in South Australia 1 Introduction 1.1 Background 1.1.1 Koala management in South Australia 1.1.2 Great Koala Count 1.1.3 The policy development framework (Walters et al., 2000) 2 Methods 2.1 Survey design and sampling 2.2 Data analysis 3 Results 3.1 Koala management 3.2 Participation in another GKC 3.3 Impact of the GKC on participants 4 Discussion 5 \n",
            " 3.1. Problem identification The identification of vital water ES challenges at local level that Fig. 2. a) Geographical location of study sites in a SRTM DEM map; b) Google Earth locations of two lidar stations in the River Karnali: Chisapani (upstream) and Phanta (downstream) (Google Earth Map, 2020). B. Pandeya et al. Current Research in Environmental Sustainability 3 (2021) 100059 5 directly relates to improving local lives and livelihoods can make a real difference in data and knowledge cogeneration. Local people in remote mountainous regions of Nepal are struggling with unpredictable hydroclimatic behaviour coupled with a complex socio-hydrological environment. In both case study projects, we held participatory discussions with local communities and key stakeholder organizations such as Practical Action, DHM and local government authorities to identify water management challenges and underlying gaps in the knowledge and data. In the Upper Kaligandaki Basin, a higher degree of rainfall and snowfall uncertainties is causing an agricultural related water management challenge to local farmers whereas an increased frequency of high intensity rainfall during the monsoon has created growing flooding risk to basin communities in the low-lands of the Karnali Basin region. Such challenges are further compounded by human interventions in the catchment. These include land use change, riverine encroachment and unsustainable urbanization and infrastructural development activities. In the Upper Kaligandaki Basin, local communities shared their management challenges of continuing their traditional agricultural practices which require regular supply of water most of the year. Since it is very difficult to understand and predict changing water availability without scientific measurement, these communities were most interested in contributing to stream water level monitoring. A local participant put it clearly: ‘since the Karnali river is frequently and constantly changes its course during the monsoon, which is further exacerbated by human interventions along the river channel such as sand mining and river encroachment, a community based river water level monitoring can improve flood EWS system and reduce any future flood risks’. Local communities and key end users such as the DHM and Practical Action Nepal actively participated in both project design and implementation processes. 3.2. Local motivation and engagement A strong local motivation is fundamental to any CS initiative as it helps to accelerate local people's participation in monitoring, data sharing and community engagement. However, local motivation is dynamically changing throughout the project duration as it is guided by personal interests and external factors such as technical support and acknowledgement (Rotman et al., 2012). In the Upper Kaligandaki Basin, once local farmers from both villages understood the benefits of water sensors and their role in participatory monitoring, they have shown their enthusiasm in CS-based monitoring of the Lumbuk stream (only water source available for local irrigation). Observations made on site took place with community involvement, cogenerating relevant data and information (Fig. 3). Local key informants were recruited to monitor water level. For instance, local people told us that potato and cereal crops used to be the main agricultural products but that due to water uncertainties and a lack of sufficient labour force, there had been a shift towards growing more resilient crops such as apples and walnuts, adopting water harvesting techniques and finding ways to share the resource more equitably (Manandhar et al., 2011). Water sharing is seen as particularly important, the communities we spoke to recording and allocating water to separate farmers according to an agreed protocol. This is a good example of the adaptability of communities who find themselves facing uncertainties about water supply. Such adaptive decision making can be further strengthened by the local involvement in CS-based monitoring of water resources, particularly their role in the adoption of low-cost sensors and participatory data collection methods. In the Karnali River Basin, local communities and key stakeholder organizations such as DHM and Practical Action Nepal actively participated in local discussions on how CS activities including the testing of low-cost sensors could generate robust data to support community flood EWS (Fig. 4). Targeted local engagement activities generated local enthusiasm on effective operation of low-cost sensors and making data available to basin communities and existing flood EWS. We received valuable feedback from local people; for example, one important piece of feedback from villagers was to build a network of real-time data displays at community centres. This could also help to share water level data with community people and may significantly enhance local flood risk resilience capacity. As part of local engagement activities, we also organized policy dialogues with key end-users such as the DHM, Practical Action Nepal and local organizations including District Emergency Operations Centre (DEOC) member organizations, NGOs and government authorities to discuss opportunities and challenges arising from this innovative approach. Such interactions were very useful in identifying where low-cost sensors can most effectively be installed and how best to induct local residents in recording and relaying in a timely manner the data they generate. Regarding the latter, sensor data can be used during periods of very high water which warn authorities and communities to take actions before the flood strikes. Although local people showed their continued enthusiasm in lowcost sensors, participatory monitoring and targeted local engagements, local motivation in CS activities can be easily eroded over time due to Fig. 3. Water ES management in the Upper Kali-Gandaki Basin a) agricultural land at Phalyak village; b) irrigation pond at Dhakarjhong village; c) apple farming at Ghyakar village, and d) a community discussion at Dhakarjhong village. B. Pandeya et al. Current Research in Environmental Sustainability 3 (2021) 100059 6 people's time constraints and other competing interests (Rotman et al., 2012). Sometimes local volunteers begin to question the rationale for projects if they feel they lack ownership in the overall objective or framing (Rotman et al., 2014). Lack of citizens' long-term motivation may compromise the very nature of participatory monitoring, which in turn can have direct consequences on data quality control. Public engagement may also become less effective when the geographical scale of monitoring activities increases (Sheldon and Ashcroft, 2016). We were mindful of these challenges in designing the pilot projects in Nepal and achieved active and continued local participation in both cases. In the Upper Kaligandaki Basin where one of the CS projects was carried out in a small catchment, participatory monitoring and local engagement activities were occurred at community level. Whereas in the lower Karnali River Basin, local engagements were held both at community and at a larger basin level. We found that local people actively participated in both small and larger scale projects. This shows that the local enthusiasm in CS activities and their participation mainly rely on whether the CS initiative is trying to address a key local water ES management challenge. The experience from these two case studies assured us that the continued motivation and effective public engagements mainly relied on how successfully the local concerns are identified, what are the robust and easy to use low-cost sensors, and designing of effective data collection and sharing mechanism. 3.3. Affordable technology and ICT applications Affordable technologies and the use of ICT applications are now common features of CS projects. In the current research project, we designed data logger based low-cost sensors (a pressure level sensor for the Upper Kaligandaki Basin and two LiDAR Distance Sensors for the Lower Karnali Basin). Data stored in SD cards can easily be read on computer and deposited in online data repositories. A rapid use of lowcost sensors has been transforming CS-based hydrological monitoring. At the same time, increased internet coverage (even in remote areas) can make these sensors accessible by linking them to online platforms. Although emerging low-cost sensors and web-based interactive platforms could become a perfect match for streamlining data collection, quality control and communication, local capacities to take charge of those critical aspects of participatory data cogeneration is still lagging behind. To address these challenges, CS initiatives might need to be more efficient in the way data are verified and applied in local decision making. Technologies with the least complexity and low maintenance costs could make participatory monitoring more sustainable. Since most conventional hydrological monitoring instruments are expensive and also require higher installation costs, affordable monitoring technologies have many applications, especially in remote and data-scarce regions and for those areas where investment in water resources monitoring at local level is low. In this situation, a successful use of lowcost monitoring sensors could provide both robust and user-friendly hydrological instruments for local stakeholders to generate data and knowledge directly applicable to water resources management (Buytaert et al., 2014). The use of low-cost sensors in hydrologic research and water ES is becoming increasingly popular (for e.g., Jollymore et al., 2017, Paul et al., 2018). However, their systematic use in water resources management is a new phenomenon. Crowd-sourcing of hydrological data has been playing an important role in generating supplemented hydrological data for research and public engagement (Lowry and Fienen, 2012). While low-cost sensors have made it possible to encourage local people in participatory monitoring of water services, it is not yet clear that local people and stakeholder organizations are fully aware of collected water data and their effective use in decision making. In the Lumbuk stream of the Upper Kaligandaki basin, we installed pressure level transducers (sensors) for water level sensing (Fig. 4c), a Fig. 4. Citizen Science activities a) Local interaction with local volunteers in the Karnali Basin, b) Sensor demonstration at Phanta community c) A Pressure Level Sensor installed in the Lumbuk stream of the Upper Kaligandaki Basin, and b) A LiDAR Distance Sensor installed at Chisapani area of the Lower Karnali Basin. B. Pandeya et al. Current Research in Environmental Sustainability 3 (2021) 100059 7 type of technology that has already proven effective to monitor stream water level in high mountainous areas. For the Karnali River basin, we designed low-cost LiDAR Distance Sensors (Fig. 4d), which have proven robust and well adapted to the region's tough climatic conditions. The LiDAR sensor is suitable for large rivers as it can measure up to 40 m of distance. LiDAR sensor is also cost-effective (fully integrated loggers can be made for as low as US$250–$300), which is well below compared to existing RADAR system based automatic hydrological monitoring system. It is understood that the approximate cost for the existing RADAR system (including installation) could be around US$10,000. As well as being cheap, they are easy to use and install which is useful for remote areas currently lacking data. This new sensor has been generating robust data comparable to DHM operated RADAR System data (Fig. 5). The use of low-cost monitoring sensors has also attracted local key informants, relevant government authorities, women and poor in both CS projects. It showed that the selection of the right monitoring technologies has a positive influence in hydrological data cogeneration. Once this monitoring system is linked to community early warning system, there is a good chance of improving community flood risk resilience capacity. 3.4. Data quality control Sensor data needs to be systematically processed in order to prove the robustness of CS data and their use in local decision making. Since CS methodologies are diverse and often lead to varying errors and biases (Engel and Voshell Jr., 2002), data systematization is a major concern for many CS projects in terms of their effective re-usability and integration across disciplines (Schade and Tsinaraki, 2016). Local participation in both our case studies was self-motivated and there was a willingness to learn about local hydro-climatic uncertainties and the need to adapt to them. Fig. 5 shows the trend analysis of two LiDAR sensors installed at Chisapani and Phanta. At Chisapani station, LiDAR sensor data is comparable to DHM operated RADAR-based data. It proves the robust data quality of LiDAR sensors. Although CS generated data was scientifically verified, due to our flexible monitoring protocols, structural differences were apparent with conventional monitoring practices which could undermine the effective use of collected data and information in the long term. Current protocols for data logging system needed to be transformed into a real-time data logging and transmission system. Further adjustments would make the LiDAR sensor even more effective. These include solving power back-up with solar panel system, improving communication mode with real time data collection and displaying at community centres. Participatory data collection and their rigorous analysis is fundamental for CS practices in order to prove their scientific robustness. This ensures the usability of CS data in resources management. In the Karnali River Basin, a new LiDAR water level sensor was able to replicate the DHM generated RADAR system data at a greater temporal resolution (Fig. 5). The LiDAR sensors are capable of collecting river level data in every minute compatible with existing RADAR data. This has proven the technical robustness and a better temporal resolution of low-cost LiDAR Distance Sensor. This technique could therefore be directly used in community flood early warning system in the basin. Although CS generated data can be reliably high quality equal to those produced by professional sciences, each CS data should be judged separately according to project design and application (Kosmala et al., 2016). Data quality control needs to incorporate data analytical and visualization tools that can correctly reveal patterns of data (Hochachka et al., 2012). Our CS projects also show that there is a need for increased emphasis on data quality control, including adopting rigorous protocols such as repeated sampling at predetermined intervals, improved strategies for reducing spatial biases, use of quizzes and games to evaluate observer skill, and tools for inclusion of data on observer quality in the database. A continuing collaboration between local communities and relevant hydro-climatic institutions can support in participatory data collection, quality check and their systematic use in decision making and resources management. 3.5. Scientific and policy impacts In the Lower Karnali River Basin, the data generated by the low-cost sensors has the potential to help existing community flood EWSs by increasing the lead-time of potential flood risks. Our efforts to identify the issues has helped to cogenerate essential but supplementary data to support such critical water ES management. The pilot case study also clearly indicates that appropriate CS initiatives can encourage local volunteers in data and knowledge cogeneration if sufficient attention can be given to identify community concerns at an early stage of project design. However, our research findings also raise a key question: the extent to which it is possible to incorporate these necessarily more locally tailored approaches to monitoring and reporting into established hydrological monitoring and management practices. With the advancement of user friendly low-cost sensors and online ICT technologies, CS practices could be an effective approach for remote and datascarce Himalayan region. The experiments also show that the greater availability of data and simplified tools means that local stakeholders would be able to use such tools independently and integrate new data into their local decision making. Accelerating the use of CS practices requires a more formalized CS practices and their encouragement and promotion by local policy makers and practitioners (Newman et al., 2012; Hecker et al., 2018). While there is a strong innovative technological aspect to all this, further experimental research may be required before adopting the approach more widely. CS approaches also have potential to implement transformative research projects on coupled human and natural systems that can support ecological and environmental decision making (Crain et al., 2014). For remote and data-scarce environments where leveraging CS data and knowledge has crucial role to make water ES valuation more inclusive and policy-oriented (Pandeya et al., 2016). In the absence of an appropriate data sharing mechanism, CS practice could influence existing decision making negatively, mainly due to misusing of CS data by certain members of the public for their benefits. Despite continuing methodological challenges, CS approach has been effective in raising public perception on how water resources is functioning to produce services; what are major concerns; and how that can be remediated. Now, there is a real optimism that CS project can play a major role in water ES management. 3.6. Upscaling and sustainability Despite some positive impacts of these CS projects in terms of data generation and policy advocacy, upscaling them is not an easy task. It requires designing more robust sensors and CS activities as policy and decision makers want more research and proven methodologies before adopting them into their existing monitoring and management practices. DHM's technical team expressed their concerns on how to maintain Fig. 5. LiDAR sensor based river water level data compared with existing RADAR system data. B. Pandeya et al. Current Research in Environmental Sustainability 3 (2021) 100059 8 power back (such as solar or battery powered system), how to improve data logging and communication mode of sensors in the longer term. Key local stakeholders including the DHM and Practical Action have also emphasized that expanding such testing in different local settings could further improve the robustness of data and sensors. However, structural barriers such as the lack of long-term funding, inconsistency in methodological protocols and poor communication with local communities and end users means that current monitoring activities may not be sustainable in the long-term. Initial collaborations between local people, local authorities and scientific organizations could become less formal after project funding runs out. As a result, the robustness of monitoring sensors could be compromised and this will have consequences for data quality control. For the long-term monitoring, continuing financial support for any project is essential and the sustainability of funding sources needs to be clearly established. Strategic collaboration among participating scientific organizations and local volunteer groups is a necessity not only for maintaining project leadership but also acquiring necessary resources for running monitoring work, public engagements and database management (Dickinson et al., 2012). Enhancing local capacity to take in-charge of monitoring activities can only create a sense of community ownership over CS project. That will encourage local volunteers to acquire skills and knowledge and sharing that with peers. The sustainability of CS approaches also relies on how well experimental monitoring work is led by end users after the project completion. A constant support to local communities in data collection and their verification and systematic integration is essential to strengthen the essence of CS-based polycentric framework. Our community-led, bottom-up approach has shown the potential for devolving water resource management decision making at community levels; such a polycentric model for water governance has been shown to be more effective in remote and data-scarce areas than the currently prevailing top-down, monocentric approach (Buytaert et al., 2016; Paul et al., 2018). Local communities and stakeholder organizations such as DHM, Practical Action Nepal and local government bodies have shown interests in developing a real-time monitoring system and linking them to a telemetry system. In terms of financial sustainability, local communities and stakeholder organizations have emphasized that local authorities could invest in CS-based monitoring which can make the CS projects more sustainable. Local authorities have got full responsibility to manage water and environmental resources at local scale. Success would depend on a close collaboration between scientific organizations, local partners, government authorities, NGOs and communities as well as providing training and capacity building on using the sensors and interpreting the data. If these hurdles can be overcome, the technology and CS approach could offer a long-term solution for water ES management at local scale. 4. The prospect of citizen science in integrated water ES management While water and environmental research activities are becoming more data intensive and collaborative, sharing data has been proven a useful approach, not only for data verification purpose but also to optimize their use in research and policy-making (Tenopir et al., 2011). The research findings from both case study sites showed that the CSbased polycentric framework has a great potential in generating locally relevant data and knowledge. This also proves the fact that CS approach can play a valuable role in producing large and longitudinal data, often complementary to more localized data collection exercises (Dickinson et al., 2010). Although CS practices can be largely divided into two major types ‘user-centric’ where users are collecting data and information on the spot; and ‘device-centric’ where sensor sampling occurs whenever the state of the monitoring device matches the application's requirements (Palacin-Silva et al., 2016), the latter approach has become more useful to data intensive water resources monitoring and management. In our both case studies, low-cost sensors have successfully generated locally relevant data and information. Sensor technologies played key role in data cogeneration and making it available to end users. However, the sustainability of these CS practices remain a major concern as they may need financial support to continue monitoring activities. The use of sensors in both case studies has proved that emerging sensor technologies are opening up new opportunities in environmental monitoring and supporting long-term environmental stewardship (Ho et al., 2005). Newly developed low-cost monitoring sensors mean that CS observatories are capable of collecting large volumes of field-based data (Hochachka et al., 2012). A rapid advancement of ICT applications has further enabled CS initiatives to create user friendly online platforms for data storage and sharing; yet due to resources limitation and lack of local capacities, there is no guarantee for the higher level of public participation in monitoring and decision making (Wehn and Evers, 2015). There will remain some technical challenges in terms of developing suitable sensors and ICT platform to meet local requirements. We found that developing robust sensors for remote and mountain regions is a major challenge as the local hydro-climatic condition is highly unstable and could make data collection unreliable. Both case studies primarily concentrated on critical water ES management challenges at community level – improving agricultural water management in the Upper Kaligandaki Basin and building flood risk resilience in the lower Karnali Basin. That helped to motivate local people and organizations in targeted CS activities. It supports the fact that CS activities are driven by not only to generate scientific data and knowledge of contemporary environmental issues but also to improve environmental decision making and building public awareness for greater societal benefits (Geoghegan et al., 2016). Highly motivated local individuals seek opportunities to participate in scientific enquires, gain skills and expertise in generating new scientific knowledge about ecosystem functioning and share that to local people for environmental awareness and policy advocacy (Johnson et al., 2014). We found that key stakeholder organizations are also enthusiastic in using CS approach including low-cost monitoring sensors. However, it is also the fact that getting desirable research impacts from CS initiatives is still a big challenge since there is an inherent suspicion about the data and results from public participation that it could take decades to positively affect the environment (Irvin and Stansbury, 2004). CS based monitoring practices are largely considered as a second-rate science, mainly because of improper scrutiny over data collection and validation process. Perhaps due to that reason, CS based research outputs are often placed under project outreach publications (Bonney et al., 2014). Nevertheless, many CS projects, mainly large scale monitoring activities, have been using established protocols for data collection and sharing practices. As a result, there is now an increasing number of scientific publications based on CS data (for example, Sullivan et al., 2017; Loiselle et al., 2016; Vincent et al., 2017). We have also noticed such suspicion in both cases, especially from some stakeholder organizations such as DHM and district level authorities. Their main concern was on how to maintain these monitoring sites in the longer term. DHM also suggested to carry our more experimental research in other parts of the country before adopting into their hydrological monitoring system. It is now crucial that CS data and knowledge need to be systematically used in improving water ES management. Successful CS activities are typically cost effective, excellent in public engagement and often entail innovative technologies in monitoring activities (Pocock et al., 2014). This has been well demonstrated in the projects reported here, notably the potential for low-cost LiDAR sensors to be widely applied to monitor flood risk. Most large scale CS projects have established standard data collection and verification methods, for example, ebird and OPAL projects have been deploying systematic data quality verifying processes. CS activities have also created social benefits by raising public awareness about local environmental concerns and promoting local engagements (Palacin-Silva et al., 2016). Nevertheless, CS practices have yet to create real impact in B. Pandeya et al. Current Research in Environmental Sustainability 3 (2021) 100059 9 policy and decision making. CS projects are particularly not coherent in scientific methodologies (Bonney et al., 2014) and also face ethical issues about data collection methods and their acceptance among scientists (Riesch and Potter, 2014). Maintaining conflicts of interests, data exploitation, data disclosure and intellectual property are crucial to prove CS practices scientifically robust (Resnik et al., 2015). Despite several concerns in contemporary CS practices, the concept offers a new opportunity in environmental monitoring as the public interests and willingness to participate has been increasing across the disciplines. Both case studies experienced these key challenges, especially gaining end users trust in sensors and CS data was a major challenge. There is a need for locally tailored sensors and continuing local engagement. Despite the active local participation in both sites, we also found that CS projects are still facing multiple challenges in terms of the extent to which local volunteers can use scientific methodologies such as user practices, sensor technologies, data aggregation, data quality control, privacy issues, recognition of local contribution and data accessibility. Nevertheless, a systematic use of CS approach could generate locally relevant data and help addressing water resources management challenges at local scale. To achieve desirable outcomes, CS projects need to identify right technologies alongside a plan for empowering citizen's ability to use those technologies in monitoring and data management practices (Roy et al., 2012). Local volunteers and participating stakeholders need to understand key issues such as their access to the internet, time to do the CS work, ability to follow scientific data collection protocols and web-based data management practices (Geoghegan et al., 2016). Data generated by affordable sensors should be robust enough to use in scientific purpose, and it is also desirable that collected data can be useful in local decision making. Although the role of new and affordable technologies is immense, the methods used in data collection and visualization need to be scrutinized. A successful integration of innovative CS practices should also be the interests of all participating stakeholders. Since collaborative research is now progressing from its traditional role as awareness raising tool to generating new data, incorporating local perspectives and knowledge and then recognizing them as a norm for effective decision making (Palacin-Silva et al., 2016), CS could become a complimentary approach in that direction. Since public volunteers are generating sizeable data and local knowledge through collaboration with research institutions, CS practices could make positive impacts in water and ES management. Although the citizen science is a promising approach for both agricultural water management and flood risk reduction, successful integration and its sustainability are key challenges at local to basin scale decision making. While there is a strong component of innovative technological aspect, further experimental research may be required before adopting the approach as a viable and alternative approach. The sustainability issue could be addressed by developing a close collaboration with local partners and communities. In addition, capacity building of end users is essential to ensure the successful embedment of the approach in local decision making. If these major challenges are properly addressed, CS based hydrological monitoring could be an effective strategy to improve water ES management in the long-term. 5. Conclusions and the way forward From the case study investigations, it is clear that the CS approach and low-cost sensors can play a central role in the polycentric governance of water ES management if sufficient attention is given to the way in which projects are designed, tailored and implemented in community settings. A key challenge is to ensure that the scientific merit of low-cost sensors and collected data is reconciled with the monitoring practices and protocols of decision-making bodies such as the DHM and local authorities. Our work shows that the relevant government and management authorities want to see further experiments and tests of fitness for purpose before integrating them into their monitoring system. The result of such caution is that large scale deployment of CS-based water data within water ES management is still far from realized. However, the use of low-cost and easy-to-use sensors means that CS approaches are gaining in credibility among this stakeholder group. With the roll out of ICT applications and online platforms, CS is becoming more accessible to local enthusiasts who can voluntarily contribute in data gathering by texting or uploading to relevant data repositories. Issues of data quality control and issues to do with central versus local ownership continue to slow progress. Building a strong partnership with communities and securing financial resources to continue monitoring activities can ensure the sustainability of CS activities. Since the voluntary participation of local people is largely driven by how a planned CS project is addressing local concerns of ecological and environmental issues, identifying those concerns is fundamental to any planned CS project to succeed. Hence, research experiments conducted in both of our study sites shows that key local stakeholders such as DHM and local government authorities are reluctant to either be involved in CS projects or directly use CS data in their decision making practices. We found evidence that an adaptive monitoring strategy may be needed to overcome such resistance, with a systematic integration of CS data and knowledge into decision making building strategic partnerships with stakeholder organizations and help securing necessary financial support and upscaling monitoring activities in other similar situations. Despite several challenges and limitations, there are reasons to be optimistic that well-designed CS projects can be integrated in water ES management in remote and data-scarce regions. From our experiments in Nepal, we highlight three key ingredients for success: Firstly, affordable and easy-to-use technologies should be identified and tailored to locally relevant hydrological data and the scope for knowledge cogeneration. While integrating new tools and technologies, local volunteers need to be trained to use them in situations where professional scientists and technicians will not be available or reachable. In many CS practices, local people merely become passive witnesses to the monitoring process rather than directly involved in it as a social practice. Although the greater availability of simplified tools would eventually cascade down to local scale as with the ICT and other technologies, we need to empower local volunteers and stakeholder organizations by giving targeted training and make the whole monitoring practice more integrated. Local stakeholders should be able to use such tools independently to generate data. The key question still remains unanswered whether water management authorities would be willing to integrate CS practices and low-cost sensors into their decision making practices. Secondly, the sustainability of CS-based monitoring activities needs to be clearly addressed upfront. This primarily means finding financial support to underpin CS activities over the long term and addressing issues such as how and who will provide the costs of monitoring practices, especially in poorer and remoter areas. Transferring the ownership of monitoring practice to local volunteer groups could encourage end users to source relevant financial resources. Incorporating local data and knowledge at the stages of both project design and implementation is also desirable. Similarly, maintaining local motivation is a major factor to improve monitoring activities in the long term. If CS projects should be more flexible and able to incorporate emerging environmental issues for the upscaling best practices and making them self-sustainable. Thirdly, robust data quality control and the integration of CS data into decision making are both essential. These conditions require standardized protocols for monitoring, data quality checks and early engagement and buy in by stakeholders and officials. Finally, when CS projects can establish a practice for quality engagements with local volunteers, professional scientists and decision makers, the approach could create a robust pathway for a citizen-centric environmental decision making. A robust and locally suited CS practice could offer reliable solutions to water ES management. B. Pandeya et al. Current Research in Environmental Sustainability 3 (2021) 100059 10 Author contributions BP produced the first draft of the paper and conducted the majority of the fieldwork on which it is based. WB designed the LiDAR sensor system. WB and CP contributed valuable inputs to the drafting and editing of the paper. Conflict of interests The authors have no competing interests to declare. \n",
            "‘Going digital’ Lessons for future coastal community engagement and climate change adaptation Ocean and Coastal Management 208 (2021) 105629 Available online 13 April 2021 0964-5691/© 2021 Elsevier Ltd. All rights reserved. ‘Going digital’ Lessons for future coastal community engagement and climate change adaptation E. McKinley a,*, P.R. Crowe b,c, F. Stori d, R. Ballinger a, T.C. Brew e, L. Blacklaw-Jones f, A. Cameron-Smith e, S. Crowley g, C. Cocco b, C. O’Mahony d, B. McNally b, P. Power b, K. Foley b a School of Earth and Environment, Cardiff University, Park Place, Cardiff, CF10 3AT, UK b School of Architecture, Planning and Environmental Policy, University College Dublin, Belfield, Dublin 4, Ireland c School of Civil Engineering, University College Dublin, Belfield, Dublin 4, Ireland d MaREI, the SFI Research Centre for Energy, Climate and Marine, Environmental Research Institute, University College Cork, Ireland e Port of Milford Haven, Gorsewood Drive, Hakin, Milford Haven, Pembrokeshire, SA73 3EP, UK f Pembrokeshire Coastal Forum, 2nd Floor, Pier House, Pembroke Dock, Pembrokeshire, SA72 6T, UK g Fingal County Council, County Dublin, Ireland A R T I C L E I N F O Keywords: Coastal communities Community engagement Adaptation Resilience CCAT A B S T R A C T Recent decades have witnessed a steady increase in efforts from a range of actors to facilitate and support meaningful and effective engagement with coastal communities and stakeholders. Indeed, this move towards improved participatory approaches are increasingly framed as being integral to successful and sustainable management of coastal resources and spaces, including in the context of climate adaptation The effectiveness of the processes, structures and frameworks underpinning coastal community engagement has always been subject to external and internal drivers; however, the global threat posed by COVID-19 presented, and continues to present, an unexpected shift in approach, and the need for rapid adaptation by those of us working within these spheres. Using the Coastal Communities Adapting Together (CCAT) project as a case study, we explore how engagement with coastal communities and stakeholders in the project areas of Fingal, Ireland, and Pembrokeshire, Wales, has been impacted and forced to adapt as a result of COVID-19. Through a qualitative data collection process, we explore how project teams across different scales have rapidly adapted their models of community and stakeholder engagement, identify successes and failures, and explore challenges that have been faced. Finally, we consider if the legacy of COVID-19 has provided an opportunity for coastal community engagement approaches being used across the globe to become more diverse, adapting to new technologies and increasing accessibility and effectiveness. Insights identified as fundamental to successful adaptation and enhancing resilience include: a rapid response to change, adoption of a diversity of techniques, broadened participation and supported social learning and knowledge exchange. 1. Introduction and context Engaging citizens and communities is considered a core element of coastal management processes (Ellsworth et al., 1997). The advent of more integrated approaches to coastal management (i.e. integrated coastal zone management/integrated coastal management [ICZM/ICM]), particularly from the 1990s onwards resulted in multi-actor involvement and stakeholder engagement becoming common features in coastal management initiatives; to such an extent that “the involvement of all parties” was codified as a principle of good practice (Ballinger et al., 2010). Within Europe, the European Commission advocates the principle of subsidiarity whereby governments are urged to support the empowerment of local communities, including local government, to secure local sustainability of the coastal environment. Responding to growing calls for enhanced public participation (see for example, McKinley and Fletcher, 2012), coastal management processes in many European countries have typically adopted a “bottom-up” approach whereby local communities have engaged with other stakeholders to co-design and co-implement management of coastal areas and resources (O’Hagan and Ballinger, 2009; McKenna and Cooper, 2006). In the UK, this was perhaps best demonstrated by the roll-out of various coastal fora which operate partnership models to address the challenges of: * Corresponding author. E-mail address:  (E. McKinley). Contents lists available at ScienceDirect Ocean and Coastal Management journal homepage:   Received 30 November 2020; Received in revised form 17 March 2021; Accepted 20 March 2021  www.sciencedirect.com/science/journal/09645691 https://     Ocean and Coastal Management 208 (2021) 105629 2 policy coherence; balancing development and ecological needs; and multi-use in the coastal environment (see for example Pembrokeshire Coastal Forum, Severn Estuary Partnership, Devon Maritime Forum). In Ireland, the coastal partnership model was not as prevalent but instances of local communities progressing ICM were established in a number of locations ((O’Hagan and Ballinger, 2009); Falaleeva et al., 2011). At an Irish Sea level, projects such as the Coastal Communities Network highlighted the breadth of practices and processes involving communities in the management of their coastal resources. Despite these initiatives, engaging with coastal communities and stakeholders has had varying levels of success, with engagement with citizens and communities in coastal management processes ranging from non-participatory levels (e.g. manipulation), intermediate levels (e.g. information and consultation), to being fully participative (from partnership to absolute citizen control) (as per the Ladder of Participation Arnstein, 1969). For ICZM/ICM processes good practice calls for stakeholder participation throughout the iterative implementation cycles – from issue identification at the outset, to evaluation of outcomes towards the end of the management process (Olsen, 2003). Traditional approaches to stakeholder engagement include meetings, focus groups, community surveys and interviews which serve as a means to: facilitate dialogue between different stakeholders; build relationships through identification of mutual goals; capture tacit knowledge; and engender buy-in to the process at hand. Historically, engagement has perhaps leant more towards the non-participatory approaches more commonly associated with consultations; however, as calls to improve public levels of ocean literacy and marine citizenship have continued to grow in recent years (UNDOS, 2020; McKinley et al., 2020; Jefferson et al., 2015; McKinley and Fletcher, 2010; 2012), the methodological toolbox being applied by these coastal fora and other organisations to support community engagement has diversified (see for example Burdon et al., 2019; Stori et al., 2019; Grilli et al., 2021). Furthermore, recent work by McKinley and Jefferson (2020) sets out best practice principles of stakeholder and community engagement, which builds on internationally recognised standards to support effective engagement, including use of the emerging and innovative tools. The growth of citizen science has added to the value that individuals and communities can bring to coastal management, particularly important in relation to observation and monitoring data that can be collected at a scale which can inform decision-making, allowing for improved understanding of critical elements of coastal socio-ecological systems. As citizens and communities take on an increasingly participative role in the design and implementation of management processes, the opportunity increases to fully harness their capacity, agency, knowledge, and expertise to deliver sustainable and equitable management of marine and coastal spaces. It is important to acknowledge at the outset that COVID-19 is first and foremost a global public health crisis, which has resulted in tragic and devastating consequences for individuals, families, and their communities. While acknowledging the severity and seriousness of the pandemic on communities across the world, coastal communities have been recognised as one of the most vulnerable (Northrop et al., 2020) – with pre-existing challenges including climate change, and its impacts, remaining one of the most significant threats facing these areas. These multiple challenges require ongoing efforts to ensure meaningful and effective community and stakeholder engagement can continue to support coastal management, and indeed adaptation and resilience within these communities and spaces. There is, therefore, an opportunity to explore how the unprecedented shifts in ways of working (van Bodegom and Koopmanschap, 2020) and the sudden need for adaptation to a rapidly changing and unpredictable situation in response to the COVID-19 pandemic could contribute to and engender wider adaptive capacity to support future coastal management. A recent survey of 25, 000 researchers found that approximately 80% reported that they have managed to adapt working practices to perform their role and maintain a level of continuity due to COVID-19 pandemic (Rijs and Fenter, 2020). Climate change and environmental concerns were mentioned by many respondents, with some drawing parallels between the immediate action taken to mitigate COVID-19 and the kind of action needed to tackle environmental threats. Using the Interreg Ireland-Wales funded Coastal Communities Adapting Together (CCAT) project’s case study sites in Ireland and Wales as a lens to explore this (www.ccatproject.eu), we seek to understand how engaging with coastal communities and stakeholders has been impacted and adapted to the unprecedented disruption brought about by the COVID-19 pandemic. Drawing insights through a detailed survey, this paper investigates the implications for coastal community engagement and what this might mean for future coastal management, through the following key questions: ● What have the opportunities and challenges been for maintaining and continuing effective and meaningful community engagement in response to COVID-19? ● What do these experiences mean for community engagement in the future? ● How has this adaptation process contributed to the development of innovative social engagement methodologies to support adaptive capacity and resilience for coastal communities in the future? 2. Understanding adaptation to change: methodological approach 2.1. Introduction to CCAT CCAT sets out to build adaptive capacity to change and realise the potential of the Irish Sea region by (re)connecting coastal communities with their place, improve understanding of dynamic coastal systems and facilitate climate action. The project extends work carried out by the EU FP7 TURAS project (2012-16), where adaptive capacity was shown to relate to concepts within the community resilience literature (Crowe et al., 2016) such as social memory informed by past and present learning (Wilson 2012; Yorque et al., 2002); social networks that are key to information flow (Pelling et al., 2008); participatory processes that actively engage the community in solving problems and achieving objectives (Pelling, 2003); and the import of utilizing human imagination and anticipation (Davidson 2010). CCAT recognises the potential of these concepts to inform decision-making and new ways of doing things, empower the community to act as agents of change (Cox and Johnson 2010; Pelling 2003), and generate a sense of belonging and attachment to place (Wilson 2012). CCAT considers the work of the Scottish biologist and town planner Patrick Geddes (1854–1932) to be an historical precedent for building adaptive capacity to change in communities. Geddes identified that in order to make a transition it is necessary to involve the entire community in identifying drivers of change over time, and that active participation, for example through participatory mapping, can provide a mechanism for civic engagement with local issues (Crowe and Foley 2017; Gray et al. 2014, 2019). The CCAT proposal brings these ideas from Geddes into the 21st century to build adaptive capacity and community resilience. The CCAT project focuses on two case study areas on either side of the Irish Sea (Fig. 1): ● Portrane, Fingal, where coastal erosion and flooding in Natura 2000 sites are threatening coastal ecosystems and biodiversity and destroying private homes and gardens. CCAT is working with Fingal County Council to respond to challenges such as a lack of policy on coastal management in Ireland; a lack of agency for local authorities to act; a disconnect with social-ecological systems; and unauthorized development and illegal dumping by property owners attempting to create localised sea defences. ● Pembroke Dock and Milford Haven, Pembrokeshire, where CCAT is working with the Port of Milford Haven on the transition from hydrocarbon industrial activities to renewable energy, responding to challenges such as a poor retention of young people in the area; the E. McKinley et al.  Ocean and Coastal Management 208 (2021) 105629 3 transformation of an historic dockyard for new uses; and a lack of awareness of the potential of marine renewables. The project aims to engage a broad cross-section of the community with change; build support for climate adaptation; generate a renewed sense of belonging and pride in the two case study areas; and facilitate cross-border understanding and collaboration with coastal change. Project activities fall under 3 key pillars: Observation, Sense-making and Co-creation. Building on earlier concepts of environmental and marine citizenship (Hawthorne and Alabaster, 1999; Fletcher and Potts, 2007; McKinley and Fletcher, 2010, 2012) the activities contribute to, or inform, the concept of coastal climate citizenship (McNeal et al., 2014; Fig. 1. Map of CCAT project case study communities of Fingal, Ireland and Pembrokeshire, Wales. E. McKinley et al. Ocean and Coastal Management 208 (2021) 105629 4 Ostrom, 2000), developing initiatives that might be education resources, behaviour change initiatives and/or memorable experiences. Activities include participatory mapping, augmented reality (AR), virtual reality (VR), animation, GeoDesign and GeoGames. The project also exchanges knowledge and experience across the Irish Sea border, for example in relation to attitudes to climate change or coastal management policy and practice. In addition, the project has operated according to an eco-code from its inception, which includes the prioritisation of sustainable modes of transport and dominantly plant-based eating options for consortium events. 2.2. Case study activities To gather insight into the adaptive process that the CCAT project partners have undertaken since March 2020, a structured questionnaire was produced for all partners to complete. This included a series of open questions covering a range of themes: 1) description of the CCAT engagement activity, 2) description of how the activity has evolved and adapted in response to COVID-19 restrictions, and finally, 3) the challenges and opportunities for coastal community engagement in coastal management, both immediately and in the future. Questions posed to participants were open to allow in-depth exploration of these topics (questionnaire template is available in the Supplementary Material). Where required, supplementary interviews were conducted to gather additional insight or clarification of the points made by participants. Across the CCAT project, four engagement activities were selected as case study activities (summarised in Table 1). These represent a range of approaches, target audiences, and focus, and were used as test cases to explore how the projects’ planned community and stakeholder engagement initiatives evolved in response to COVID-19, and how this adaptation could be beneficial for future coastal management. Qualitative data collected through the questionnaire was analysed using standard qualitative analytical processes, including repeated reviews of the text, with an emergent thematic coding process used to highlight common themes (Braun and Clarke, 2006). Where appropriate, quotes are presented in italics to support the presentation of the results in the discussion. 3. Results and discussion With participatory approaches a fundamental aspect of the programme of work set out by the CCAT project team, the implications of COVID-19 restrictions had the potential to derail the engagement activities envisaged. One of the most immediately felt impacts was the cancellation and delay of in-person events, workshops, and data collection processes across the project (summarised in Table 1). Given the complexity, sensitivity and, indeed sometimes scepticism, that can be commonly associated with topics linked to climate change (McNally 2020; Shi et al., 2016; Capstick et al., 2015), there were concerns that a move to a wholly digital approach would limit opportunities for inclusive, meaningful and effective public engagement in the CCAT project areas. This section explores the impacts of COVID-19 experienced across four case study activities, highlighting adaptation from the project team and opportunities for improved coastal community engagement, while recognising a range of challenges which we must remain cognisant of as we look to a future post COVID-19. The data collected on each of the activities undertaken through CCAT is summarised in Table 1. While there was a diverse breadth of information garnered from CCAT partners, the themes most commonly identified by the team are discussed below. 3.1. Adapting to the impacts COVID-19: the opportunities While it is noted that the four case study activities presented in this paper represent a diverse range of characteristics, including differing target audiences, approaches and rationales, adaptation to COVID-19 was commonly characterised by a move from planned in-person activities to an online, digital approach to activity delivery. Through analysis of the questionnaires, insight was gathered as to the adaptation process undertaken through each activity, and the implications for both community engagement and the CCAT project partner. A number of common themes were identified by partners, discussed below. 3.1.1. Improving access and opportunities to engage While moving to digital platforms was thought to pose a number of challenges for community engagement (these will be discussed later in the paper), overall, there was evidence that delivering events and activities through digital platforms can improve community participation and engagement, broadening accessibility for some groups within the community. This improved access to engagement opportunities for some segments of the community was noted in all four case study activities, with examples including increase in online attendance at related events by the Port of Milford Haven. This was commented on particularly by UCD, who stated that “hosting the workshop online [provided] more opportunity for more people from local communities to attend…from the comfort of their own home”, while others suggested that a move online could facilitate more engagement from younger members of the community, who are often difficult to engage through in-person events. Furthermore, it was also noted that some of the challenges often experienced during traditional, in-person stakeholder events, such as managing the ‘loudest voice’, maintaining and ensuring confidentiality of responses and so on, can be less of a concern through online workshops/events. As a result, there was a feeling that use of digital platforms can lead to more equitable and inclusive engagement, with participants able to access information at a time convenient to them (seen through the FCC public consultation event) or provide their own input into a participatory mapping process (as evidenced by the POMH Heritage App) and have been shown to facilitate participants’ visualisation of a range of emotions, roles and scenarios (Wu and Lee, 2015). These benefits were further emphasised by PCF, who commented that while their online workshops were smaller than originally planned, “the benefit of running smaller workshops is that the workshops feel more personal and tailored to the [attendees], and facilitators have more time to respond…and help”. There was a feeling that this, along with the other benefits of working in a digital environment, led to “higher quality engagement and group discussions”, with opportunities to share resources that attendees can access straight away via online platform ‘chat’ functions. This kind of immediate, real-time peer-to-peer knowledge sharing, and social learning has been shown to play an important role in climate change related behaviour change (Rumore et al., 2016), and is perhaps something that would not have been experienced in the original in-person workshop. While reduction in group size could potentially lead to reduced representation within a group, in the case of the online workshops run by PCF, they were designed in such a way that a similar participant experience can be delivered multiple times to different audiences. This need for repeated delivery of engagement activities, and the time and resources required to deliver an effective programme needs to be accounted for within project design and implementation. 3.1.2. Building capacity and transferable skills In particular, having to adapt to COVID-19 through a move to digital platforms has resulted in an expansion of the suite of tools being used by project partners as part of their community engagement activities. The additional learning and training that has been carried out across the project team has facilitated an increase in capacity and individual learning, allowing individuals and teams to develop new skills which can be applied across CCAT, as well as in other areas of their work. One respondent stated that this has “expanded our expertise and allowed us to become more flexible with how we deliver our [activities]”. This adoption of technology and new skills was not a benefit only experienced by the project team – “community awareness of various digital communication platforms has significantly increased; digital skills have increased. People E. McKinley et al. OceanandCoastalM anagement208 (2021)105629 5 Table 1 Summary of CCAT case study activities and their adaptation to COVID-19. Partner Activity Location Type of community engagement activity Target Audience Pre-COVID approach Adapted approach Selection of key observations Local Authority (FCC)a Managing a community consultation on coastal defences Fingal, Ireland Public consultation event Residents and local community members An in-person information session to share: i) recommendations from a specially commissioned report on the available options for mitigating coastal erosion for the Portrane area and ii) the rationale for the preferred coastal defence option identified by consultants. Initial consultation was delayed by 6 months, and moved to an online consultation platform, including use of a digital consultation room to provide attendees with access to required information, as well as utilizing other online meeting platforms, such as Microsoft Teams. Lack of public experience with digital platforms. Fewer people attended the online consultation than have attended in-person events the past. Limited opportunity for organic discussion among local community participants. Still requests for in-person meetings, with the feeling that online meetings being too impersonal for dealing with emotive issue. Online format facilitates flexibility for participants to engage over multiple sessions and times at their convenience. Information relating to the event is consistently available. 3rd level (UCD)a Engaging students with systems thinking using Geodesign Fingal, Ireland Pilot study to support further public engagement events using Geodesign techniques University students Initially planned as an in-person Geodesign event, with each group of participants using a laptop to enter their proposals. The planned multi-session workshop was transferred online. A company called GeoDesign Hub was engaged to provide the software and support for the workshop. Due to the digital nature of the workshops, this activity was relatively easy to transfer to an online format, although there were both challenges and benefits. Additional facilitation expertise was required to support student engagement. Online workshops required more preparation and planning. Access to high quality broadband service varied. Increased opportunity for disengagement from students in an online format e.g. not completing tasks or not engaging in activities/discussions. There was a loss of understanding of the environment being discussed as a result of not being able to visit the site e.g. loss of enhanced perception such as sound, smell, touch, visuals. Increased accessibility. Reduced carbon footprint of event due to lack of travel and venue hire. Coastal Forum (PCF)a Climate change game Pembrokeshire, Wales Interactive card game to raise awareness and stimulate Local community members, residents, local An hour-long climate change themed workshop using a card-based tool taking Only one in-person event was run before COVID-19 restrictions were Online approach is more resource intensive, requiring multiple (continued on next page) E. M cK inley et al. OceanandCoastalM anagement208 (2021)105629 6 Table 1 (continued ) Partner Activity Location Type of community engagement activity Target Audience Pre-COVID approach Adapted approach Selection of key observations discussion relating to climate change and impacts for local areas. interest groups, digital communities of interest groups (e.g. Facebook groups) participants through a thought process to identify, prioritise and discuss any extreme weather effects seen in their communities, the impacts of these locally and actions that can be taken in response to the weather changes and to minimise identified impacts. Climate data is taken from the most recent IPCC (2013; 2019) and Met Office (2019) reports and actions are taken from existing adaptation plans written by Fingal County Council (2019) and the Welsh Government (2019). implemented in Wales. In response, the PCF team explored online tools and platforms to move the game to a digital format, using Mural, an online platform which allows real-time visualisation and collaboration between participants. Participants in each workshop are invited to join a Zoom/Microsoft Teams call and are then given a URL to their unique Mural canvas. These platforms are used simultaneously to stimulate dialogue and conversation between participants. facilitators to deliver the workshop (using online meeting platforms and breakout room functionality). Challenge to reach audiences with lower levels of digital literacy or less confidence in engaging with online events. Reduced costs due to online delivery. Improved accessibility for participants. Online format has resulted in smaller workshops which can be tailored more carefully to the attendees, enhancing engagement and relevance. Industry Stakeholder (POMH)a Creation of an Augmented Reality Heritage App. Pembrokeshire, Wales Public engagement tool designed to explore and celebrate cultural heritage of Pembroke Dock telling the story of its various uses over time, on the eve of its latest proposed adaptation. Local community members, residents, local interest groups, digital communities of interest groups (e.g. Facebook groups) An in-person participatory mapping exercise, involving participants marking points and places of interest on physical, printed maps and engaging in discussion during the process. The in-person activity has evolved into an entirely digital process, using an online participatory mapping tool to collect the communities’ data. This tool is based on a GeoSurvey platform. Increased engagement from younger members of the community through the digital methods. Challenges associated with engaging individuals with limited digital literacy, or who are less likely to engage with online/ digital experiences and events. Moving online has required more planning and preparation to support meaningful engagement from participants. Method can foster maintained interest and engagement through digital processes. a CCAT Project partners: FCC – Fingal County Council; UCD – University College Dublin; PCF – Pembrokeshire Coastal Forum; POMH – Port of Milford Haven. E. M cK inley et al. Ocean and Coastal Management 208 (2021) 105629 7 have had no alternative but to explore and embrace digital communications… [with] benefits realised more widely”. Of course, it should be noted that this has not been driven solely by engagement with CCAT activities, rather this illustrates the widespread move to communicating and, indeed, living through online platforms is one of the everyday transformations that have been experienced as a result of COVID-19 restrictions. 3.1.3. Lowering costs of community engagement While analysis of the CCAT activities highlighted some unexpected costs associated with moving to a wholly digital project, overall, it was felt that online events reduced costs for both organisations and event attendees, which was viewed as a significant benefit by most. This was particularly mentioned by PCF, who stated that “once staff time has been accounted for, the actual cost of running the workshops online is negligible as we do not have travel costs and we don’t have to rent a room…to run the workshop in…we have secured a Mural account for educators, which is free of charge for a year”. In a wider context, it must be noted that the economic implications of COVID-19 and the associated restrictions are being keenly felt by communities, organisations, and local authorities, and the long-term impacts will perhaps not be fully realised for some time. These challenges, while exacerbated by COVID-19, are not new – many of the organisations involved in coastal management across the Irish Sea have experienced funding cuts in recent years (BBC, 2019; McKinley and Ballinger, 2018) and opportunities to recoup or reduce costs will be well received. 3.1.4. Reduced carbon footprint The CO2 emissions reduction in 2020 has been unprecedented, a median estimate of − 8% compared to 2019 levels (Dafnomilis et al., 2020); however, it should be noted that a consistent similar rate of decrease would need to be maintained for decades in order to achieve the global goal of 1.5 ◦C warming limit. From project initiation, the CCAT project team have adhered to a strict eco-code built into project design and delivery. While it is crucial to recognise that online tools and working digitally are not zero carbon (Lean ICT, 2019), as a result of the travel restrictions and limitations placed on in-person meetings, the overall carbon footprint of CCAT and its activities developed has been significantly reduced with no travel, no printing of materials (such as the maps for the GeoDesign workshop [as described by UCD], or the climate change card game [highlighted by PCF]). 3.2. Navigating the impacts COVID-19: the challenges 3.2.1. Digital literacy and access Although there have been clear benefits of moving public engagement activities to an online format (summarised in Table 1), the CCAT team expressed concern that this evolution may have resulted in segments of the community becoming more excluded from digital engagement as the transition to digital engagement tools prioritises access to broadband and marginalises those who lack confidence or experience of working online. All four projects highlighted this as a significant challenge of working in a solely online format, with POMH stating that “many of the residents we are hoping to reach are traditionally harder to reach in this format”. Organisations working in community engagement have historically turned to online platforms, particularly social media, as a way of enhancing their repertoire of in-person events and activities, with many benefits (Mosconi et al., 2017); however, it is of note that working solely in this way may potentially result in some members of the community becoming more alienated from the process and disengaging. Exploring this from a different angle, UCD’s case study activity led them to comment on the need for appropriate broadband connection, stating that “some students have poor broadband [which] can be very frustrating and can cause them to disengage or fall behind with the process”. Broadband provision is not consistent, with many coastal and rural communities experiencing poor connectivity (The Telegraph, 2019; Bashyal, 2020), emphasising the need for ongoing in-person activities and initiatives to ensure these communities are not excluded from opportunities to engage in the future. Furthermore, while there was a feeling that most of the project teams had migrated successfully to online working, there were a number of comments regarding managing ‘technology glitches’ (i.e. broken links, attendees lack of knowledge about certain platforms or tools), and the need for organisations to ensure there is adequate provision within the selected platform to appropriately support their community engagement activities (e.g. as mentioned by FCC who highlighted the need for an appropriate license to facilitate the use of breakout room functionality). 3.2.2. Restricted engagement While across the CCAT project there was a general feeling that online activities can facilitate meaningful and effective opportunities for engagement (as discussed in the sections above), it should be noted that a number of limitations associated with online meeting platforms were also mentioned by the team. There was a feeling from some that the digital engagement process can actually restrict effective consultation and meaningful engagement (as discussed by Rumore et al., 2016 for example), due to the need for more rigid planning, leading to reduced opportunities for in-depth discussion and the development of organic conversation (noted by POMH). Others mentioned that ‘body language is missing online’ (noted by UCD), which can make it harder to read a room and respond to the attendees’ needs. Other challenges relating to restricted engagement were associated with instances where individuals required more support and guidance during the process – in the case of the UCD project (see Table 1), this required the presence of an experienced facilitator. Other comments from UCD highlighted a number of potential issues, such as attendees multi-tasking during an online event, or the lack of opportunity for critical reflection and clarification, among other challenges. It was thought that these could lead to increased risk of disengagement during online sessions, reducing learning and limiting the insight which can be gleaned through effective community engagement activities. 3.2.3. Resource intensive Overall, there was a feeling that the move to an online format across CCAT projects required more planning and was often more resource intensive, requiring additional staff members to support event/activity delivery. This was commented on through all four of the case study activities, with PCF stating that “The main challenge [was] that converting the workshops to an online format initially required more staff time and resource”, while insight from the UCD project suggested that “more preparation time was needed to set up and manage the multi-session online workshop” with more staff required to support and manage various aspects of the task. Providing detailed joining instructions for attendees and facilitators (PCF explained about developing a facilitator guide to support the climate change card game, for example) prior to activities taking place was also highlighted by all groups – it was also mentioned by FCC that there was a need to run “multiple consultation events online, compared to a one-off community hall meeting”. While the overall running costs were considered to be much lower for ‘going digital’, the additional staff costs required need to be accounted for. This included time required to develop new skills, investigate appropriate digital tools and platforms to deliver adapted activities, develop digital competencies, train additional team members to support activities, and additional time planned into activities to ensure all attendees can interact with the selected digital platform to ensure equal opportunities for engagement. These must be taken into account when considering the role of online tools in future coastal community engagement. 3.3. Synthesis Prior to March 2020, there was already increasing evidence of a growing suite of innovative digital tools, methods, and approaches being E. McKinley et al. Ocean and Coastal Management 208 (2021) 105629 8 used to support meaningful community and stakeholder engagement in a range of contexts (Metscher et al., 2020; Roberts et al., 2013; Foth et al., 2009), including aspects of coastal management and climate change. The most common response to COVID-19 within all areas of community engagement was to ‘go digital’; CCAT exhibited a reticence for the project team to cancel activities entirely, as was initially seen in the earlier days of the pandemic, with a number of large public events being cancelled or postponed. However, the COVID-19 pandemic is a rapidly changing situation, and access to communities may continue to be influenced by restrictive measures (OXFAM, 2020). While there were clearly challenges to ‘going digital’, there are a wide range of benefits and opportunities that could be further harnessed to improve coastal community engagement in the future. For example, making resources and activities available online could result in those people who are traditionally not considered to be coastal stakeholders engaging remotely, such as those who live further inland and therefore may not always be able to attend events/meetings, or those who have been marginalised from marine and coastal issues. This could expand the definition of who should be considered a coastal citizen and foster a wider feeling of connection to the coast and ocean. As the project works to develop a model for coastal climate citizenship, and how it can be applied to support climate resilience and adaptive capacity across the coastal communities of the Irish Sea, this widening of the definition of what it means to be a ‘coastal community’ is of interest. Evidently, the adaptive capacity exhibited by the CCAT project has, for the most part, increased accessibility and opportunity for meaningful engagement with coastal communities through the use of a range of innovative digital tools. However, challenges remain. There is a need to consider that the experiences of 2020 are a snapshot in time, and would perhaps not be mirrored in other coastal communities, or indeed at another point in time when developing digital competencies was not as essential to everyday life with challenges in terms of digital literacy, limited desire for online engagement, prohibitive costs of technological developments, and lack of provision of high-speed internet connection in many coastal communities, particularly rural coastal communities (Bashyal, 2020). While using online tools is not new, 2020 has witnessed a much rapid and widespread adoption of online tools and digital platforms. There are clear benefits in working in this way, and there is therefore an opportunity for the tools showcased through the CCAT project to be explored further, particularly as mechanisms for increasing access and a sense of ownership and agency, enhancing ocean literacy and engender connection between communities and their coast. Looking to the future, there is an opportunity for us to draw on the successes of this period, learn from the rapid migration to online working, and explore more opportunities for coastal community engagement to become more inclusive and accessible, through developing a suite of hybrid and multi-modal engagement materials and tools. For this to be successful, however, appropriate resource, funding, and capacity building opportunities will need to be available to those working within the wider field of coastal community engagement. Additionally, evaluating the success and effectiveness of digital technologies as mechanisms for enhancing coastal community engagement should be considered as good practice and incorporated into wider coastal management processes (e.g. Jacobsen et al., 2014) particularly as we continue to adapt to emerging technology innovations (McKinley et al., 2020). As we begin to see a return to ‘normality’, embedding evaluation as a central tenet of community engagement processes will ensure any unintended consequences and/or biases can be identified to ensure coastal community engagement continues to develop best practice to minimise any potential negative impacts and ascertaining which aspects of ‘going digital’ are genuinely beneficial for different audiences. Researchers stressed the importance of learning from the COVID-19 pandemic and apply those lessons to climate change action, allowing us to become more resilient in the future (Rijs and Fenter, 2020; Ruiu et al., 2020). The COVID-19 crisis has convincingly demonstrated that societies can adapt quickly, and individuals can change aspects of their lifestyles, if an imminent threat occurs. Hence, achieving behavioural changes that mitigate climate change might be more within reach than previously thought (Botzen et al., 2021). This paper emphasises the role and responsibility for research projects to ‘practice what they preach’ in terms of climate change adaptation and low carbon targets. COVID-19 represents a significant hurdle for the project team; however, it has highlighted the capacity to adapt to successfully working online, with only limited impacts on collaboration and engagement across the project team. While there are clearly some environmental benefits to ‘going digital’, it is important to note that it may come at a cost if some members of the community become disenfranchised with issues relating to their coastal area and its management, due to lack of digital literacy, prohibitive costs of emerging technologies (e.g. design and development of virtual reality platforms), limited capacity to develop and implement digital solutions. It is crucial that those working across coastal management are mindful of these potential pitfalls as this transition continues. To truly realise the potential benefits of digital technologies for community engagement, continual evaluation and reflexive processes must be regularly undertaken to ensure community engagement which is site and audience appropriate. 4. What next: concluding remarks Looking to the future and drawing on current thinking about the impacts of COVID-19 for social change, there is growing evidence that behaviours can change abruptly, that these changes come at a cost, that we need a ‘social mandate’ to ensure these changes remain in the longterm, and that science plays an important role in informing this process (Howarth et al., 2020). While the COVID-19 response might not be a suitable model for climate action which may require a more carefully planned and calibrated, inclusive, less disruptive and more sustained response, what is clear from this study, however, is, that when pressed, adaptation can be fast-tracked, responsive and viewed as positive action. While the CCAT project is a relatively short, pilot project, it has showcased the opportunity of looking to innovative and novel contributions to community engagement and exploring how these can be used to support effective coastal management for the future. Recent months have illustrated how we can adapt to drastic changing situations and how to build resilience in the midst of chaos. While going to a fully digitalised process of community engagement would present its own challenges, it is evident that digital technologies have significant benefits. There will not be a one size fits all solution, however, and we suggest a need for blended approaches to engaging diverse audiences on the complex, and often multiple, hazards and challenges experiences in coastal communities – going to where people are within their own comfort zones to engage them in the most effective and meaningful way. Drawing further insight from the CCAT case studies, there is perhaps a need for governments to act on the climate emergency, and much needed climate change adaptation in coastal communities, with the same urgency and energy as has been fundamental to the response to COVID-19. The CCAT project adaptations examined and verified in this study, such as quick response to change, employment of a diversity of digital tools for learning and community engagement, opportunity to broaden participation, and the encouragement of social learning even in extreme situations, are recognised features of social-ecological resilience and should be integrated into community engagement frameworks to support future climate change adaptation in coastal communities. Finally, as this evolution of coastal community engagement continues and perhaps transitions to a more digital, or at the very least, a hybrid, way of working, embedding monitoring and evaluation into programmes of work is critical to ensure efficacy and avoid any unintended negative consequences. Declaration of competing interest The authors declare the following financial interests/personal E. McKinley et al. Ocean and Coastal Management 208 (2021) 105629 9 relationships which may be considered as potential competing interests: All Authors reports financial support was provided by European Regional Development Fund. \n"
          ]
        }
      ]
    },
    {
      "cell_type": "code",
      "source": [
        "data.columns"
      ],
      "metadata": {
        "colab": {
          "base_uri": "https://localhost:8080/"
        },
        "id": "bs-neUeFRneb",
        "outputId": "16c3016e-cab8-44c4-a880-02c323d5ac7e"
      },
      "execution_count": null,
      "outputs": [
        {
          "output_type": "execute_result",
          "data": {
            "text/plain": [
              "Index(['Unnamed: 0', 'fulltext', 'Authors', 'Title', 'DOI', 'Abstract',\n",
              "       'fulltext_clean', 'Abstract_clean', 'count_ref', 'fulltext_noref',\n",
              "       'count_ref1', 'fulltext_no_Aknow', 'discussion', 'conclusion'],\n",
              "      dtype='object')"
            ]
          },
          "metadata": {},
          "execution_count": 313
        }
      ]
    },
    {
      "cell_type": "markdown",
      "source": [
        "## How many tokens has discussion? "
      ],
      "metadata": {
        "id": "GF9XtazYA4EK"
      }
    },
    {
      "cell_type": "code",
      "source": [
        "!pip install spacy -qq\n",
        "!python -m spacy download en_core_web_md "
      ],
      "metadata": {
        "colab": {
          "base_uri": "https://localhost:8080/"
        },
        "id": "JzVfl-Z-t48_",
        "outputId": "2784105a-a24e-462d-a4bd-d8e366201472"
      },
      "execution_count": null,
      "outputs": [
        {
          "output_type": "stream",
          "name": "stdout",
          "text": [
            "Collecting en_core_web_md==2.2.5\n",
            "  Downloading https://github.com/explosion/spacy-models/releases/download/en_core_web_md-2.2.5/en_core_web_md-2.2.5.tar.gz (96.4 MB)\n",
            "\u001b[K     |████████████████████████████████| 96.4 MB 75.1 MB/s \n",
            "\u001b[?25hRequirement already satisfied: spacy>=2.2.2 in /usr/local/lib/python3.7/dist-packages (from en_core_web_md==2.2.5) (2.2.4)\n",
            "Requirement already satisfied: setuptools in /usr/local/lib/python3.7/dist-packages (from spacy>=2.2.2->en_core_web_md==2.2.5) (57.4.0)\n",
            "Requirement already satisfied: numpy>=1.15.0 in /usr/local/lib/python3.7/dist-packages (from spacy>=2.2.2->en_core_web_md==2.2.5) (1.19.5)\n",
            "Requirement already satisfied: preshed<3.1.0,>=3.0.2 in /usr/local/lib/python3.7/dist-packages (from spacy>=2.2.2->en_core_web_md==2.2.5) (3.0.6)\n",
            "Requirement already satisfied: catalogue<1.1.0,>=0.0.7 in /usr/local/lib/python3.7/dist-packages (from spacy>=2.2.2->en_core_web_md==2.2.5) (1.0.0)\n",
            "Requirement already satisfied: tqdm<5.0.0,>=4.38.0 in /usr/local/lib/python3.7/dist-packages (from spacy>=2.2.2->en_core_web_md==2.2.5) (4.62.3)\n",
            "Requirement already satisfied: blis<0.5.0,>=0.4.0 in /usr/local/lib/python3.7/dist-packages (from spacy>=2.2.2->en_core_web_md==2.2.5) (0.4.1)\n",
            "Requirement already satisfied: murmurhash<1.1.0,>=0.28.0 in /usr/local/lib/python3.7/dist-packages (from spacy>=2.2.2->en_core_web_md==2.2.5) (1.0.6)\n",
            "Requirement already satisfied: cymem<2.1.0,>=2.0.2 in /usr/local/lib/python3.7/dist-packages (from spacy>=2.2.2->en_core_web_md==2.2.5) (2.0.6)\n",
            "Requirement already satisfied: requests<3.0.0,>=2.13.0 in /usr/local/lib/python3.7/dist-packages (from spacy>=2.2.2->en_core_web_md==2.2.5) (2.23.0)\n",
            "Requirement already satisfied: wasabi<1.1.0,>=0.4.0 in /usr/local/lib/python3.7/dist-packages (from spacy>=2.2.2->en_core_web_md==2.2.5) (0.9.0)\n",
            "Requirement already satisfied: plac<1.2.0,>=0.9.6 in /usr/local/lib/python3.7/dist-packages (from spacy>=2.2.2->en_core_web_md==2.2.5) (1.1.3)\n",
            "Requirement already satisfied: thinc==7.4.0 in /usr/local/lib/python3.7/dist-packages (from spacy>=2.2.2->en_core_web_md==2.2.5) (7.4.0)\n",
            "Requirement already satisfied: srsly<1.1.0,>=1.0.2 in /usr/local/lib/python3.7/dist-packages (from spacy>=2.2.2->en_core_web_md==2.2.5) (1.0.5)\n",
            "Requirement already satisfied: importlib-metadata>=0.20 in /usr/local/lib/python3.7/dist-packages (from catalogue<1.1.0,>=0.0.7->spacy>=2.2.2->en_core_web_md==2.2.5) (4.10.1)\n",
            "Requirement already satisfied: zipp>=0.5 in /usr/local/lib/python3.7/dist-packages (from importlib-metadata>=0.20->catalogue<1.1.0,>=0.0.7->spacy>=2.2.2->en_core_web_md==2.2.5) (3.7.0)\n",
            "Requirement already satisfied: typing-extensions>=3.6.4 in /usr/local/lib/python3.7/dist-packages (from importlib-metadata>=0.20->catalogue<1.1.0,>=0.0.7->spacy>=2.2.2->en_core_web_md==2.2.5) (3.10.0.2)\n",
            "Requirement already satisfied: idna<3,>=2.5 in /usr/local/lib/python3.7/dist-packages (from requests<3.0.0,>=2.13.0->spacy>=2.2.2->en_core_web_md==2.2.5) (2.10)\n",
            "Requirement already satisfied: chardet<4,>=3.0.2 in /usr/local/lib/python3.7/dist-packages (from requests<3.0.0,>=2.13.0->spacy>=2.2.2->en_core_web_md==2.2.5) (3.0.4)\n",
            "Requirement already satisfied: urllib3!=1.25.0,!=1.25.1,<1.26,>=1.21.1 in /usr/local/lib/python3.7/dist-packages (from requests<3.0.0,>=2.13.0->spacy>=2.2.2->en_core_web_md==2.2.5) (1.24.3)\n",
            "Requirement already satisfied: certifi>=2017.4.17 in /usr/local/lib/python3.7/dist-packages (from requests<3.0.0,>=2.13.0->spacy>=2.2.2->en_core_web_md==2.2.5) (2021.10.8)\n",
            "\u001b[38;5;2m✔ Download and installation successful\u001b[0m\n",
            "You can now load the model via spacy.load('en_core_web_md')\n"
          ]
        }
      ]
    },
    {
      "cell_type": "code",
      "source": [
        "import spacy\n",
        "# the spaCy model:\n",
        "nlp = spacy.load(\"en_core_web_sm\")\n"
      ],
      "metadata": {
        "id": "1NGmhSVpt3T2"
      },
      "execution_count": null,
      "outputs": []
    },
    {
      "cell_type": "code",
      "source": [
        "data[\"token\"]=  data['discussion'].apply(lambda x: nlp(x))"
      ],
      "metadata": {
        "id": "BbimwUha7otZ"
      },
      "execution_count": null,
      "outputs": []
    },
    {
      "cell_type": "code",
      "source": [
        "data[\"total_token\"] = data[\"token\"].str.len()"
      ],
      "metadata": {
        "id": "ovOy7u09Al7K"
      },
      "execution_count": null,
      "outputs": []
    },
    {
      "cell_type": "code",
      "source": [
        "print(data[\"total_token\"].max())"
      ],
      "metadata": {
        "colab": {
          "base_uri": "https://localhost:8080/"
        },
        "id": "-v3-MMNmEuU8",
        "outputId": "0ac31e5e-bb61-410d-b400-cac1858b926e"
      },
      "execution_count": null,
      "outputs": [
        {
          "output_type": "stream",
          "name": "stdout",
          "text": [
            "6175\n"
          ]
        }
      ]
    },
    {
      "cell_type": "markdown",
      "source": [
        "### Drop unnecesary cols"
      ],
      "metadata": {
        "id": "ms0GIjwhE3Gx"
      }
    },
    {
      "cell_type": "code",
      "source": [
        "# droping unnecesary columns\n",
        "drop_cols = ['fulltext','Abstract','fulltext_clean','count_ref', 'count_ref1','fulltext_no_Aknow', 'conclusion', 'token',\n",
        "       'total_token']"
      ],
      "metadata": {
        "id": "T3cttWCjA-Ny"
      },
      "execution_count": null,
      "outputs": []
    },
    {
      "cell_type": "code",
      "source": [
        "df = data.drop(['fulltext','Abstract','fulltext_clean','count_ref', 'count_ref1','fulltext_no_Aknow', 'conclusion', 'token','total_token'], axis=1)"
      ],
      "metadata": {
        "id": "TdF-jNoQCY4i"
      },
      "execution_count": null,
      "outputs": []
    },
    {
      "cell_type": "code",
      "source": [
        "df.head(2)"
      ],
      "metadata": {
        "colab": {
          "base_uri": "https://localhost:8080/",
          "height": 277
        },
        "id": "rwCjSYePB8-x",
        "outputId": "1a8c45e0-c82d-4cb5-957a-ded35555ad2a"
      },
      "execution_count": null,
      "outputs": [
        {
          "output_type": "execute_result",
          "data": {
            "text/html": [
              "\n",
              "  <div id=\"df-4dce747b-25c0-49e9-9d5c-f4bce173079a\">\n",
              "    <div class=\"colab-df-container\">\n",
              "      <div>\n",
              "<style scoped>\n",
              "    .dataframe tbody tr th:only-of-type {\n",
              "        vertical-align: middle;\n",
              "    }\n",
              "\n",
              "    .dataframe tbody tr th {\n",
              "        vertical-align: top;\n",
              "    }\n",
              "\n",
              "    .dataframe thead th {\n",
              "        text-align: right;\n",
              "    }\n",
              "</style>\n",
              "<table border=\"1\" class=\"dataframe\">\n",
              "  <thead>\n",
              "    <tr style=\"text-align: right;\">\n",
              "      <th></th>\n",
              "      <th>Unnamed: 0</th>\n",
              "      <th>Authors</th>\n",
              "      <th>Title</th>\n",
              "      <th>DOI</th>\n",
              "      <th>Abstract_clean</th>\n",
              "      <th>fulltext_noref</th>\n",
              "      <th>discussion</th>\n",
              "    </tr>\n",
              "  </thead>\n",
              "  <tbody>\n",
              "    <tr>\n",
              "      <th>0</th>\n",
              "      <td>0</td>\n",
              "      <td>Kelly R,Fleming A,Pecl GT</td>\n",
              "      <td>Citizen science and social licence: Improving ...</td>\n",
              "      <td>10.1016/j.ocecoaman.2019.104855</td>\n",
              "      <td>Marine stakeholder groups have diverse relatio...</td>\n",
              "      <td>Citizen science and social licence_ Improving ...</td>\n",
              "      <td>The concept of social licence has many compon...</td>\n",
              "    </tr>\n",
              "    <tr>\n",
              "      <th>1</th>\n",
              "      <td>1</td>\n",
              "      <td>Kim G,Newman G,Jiang B</td>\n",
              "      <td>Urban regeneration: Community engagement proce...</td>\n",
              "      <td>10.1016/j.cities.2020.102730</td>\n",
              "      <td>Vacant land presents many challenges for older...</td>\n",
              "      <td>Urban regeneration_ Community engagement proce...</td>\n",
              "      <td>4.1. Understanding the problems and potential...</td>\n",
              "    </tr>\n",
              "  </tbody>\n",
              "</table>\n",
              "</div>\n",
              "      <button class=\"colab-df-convert\" onclick=\"convertToInteractive('df-4dce747b-25c0-49e9-9d5c-f4bce173079a')\"\n",
              "              title=\"Convert this dataframe to an interactive table.\"\n",
              "              style=\"display:none;\">\n",
              "        \n",
              "  <svg xmlns=\"http://www.w3.org/2000/svg\" height=\"24px\"viewBox=\"0 0 24 24\"\n",
              "       width=\"24px\">\n",
              "    <path d=\"M0 0h24v24H0V0z\" fill=\"none\"/>\n",
              "    <path d=\"M18.56 5.44l.94 2.06.94-2.06 2.06-.94-2.06-.94-.94-2.06-.94 2.06-2.06.94zm-11 1L8.5 8.5l.94-2.06 2.06-.94-2.06-.94L8.5 2.5l-.94 2.06-2.06.94zm10 10l.94 2.06.94-2.06 2.06-.94-2.06-.94-.94-2.06-.94 2.06-2.06.94z\"/><path d=\"M17.41 7.96l-1.37-1.37c-.4-.4-.92-.59-1.43-.59-.52 0-1.04.2-1.43.59L10.3 9.45l-7.72 7.72c-.78.78-.78 2.05 0 2.83L4 21.41c.39.39.9.59 1.41.59.51 0 1.02-.2 1.41-.59l7.78-7.78 2.81-2.81c.8-.78.8-2.07 0-2.86zM5.41 20L4 18.59l7.72-7.72 1.47 1.35L5.41 20z\"/>\n",
              "  </svg>\n",
              "      </button>\n",
              "      \n",
              "  <style>\n",
              "    .colab-df-container {\n",
              "      display:flex;\n",
              "      flex-wrap:wrap;\n",
              "      gap: 12px;\n",
              "    }\n",
              "\n",
              "    .colab-df-convert {\n",
              "      background-color: #E8F0FE;\n",
              "      border: none;\n",
              "      border-radius: 50%;\n",
              "      cursor: pointer;\n",
              "      display: none;\n",
              "      fill: #1967D2;\n",
              "      height: 32px;\n",
              "      padding: 0 0 0 0;\n",
              "      width: 32px;\n",
              "    }\n",
              "\n",
              "    .colab-df-convert:hover {\n",
              "      background-color: #E2EBFA;\n",
              "      box-shadow: 0px 1px 2px rgba(60, 64, 67, 0.3), 0px 1px 3px 1px rgba(60, 64, 67, 0.15);\n",
              "      fill: #174EA6;\n",
              "    }\n",
              "\n",
              "    [theme=dark] .colab-df-convert {\n",
              "      background-color: #3B4455;\n",
              "      fill: #D2E3FC;\n",
              "    }\n",
              "\n",
              "    [theme=dark] .colab-df-convert:hover {\n",
              "      background-color: #434B5C;\n",
              "      box-shadow: 0px 1px 3px 1px rgba(0, 0, 0, 0.15);\n",
              "      filter: drop-shadow(0px 1px 2px rgba(0, 0, 0, 0.3));\n",
              "      fill: #FFFFFF;\n",
              "    }\n",
              "  </style>\n",
              "\n",
              "      <script>\n",
              "        const buttonEl =\n",
              "          document.querySelector('#df-4dce747b-25c0-49e9-9d5c-f4bce173079a button.colab-df-convert');\n",
              "        buttonEl.style.display =\n",
              "          google.colab.kernel.accessAllowed ? 'block' : 'none';\n",
              "\n",
              "        async function convertToInteractive(key) {\n",
              "          const element = document.querySelector('#df-4dce747b-25c0-49e9-9d5c-f4bce173079a');\n",
              "          const dataTable =\n",
              "            await google.colab.kernel.invokeFunction('convertToInteractive',\n",
              "                                                     [key], {});\n",
              "          if (!dataTable) return;\n",
              "\n",
              "          const docLinkHtml = 'Like what you see? Visit the ' +\n",
              "            '<a target=\"_blank\" href=https://colab.research.google.com/notebooks/data_table.ipynb>data table notebook</a>'\n",
              "            + ' to learn more about interactive tables.';\n",
              "          element.innerHTML = '';\n",
              "          dataTable['output_type'] = 'display_data';\n",
              "          await google.colab.output.renderOutput(dataTable, element);\n",
              "          const docLink = document.createElement('div');\n",
              "          docLink.innerHTML = docLinkHtml;\n",
              "          element.appendChild(docLink);\n",
              "        }\n",
              "      </script>\n",
              "    </div>\n",
              "  </div>\n",
              "  "
            ],
            "text/plain": [
              "   Unnamed: 0  ...                                         discussion\n",
              "0           0  ...   The concept of social licence has many compon...\n",
              "1           1  ...   4.1. Understanding the problems and potential...\n",
              "\n",
              "[2 rows x 7 columns]"
            ]
          },
          "metadata": {},
          "execution_count": 327
        }
      ]
    },
    {
      "cell_type": "code",
      "source": [
        "# exporting the csv file \n",
        "df.to_csv('fulltext_discussion.csv')"
      ],
      "metadata": {
        "id": "SHjQisbdFAkM"
      },
      "execution_count": null,
      "outputs": []
    },
    {
      "cell_type": "code",
      "source": [],
      "metadata": {
        "id": "Y76V3YemFQV6"
      },
      "execution_count": null,
      "outputs": []
    }
  ]
}